{
 "cells": [
  {
   "cell_type": "markdown",
   "metadata": {},
   "source": [
    "## Type: Dynamic Programming (DP)"
   ]
  },
  {
   "cell_type": "markdown",
   "metadata": {},
   "source": [
    "### LC 121: Best Time to Buy and Sell stock\n",
    "\n",
    "Topics: Arrays, DP, Sliding Window"
   ]
  },
  {
   "cell_type": "markdown",
   "metadata": {},
   "source": [
    "<img src = \"img/q2.png\" style=\"width:700px;height:600px\"/>"
   ]
  },
  {
   "cell_type": "code",
   "execution_count": 15,
   "metadata": {},
   "outputs": [],
   "source": [
    "def compute_best_time(prices:list[int]) -> int :\n",
    "\n",
    "    # initialize mininum buying price, and maximum profit\n",
    "    buy_price, profit = float(\"inf\"), 0\n",
    "\n",
    "    # iterate over the prices while the left pointer and right pointer don't meet\n",
    "    for price in prices:\n",
    "        # if this price is lower than buy price, update buying price\n",
    "        buy_price = min(buy_price, price)\n",
    "\n",
    "        # compute max of the diff between sell and buy price\n",
    "        profit = max(profit, price-buy_price)\n",
    "\n",
    "    return profit"
   ]
  },
  {
   "cell_type": "code",
   "execution_count": 16,
   "metadata": {},
   "outputs": [
    {
     "data": {
      "text/plain": [
       "5"
      ]
     },
     "execution_count": 16,
     "metadata": {},
     "output_type": "execute_result"
    }
   ],
   "source": [
    "prices = [7,1,5,3,6,4]\n",
    "compute_best_time(prices)"
   ]
  },
  {
   "cell_type": "code",
   "execution_count": 17,
   "metadata": {},
   "outputs": [
    {
     "data": {
      "text/plain": [
       "0"
      ]
     },
     "execution_count": 17,
     "metadata": {},
     "output_type": "execute_result"
    }
   ],
   "source": [
    "prices = [7,6,4,3,1]\n",
    "compute_best_time(prices)"
   ]
  },
  {
   "cell_type": "markdown",
   "metadata": {},
   "source": [
    "<img src = \"img/lc53.png\"  style=\"width:600px;height:650px\"/>"
   ]
  },
  {
   "cell_type": "code",
   "execution_count": 1,
   "metadata": {},
   "outputs": [],
   "source": [
    "def getMaxSubArray(nums:list[int]) -> list[int]:\n",
    "\n",
    "    # initialize start and end of the subarray window\n",
    "    max_sum, current_max = -float(\"inf\"), -float(\"inf\")\n",
    "\n",
    "    # iterate through the nums list\n",
    "    for num in nums:\n",
    "        current_max = max(num, current_max+num)\n",
    "        max_sum = max(max_sum, current_max)\n",
    "\n",
    "    return max_sum"
   ]
  },
  {
   "cell_type": "code",
   "execution_count": 2,
   "metadata": {},
   "outputs": [
    {
     "data": {
      "text/plain": [
       "6"
      ]
     },
     "execution_count": 2,
     "metadata": {},
     "output_type": "execute_result"
    }
   ],
   "source": [
    "getMaxSubArray([-2,1,-3,4,-1,2,1,-5,4])"
   ]
  },
  {
   "cell_type": "code",
   "execution_count": 19,
   "metadata": {},
   "outputs": [
    {
     "data": {
      "text/plain": [
       "8"
      ]
     },
     "execution_count": 19,
     "metadata": {},
     "output_type": "execute_result"
    }
   ],
   "source": [
    "getMaxSubArray([-2,1,-3,4,-1,2,1,2,-5,4])"
   ]
  },
  {
   "cell_type": "code",
   "execution_count": null,
   "metadata": {},
   "outputs": [],
   "source": []
  },
  {
   "cell_type": "markdown",
   "metadata": {},
   "source": [
    "<img src = \"img/lc70.png\" style=\"width:600px;height:600px\"/>"
   ]
  },
  {
   "cell_type": "code",
   "execution_count": 12,
   "metadata": {},
   "outputs": [],
   "source": [
    "def numsOfWays(n:int) -> int:\n",
    "    # initialize numWays = 0\n",
    "    numWays = [0,1,2] # fill up the base cases\n",
    "\n",
    "    # base case: numWays[0] = 0, numways[1] = 1, numWays[2]= 1 + 1\n",
    "    if n <=2:\n",
    "        return numWays[n]\n",
    "\n",
    "    # iterate from 3 to n+1\n",
    "    for i in range(3, n+1):\n",
    "        # append numWays[n-1] + numWays[n-2]\n",
    "        numWays.append(numWays[i-1] + numWays[i-2])\n",
    "\n",
    "    # return numWays[n]\n",
    "    return numWays[n]\n",
    "\n",
    "\n"
   ]
  },
  {
   "cell_type": "code",
   "execution_count": 13,
   "metadata": {},
   "outputs": [
    {
     "data": {
      "text/plain": [
       "3"
      ]
     },
     "execution_count": 13,
     "metadata": {},
     "output_type": "execute_result"
    }
   ],
   "source": [
    "numsOfWays(3)"
   ]
  },
  {
   "cell_type": "markdown",
   "metadata": {},
   "source": [
    "**Time Complexity: O(n), Space Complexity: O(n), where n is value of  steps to climb.**"
   ]
  },
  {
   "cell_type": "markdown",
   "metadata": {},
   "source": [
    "<img src = \"img/lc53.png\" style=\"width:600px;height:600px\"/>"
   ]
  },
  {
   "cell_type": "code",
   "execution_count": 7,
   "metadata": {},
   "outputs": [],
   "source": [
    "def largestSubarraySum(nums):\n",
    "    max_sum, cont_sum = -float(\"inf\"), -float(\"inf\")\n",
    "\n",
    "    for num in nums:\n",
    "        # either include this num in current subarray or start a new subarray from this num\n",
    "        cont_sum = max(num, # current number is greater than max_sum\n",
    "                  cont_sum + num # or current sub_array w/ this num is greater\n",
    "                  )\n",
    "        max_sum = max(cont_sum, max_sum) # update the max sum if current subarray sum is greater than previous\n",
    "\n",
    "    return max_sum\n",
    "\n"
   ]
  },
  {
   "cell_type": "code",
   "execution_count": 8,
   "metadata": {},
   "outputs": [
    {
     "data": {
      "text/plain": [
       "6"
      ]
     },
     "execution_count": 8,
     "metadata": {},
     "output_type": "execute_result"
    }
   ],
   "source": [
    "largestSubarraySum([-2,1,-3,4,-1,2,1,-5,4])"
   ]
  },
  {
   "cell_type": "markdown",
   "metadata": {},
   "source": [
    "<img src = \"img/lc_322.png\" style=\"width:600px;height:600px\"/>"
   ]
  },
  {
   "cell_type": "code",
   "execution_count": 9,
   "metadata": {},
   "outputs": [],
   "source": [
    "def minCoins(coins, total_amount):\n",
    "    # initialize dp array of size amount + 1 (since we use first index for 0) with amount + 1\n",
    "    dp = [total_amount+1] * (total_amount + 1) #initialize with a high enough value EG: amount + 1 since that's not a possible solution\n",
    "    dp[0] = 0\n",
    "\n",
    "    for amount in range(1, total_amount+1): # bottom up approach\n",
    "        # find the min number of coins over all the available coins\n",
    "        for coin_value in coins:\n",
    "\n",
    "            # condition: if the coin value doesn't exceed the amount:\n",
    "            if coin_value <= amount:\n",
    "                dp[amount] = min(dp[amount], 1 + dp[amount - coin_value]) # 1: 1 of current coin\n",
    "\n",
    "    return dp[total_amount] if dp[total_amount] != total_amount + 1 else -1\n"
   ]
  },
  {
   "cell_type": "code",
   "execution_count": 10,
   "metadata": {},
   "outputs": [
    {
     "data": {
      "text/plain": [
       "3"
      ]
     },
     "execution_count": 10,
     "metadata": {},
     "output_type": "execute_result"
    }
   ],
   "source": [
    "minCoins([1,2,5], 11)"
   ]
  },
  {
   "cell_type": "code",
   "execution_count": 11,
   "metadata": {},
   "outputs": [
    {
     "data": {
      "text/plain": [
       "0"
      ]
     },
     "execution_count": 11,
     "metadata": {},
     "output_type": "execute_result"
    }
   ],
   "source": [
    "minCoins([1], 0)"
   ]
  },
  {
   "cell_type": "code",
   "execution_count": 12,
   "metadata": {},
   "outputs": [
    {
     "data": {
      "text/plain": [
       "-1"
      ]
     },
     "execution_count": 12,
     "metadata": {},
     "output_type": "execute_result"
    }
   ],
   "source": [
    "minCoins([2], 3)"
   ]
  },
  {
   "cell_type": "markdown",
   "metadata": {},
   "source": [
    "<img src = \"img/lc_416.png\" style=\"width:600px;height:600px\"/>"
   ]
  },
  {
   "cell_type": "code",
   "execution_count": 56,
   "metadata": {},
   "outputs": [],
   "source": [
    "def canPartition(nums: list[int]) -> bool:\n",
    "    # partition 1 and 2\n",
    "    part1 , part2 = [], []\n",
    "    diff = float(\"inf\")\n",
    "\n",
    "    # if sum is not even, equal partitions cannot be found\n",
    "    if sum(nums) % 2 != 0:\n",
    "        return False\n",
    "\n",
    "    # sort the nums\n",
    "    nums.sort()\n",
    "    print(nums)\n",
    "\n",
    "    # iterate in reverse order to start with big nums\n",
    "    for num in nums[::-1]:\n",
    "\n",
    "        # either num is in partition 1 or partition 2\n",
    "        sum_part1 = sum(part1)\n",
    "        sum_part2 = sum(part2)\n",
    "\n",
    "\n",
    "        if abs(sum_part1+num-sum_part2) <= abs(sum_part2+num-sum_part1):\n",
    "            part1.append(num)\n",
    "            diff = abs(sum_part1+num-sum_part2)\n",
    "\n",
    "        else:\n",
    "            part2.append(num)\n",
    "            diff = abs(sum_part2+num-sum_part1)\n",
    "\n",
    "\n",
    "\n",
    "    return True if diff == 0 else False\n"
   ]
  },
  {
   "cell_type": "code",
   "execution_count": 57,
   "metadata": {},
   "outputs": [
    {
     "name": "stdout",
     "output_type": "stream",
     "text": [
      "[1, 5, 5, 11]\n"
     ]
    },
    {
     "data": {
      "text/plain": [
       "True"
      ]
     },
     "execution_count": 57,
     "metadata": {},
     "output_type": "execute_result"
    }
   ],
   "source": [
    "canPartition([1,5,11,5])"
   ]
  },
  {
   "cell_type": "code",
   "execution_count": 58,
   "metadata": {},
   "outputs": [
    {
     "data": {
      "text/plain": [
       "False"
      ]
     },
     "execution_count": 58,
     "metadata": {},
     "output_type": "execute_result"
    }
   ],
   "source": [
    "canPartition([1,2,3,5])"
   ]
  },
  {
   "cell_type": "code",
   "execution_count": 59,
   "metadata": {},
   "outputs": [
    {
     "name": "stdout",
     "output_type": "stream",
     "text": [
      "[3, 3, 3, 4, 5]\n"
     ]
    },
    {
     "data": {
      "text/plain": [
       "False"
      ]
     },
     "execution_count": 59,
     "metadata": {},
     "output_type": "execute_result"
    }
   ],
   "source": [
    "canPartition([3,3,3,4,5])"
   ]
  },
  {
   "cell_type": "code",
   "execution_count": 34,
   "metadata": {},
   "outputs": [],
   "source": []
  }
 ],
 "metadata": {
  "kernelspec": {
   "display_name": "Python 3",
   "language": "python",
   "name": "python3"
  },
  "language_info": {
   "codemirror_mode": {
    "name": "ipython",
    "version": 3
   },
   "file_extension": ".py",
   "mimetype": "text/x-python",
   "name": "python",
   "nbconvert_exporter": "python",
   "pygments_lexer": "ipython3",
   "version": "3.7.7"
  }
 },
 "nbformat": 4,
 "nbformat_minor": 1
}
