{
 "cells": [
  {
   "cell_type": "markdown",
   "metadata": {},
   "source": [
    "# <span style=\"color:green\">Type: Binary Search</span>"
   ]
  },
  {
   "cell_type": "markdown",
   "metadata": {},
   "source": [
    "### LC 977: Squares of a Sorted Array\n",
    "Binary Search"
   ]
  },
  {
   "cell_type": "markdown",
   "metadata": {},
   "source": [
    "<img src = \"img/lc977.png\" style=\"width:400px;height:550px\"/>"
   ]
  },
  {
   "cell_type": "code",
   "execution_count": 23,
   "metadata": {},
   "outputs": [],
   "source": [
    "def sortSquaredArray(nums):\n",
    "    # initialize left and right pointers as first and last index\n",
    "    lp, rp = 0, len(nums)-1\n",
    "\n",
    "    # output = []\n",
    "    output = [1] * len(nums)\n",
    "\n",
    "    # iterate until the points don't overlap\n",
    "    for i in range(len(nums)-1,-1,-1):\n",
    "\n",
    "    # while lp < rp:\n",
    "        # start with the tip of the lists, note that the largest terms that exist should be towards the right tip or left tip if any negative number exists,\n",
    "        left_term_sq  = nums[lp]**2\n",
    "        right_term_sq = nums[rp]**2\n",
    "\n",
    "\n",
    "        # whichever term is larger add that to the result and update the corresponding pointer\n",
    "        if left_term_sq>right_term_sq:\n",
    "            # output.append(left_term_sq) # append the larger term\n",
    "            output[i] = left_term_sq\n",
    "            lp +=1\n",
    "\n",
    "        else:\n",
    "            # output.append(right_term_sq) #append the right term\n",
    "            output[i] = right_term_sq\n",
    "            rp -= 1 # decrement the right pointer\n",
    "\n",
    "    # now return the reverse list\n",
    "    # output.reverse()\n",
    "    return output"
   ]
  },
  {
   "cell_type": "code",
   "execution_count": 24,
   "metadata": {},
   "outputs": [
    {
     "data": {
      "text/plain": [
       "[0, 1, 9, 16, 100]"
      ]
     },
     "execution_count": 24,
     "metadata": {},
     "output_type": "execute_result"
    }
   ],
   "source": [
    "sortSquaredArray([-4,-1,0,3,10])"
   ]
  },
  {
   "cell_type": "code",
   "execution_count": 25,
   "metadata": {},
   "outputs": [
    {
     "data": {
      "text/plain": [
       "[4, 9, 9, 49, 121]"
      ]
     },
     "execution_count": 25,
     "metadata": {},
     "output_type": "execute_result"
    }
   ],
   "source": [
    "sortSquaredArray([-7,-3,2,3,11])"
   ]
  },
  {
   "cell_type": "code",
   "execution_count": null,
   "metadata": {},
   "outputs": [],
   "source": []
  },
  {
   "cell_type": "markdown",
   "metadata": {},
   "source": [
    "### LC 153: Find Minimum in Rotated Sorted Array"
   ]
  },
  {
   "cell_type": "markdown",
   "metadata": {},
   "source": [
    "<img src=\"img/lc153.png\" style=\"width:600px;height:700px\" />"
   ]
  },
  {
   "cell_type": "code",
   "execution_count": 83,
   "metadata": {},
   "outputs": [],
   "source": [
    "def findMin(nums):\n",
    "    \n",
    "    # length\n",
    "    length = len(nums)\n",
    "    \n",
    "    # initialize left and right ptrs\n",
    "    left, right = 0, length-1\n",
    "        \n",
    "    # iterate over the nums while left < right\n",
    "    while left <= right:\n",
    "        \n",
    "        # base case: fully sorted array\n",
    "        if nums[left] < nums[right]:\n",
    "            return nums[left] # for fully sorted array the min will be the first index\n",
    "\n",
    "        # compute mid point index\n",
    "        mid = left + ((right-left)//2) # mid-index current left-index + mid point of sub-array \n",
    "\n",
    "        # case 1: mid is greater than left val- then min should be on the right half\n",
    "        if nums[mid] > nums[left]: \n",
    "            left = mid + 1 \n",
    "            # if mid is greater than left, then it's part of contiguous array and the rotated bit should be on the right\n",
    "\n",
    "        # case 2: mid is less than the left val - then min should be on the left side\n",
    "        elif nums[mid] < nums[left]:\n",
    "            right = mid  \n",
    "            # if mid is less than the left, it's part of the rotated bit so the min should be this val or before this val\n",
    "\n",
    "        # case 3: if left == right, this is the only elem left, so must be min\n",
    "        if left == right:\n",
    "            return nums[left] # nums[left] = nums[right]=min\n",
    "        \n",
    "        # case 4: if left == mid, there should be two elements left, so return the min of these two\n",
    "        if left == mid:\n",
    "            return min(nums[left], nums[right])\n",
    "            "
   ]
  },
  {
   "cell_type": "markdown",
   "metadata": {},
   "source": [
    "#### Slightly Faster & Cleaner Approach:"
   ]
  },
  {
   "cell_type": "code",
   "execution_count": 86,
   "metadata": {},
   "outputs": [],
   "source": [
    "def findMin(nums):\n",
    "    # get length\n",
    "    length = len(nums)\n",
    "    \n",
    "    # initialize left and right\n",
    "    left, right = 0, length-1\n",
    "    \n",
    "    # base case:\n",
    "    if nums[left] < nums[right]:\n",
    "        return nums[left] \n",
    "        # eg. 1<2<3<4\n",
    "\n",
    "    # Binary Search Approach\n",
    "    \n",
    "    # iterate while the left is less than right\n",
    "    while left < right:\n",
    "        \n",
    "        #  compute mid index\n",
    "        mid = (left + right) // 2\n",
    "        \n",
    "        # 3, 4, 5, 1, 2\n",
    "        # Case 1: mid > right, look at the right side, excluding the mid\n",
    "        if nums[mid] > nums[right]:\n",
    "            # update left ptr\n",
    "            left = mid + 1\n",
    "            \n",
    "        # 5, 1, 2, 3, 4\n",
    "        # Case 2: mid < right, look at the left side, including the mid\n",
    "        elif nums[mid] < nums[right]:\n",
    "            # update the right ptr\n",
    "            right = mid \n",
    "        \n",
    "    return nums[left] # or nums[right]"
   ]
  },
  {
   "cell_type": "code",
   "execution_count": 87,
   "metadata": {},
   "outputs": [
    {
     "data": {
      "text/plain": [
       "1"
      ]
     },
     "execution_count": 87,
     "metadata": {},
     "output_type": "execute_result"
    }
   ],
   "source": [
    "findMin([2,3,4,5,1])"
   ]
  },
  {
   "cell_type": "code",
   "execution_count": 88,
   "metadata": {},
   "outputs": [
    {
     "data": {
      "text/plain": [
       "1"
      ]
     },
     "execution_count": 88,
     "metadata": {},
     "output_type": "execute_result"
    }
   ],
   "source": [
    "findMin([1])"
   ]
  },
  {
   "cell_type": "code",
   "execution_count": 89,
   "metadata": {},
   "outputs": [
    {
     "data": {
      "text/plain": [
       "1"
      ]
     },
     "execution_count": 89,
     "metadata": {},
     "output_type": "execute_result"
    }
   ],
   "source": [
    "findMin([3,4,5,1,2])"
   ]
  },
  {
   "cell_type": "code",
   "execution_count": 90,
   "metadata": {},
   "outputs": [
    {
     "data": {
      "text/plain": [
       "0"
      ]
     },
     "execution_count": 90,
     "metadata": {},
     "output_type": "execute_result"
    }
   ],
   "source": [
    "findMin([4,5,6,7,0,1,2])"
   ]
  },
  {
   "cell_type": "code",
   "execution_count": 91,
   "metadata": {},
   "outputs": [
    {
     "data": {
      "text/plain": [
       "11"
      ]
     },
     "execution_count": 91,
     "metadata": {},
     "output_type": "execute_result"
    }
   ],
   "source": [
    "findMin([11,13,15,17])"
   ]
  },
  {
   "cell_type": "markdown",
   "metadata": {},
   "source": [
    "### LC 33: Search in Rotated Sorted Array"
   ]
  },
  {
   "cell_type": "markdown",
   "metadata": {},
   "source": [
    "<img src=\"img/lc33.png\" style=\"width:500px;height:500px\"/>"
   ]
  },
  {
   "cell_type": "code",
   "execution_count": null,
   "metadata": {},
   "outputs": [],
   "source": [
    "def search(nums, target):\n",
    "    \n",
    "    # array length\n",
    "    length = len(nums)\n",
    "    \n",
    "    # left and right ptrs\n",
    "    left, right = 0, length-1\n",
    "    \n",
    "    # iterate while left < right\n",
    "    while left < right:\n",
    "        \n",
    "        # compute mid\n",
    "        mid = (left+right) // 2 \n",
    "        \n",
    "        # if mid == target, return index\n",
    "        if nums[mid] == target:\n",
    "            return mid\n",
    "        \n",
    "        # case 1: mid is part of contiguous array \n",
    "        if nums[mid] > nums[right]:\n",
    "            \n",
    "            # sub-case 1: target > mid or < left, search right excluding the mid\n",
    "            if target > nums[mid] or target < nums[left]:\n",
    "                left = mid + 1\n",
    "            \n",
    "            # sub-case 2: target < mid and >= left, search left, including the mid,\n",
    "            else:\n",
    "                right = mid - 1\n",
    "                \n",
    "        \n",
    "        # case 2: mid is part of the rotated array\n",
    "        else:\n",
    "            \n",
    "            # sub-case 1: target < the mid or target is > right, search left\n",
    "            if target < nums[mid] or target > nums[right]:\n",
    "                right = mid -1\n",
    "            \n",
    "            # sub-case 2: target > the mid, and target <= right, search right\n",
    "            else:\n",
    "                left = mid + 1\n",
    "                \n",
    "    return -1 # default return if target not found\n",
    "            \n",
    "    \n",
    "    \n",
    "        "
   ]
  },
  {
   "cell_type": "code",
   "execution_count": null,
   "metadata": {},
   "outputs": [],
   "source": []
  },
  {
   "cell_type": "markdown",
   "metadata": {},
   "source": [
    "### LC 704: Binary Search"
   ]
  },
  {
   "cell_type": "markdown",
   "metadata": {},
   "source": [
    "<img src = \"img/bs.png\" style=\"width:550px;height:500px\"/>"
   ]
  },
  {
   "cell_type": "code",
   "execution_count": 9,
   "metadata": {},
   "outputs": [],
   "source": [
    "def findTarget(nums:list[int], target:int) -> int :\n",
    "    start, end = 0, len(nums) - 1\n",
    "\n",
    "    # iterate until start is less than or equal to end\n",
    "    while start <= end:\n",
    "\n",
    "        # compute mid\n",
    "        mid_idx = (start + end)//2\n",
    "\n",
    "        # check the middle elem\n",
    "        # if middle elem is target, return index\n",
    "        if target == nums[mid_idx]:\n",
    "            return mid_idx\n",
    "\n",
    "        # elif target is greater than current mid, look to the right half\n",
    "        elif target > nums[mid_idx]:\n",
    "            start = mid_idx + 1\n",
    "\n",
    "        # elif target is less than current mid, look to the left half\n",
    "        elif target < nums[mid_idx]:\n",
    "            end = mid_idx - 1\n",
    "\n",
    "    return -1"
   ]
  },
  {
   "cell_type": "code",
   "execution_count": 6,
   "metadata": {},
   "outputs": [
    {
     "data": {
      "text/plain": [
       "4"
      ]
     },
     "execution_count": 6,
     "metadata": {},
     "output_type": "execute_result"
    }
   ],
   "source": [
    "findTarget([-1,0,3,5,9,12], 9)"
   ]
  },
  {
   "cell_type": "code",
   "execution_count": 7,
   "metadata": {},
   "outputs": [
    {
     "data": {
      "text/plain": [
       "-1"
      ]
     },
     "execution_count": 7,
     "metadata": {},
     "output_type": "execute_result"
    }
   ],
   "source": [
    "findTarget([-1,0,3,5,9,12], 2)"
   ]
  },
  {
   "cell_type": "markdown",
   "metadata": {},
   "source": [
    "**Time Complexity: O(logn), Space Complexity: O(1)**"
   ]
  },
  {
   "cell_type": "code",
   "execution_count": null,
   "metadata": {},
   "outputs": [],
   "source": []
  }
 ],
 "metadata": {
  "kernelspec": {
   "display_name": "Python 3",
   "language": "python",
   "name": "python3"
  },
  "language_info": {
   "codemirror_mode": {
    "name": "ipython",
    "version": 3
   },
   "file_extension": ".py",
   "mimetype": "text/x-python",
   "name": "python",
   "nbconvert_exporter": "python",
   "pygments_lexer": "ipython3",
   "version": "3.7.7"
  }
 },
 "nbformat": 4,
 "nbformat_minor": 4
}
