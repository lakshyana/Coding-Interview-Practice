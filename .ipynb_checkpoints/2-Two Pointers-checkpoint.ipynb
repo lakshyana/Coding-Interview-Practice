{
 "cells": [
  {
   "cell_type": "markdown",
   "metadata": {},
   "source": [
    "# <span style=\"color:green\">Two pointer Pattern</span> "
   ]
  },
  {
   "cell_type": "markdown",
   "metadata": {},
   "source": [
    "### LC 125: Valid Palindrome"
   ]
  },
  {
   "cell_type": "markdown",
   "metadata": {},
   "source": [
    "<img src = \"img/vp.png\" style=\"width:500px;height:500px\"/>"
   ]
  },
  {
   "cell_type": "code",
   "execution_count": 15,
   "metadata": {},
   "outputs": [],
   "source": [
    "def isPalindrome(s:str) -> bool:\n",
    "    # 1: iterate through string and include only alphanumeric characters,\n",
    "    # 2: Then join the string and convert to lowercase\n",
    "    # 3: Then check if reverse of string equals the processed string\n",
    "    s_alphanum =  \"\".join([ch for ch in s if ch.isalnum()]).lower()\n",
    "    return s_alphanum == s_alphanum[::-1]"
   ]
  },
  {
   "cell_type": "code",
   "execution_count": 16,
   "metadata": {},
   "outputs": [
    {
     "data": {
      "text/plain": [
       "True"
      ]
     },
     "execution_count": 16,
     "metadata": {},
     "output_type": "execute_result"
    }
   ],
   "source": [
    "isPalindrome(\"A man, a plan, a canal: Panama\")"
   ]
  },
  {
   "cell_type": "code",
   "execution_count": 17,
   "metadata": {},
   "outputs": [
    {
     "data": {
      "text/plain": [
       "False"
      ]
     },
     "execution_count": 17,
     "metadata": {},
     "output_type": "execute_result"
    }
   ],
   "source": [
    "isPalindrome(\"race a car\")"
   ]
  },
  {
   "cell_type": "code",
   "execution_count": 13,
   "metadata": {},
   "outputs": [
    {
     "data": {
      "text/plain": [
       "True"
      ]
     },
     "execution_count": 13,
     "metadata": {},
     "output_type": "execute_result"
    }
   ],
   "source": [
    "isPalindrome(\"\")"
   ]
  },
  {
   "cell_type": "code",
   "execution_count": 91,
   "metadata": {},
   "outputs": [],
   "source": [
    "def isPalindrome(s:str) -> bool:\n",
    "    \n",
    "    #Approach have a start and end pointers and compare if both pointers correspond to the same character\n",
    "    \n",
    "    # Initialize two pointers\n",
    "    start_ptr, end_ptr = 0, len(s)-1\n",
    "    \n",
    "    # Iterate until the pointers meet\n",
    "    while start_ptr < end_ptr:\n",
    "        \n",
    "        # Preprocess: increment or decrement until both pointers have alpha-numeric char (ignore spaces, commas etc)\n",
    "        while not s[start_ptr].isalnum() and start_ptr < end_ptr:\n",
    "            start_ptr += 1\n",
    "        while not s[end_ptr].isalnum() and start_ptr < end_ptr:\n",
    "            end_ptr -= 1\n",
    "            \n",
    "        \n",
    "        # palindrome is valid if the characters at start and end pointer is same (note: lowercase all chars first)\n",
    "        if s[start_ptr].lower() != s[end_ptr].lower():\n",
    "            return False\n",
    "        \n",
    "        # increment start ptr\n",
    "        start_ptr += 1\n",
    "        # decrement end ptr\n",
    "        end_ptr   -= 1\n",
    "        \n",
    "    return True"
   ]
  },
  {
   "cell_type": "code",
   "execution_count": 89,
   "metadata": {},
   "outputs": [
    {
     "data": {
      "text/plain": [
       "True"
      ]
     },
     "execution_count": 89,
     "metadata": {},
     "output_type": "execute_result"
    }
   ],
   "source": [
    "isPalindrome(\"aba\")"
   ]
  },
  {
   "cell_type": "code",
   "execution_count": 90,
   "metadata": {},
   "outputs": [
    {
     "data": {
      "text/plain": [
       "False"
      ]
     },
     "execution_count": 90,
     "metadata": {},
     "output_type": "execute_result"
    }
   ],
   "source": [
    "isPalindrome(\"abc\")"
   ]
  },
  {
   "cell_type": "code",
   "execution_count": 87,
   "metadata": {},
   "outputs": [
    {
     "data": {
      "text/plain": [
       "True"
      ]
     },
     "execution_count": 87,
     "metadata": {},
     "output_type": "execute_result"
    }
   ],
   "source": [
    "ss = \"ab c\"\n",
    "\n",
    "ss[0].isalnum()"
   ]
  },
  {
   "cell_type": "markdown",
   "metadata": {},
   "source": [
    "### LC 680: Valid Palindrome II"
   ]
  },
  {
   "cell_type": "markdown",
   "metadata": {},
   "source": [
    "<img src = \"img/lc680.png\" style=\"width:450px;height:500px\"/>"
   ]
  },
  {
   "cell_type": "code",
   "execution_count": 91,
   "metadata": {},
   "outputs": [],
   "source": [
    "def isvalidPalindrome(string):\n",
    "    ## initialization\n",
    "    ## length, start, & end pointers\n",
    "    length = len(string)\n",
    "    start  = 0\n",
    "    end    = length - 1\n",
    "    \n",
    "    ## iterate from start and end until false or traversal is complete\n",
    "    while start < end:\n",
    "        # simple case: if both are same\n",
    "        if string[start] == string[end]: \n",
    "            # update pointers\n",
    "            start += 1\n",
    "            end   -= 1\n",
    "            \n",
    "        # if different\n",
    "        else:\n",
    "            # check if either rest of the string minus the start ch or end ch is a palindrome \n",
    "            return isPalindrome(string, start+1, end) or isPalindrome(string, start, end-1) \n",
    "            #note: end+1 for slicing (as the last char is skipped similar to range)\n",
    "            \n",
    "    return True\n",
    "\n",
    "\n",
    "\n",
    "def isPalindrome(string, start, end):\n",
    "    ## iterate from start and end until false or traversal is complete\n",
    "    while start < end:\n",
    "        # simple case: if both are same\n",
    "        if string[start] == string[end]: \n",
    "            # update pointers\n",
    "            start += 1\n",
    "            end   -= 1\n",
    "            \n",
    "        # if different\n",
    "        else:\n",
    "            return False\n",
    "    \n",
    "    return True"
   ]
  },
  {
   "cell_type": "markdown",
   "metadata": {},
   "source": [
    "<img src = \"img/lc680_h1.png\"/>"
   ]
  },
  {
   "cell_type": "markdown",
   "metadata": {},
   "source": [
    "Given N as the length of s,\n",
    "\n",
    "Time complexity: O(N).\n",
    "\n",
    "The main while loop we use can iterate up to N / 2 times, since each iteration represents a pair of characters. On any given iteration, we may find a mismatch and call checkPalindrome twice. checkPalindrome can also iterate up to N / 2 times, in the worst case where the first and last character of s do not match.\n",
    "\n",
    "Because we are only allowed up to one deletion, the algorithm only considers one mismatch. This means that checkPalindrome will never be called more than twice.\n",
    "\n",
    "As such, we have a time complexity of O(N).\n",
    "\n",
    "Space complexity: O(1).\n",
    "\n",
    "The only extra space used is by the two pointers i and j, which can be considered constant relative to the input size."
   ]
  },
  {
   "cell_type": "code",
   "execution_count": 92,
   "metadata": {},
   "outputs": [
    {
     "data": {
      "text/plain": [
       "True"
      ]
     },
     "execution_count": 92,
     "metadata": {},
     "output_type": "execute_result"
    }
   ],
   "source": [
    "isvalidPalindrome(\"aba\")"
   ]
  },
  {
   "cell_type": "code",
   "execution_count": 93,
   "metadata": {},
   "outputs": [
    {
     "data": {
      "text/plain": [
       "True"
      ]
     },
     "execution_count": 93,
     "metadata": {},
     "output_type": "execute_result"
    }
   ],
   "source": [
    "isvalidPalindrome(\"abca\")"
   ]
  },
  {
   "cell_type": "code",
   "execution_count": 94,
   "metadata": {},
   "outputs": [
    {
     "data": {
      "text/plain": [
       "False"
      ]
     },
     "execution_count": 94,
     "metadata": {},
     "output_type": "execute_result"
    }
   ],
   "source": [
    "isvalidPalindrome(\"abc\")"
   ]
  },
  {
   "cell_type": "code",
   "execution_count": 95,
   "metadata": {},
   "outputs": [
    {
     "data": {
      "text/plain": [
       "True"
      ]
     },
     "execution_count": 95,
     "metadata": {},
     "output_type": "execute_result"
    }
   ],
   "source": [
    "isvalidPalindrome(\"eedede\")"
   ]
  },
  {
   "cell_type": "code",
   "execution_count": 96,
   "metadata": {},
   "outputs": [
    {
     "data": {
      "text/plain": [
       "True"
      ]
     },
     "execution_count": 96,
     "metadata": {},
     "output_type": "execute_result"
    }
   ],
   "source": [
    "isvalidPalindrome(\"eeddede\")"
   ]
  },
  {
   "cell_type": "markdown",
   "metadata": {},
   "source": [
    "### LC 283: Move Zeroes"
   ]
  },
  {
   "cell_type": "markdown",
   "metadata": {},
   "source": [
    "<img src = \"img/lc283.png\" style=\"width:450px; height:600px\"/>"
   ]
  },
  {
   "cell_type": "code",
   "execution_count": 13,
   "metadata": {},
   "outputs": [],
   "source": [
    "def moveZeroes(nums):\n",
    "        \"\"\"\n",
    "        Do not return anything, modify nums in-place instead.\n",
    "        \"\"\"\n",
    "        # initialize pointer\n",
    "        left  = 0\n",
    "        \n",
    "        # iterate until start and end overlap\n",
    "        for right in range(len(nums)):\n",
    "            \n",
    "            # if non-zero element\n",
    "            if nums[right] != 0:\n",
    "                # swap values between index with 0 and index with non-zero\n",
    "                nums[left], nums[right] = nums[right], nums[left]\n",
    "                \n",
    "                #increment left pointer\n",
    "                left += 1\n",
    "                \n",
    "            # else: if num is 0 just continue iterating\n",
    "            "
   ]
  },
  {
   "cell_type": "code",
   "execution_count": 14,
   "metadata": {},
   "outputs": [
    {
     "data": {
      "text/plain": [
       "[1, 3, 12, 0, 0]"
      ]
     },
     "execution_count": 14,
     "metadata": {},
     "output_type": "execute_result"
    }
   ],
   "source": [
    "nums = [0,1,0,3,12]\n",
    "moveZeroes(nums)\n",
    "nums"
   ]
  },
  {
   "cell_type": "code",
   "execution_count": 15,
   "metadata": {},
   "outputs": [
    {
     "data": {
      "text/plain": [
       "[0]"
      ]
     },
     "execution_count": 15,
     "metadata": {},
     "output_type": "execute_result"
    }
   ],
   "source": [
    "nums = [0]\n",
    "moveZeroes(nums)\n",
    "nums"
   ]
  },
  {
   "cell_type": "markdown",
   "metadata": {},
   "source": [
    "### LC 167: Two Sum II"
   ]
  },
  {
   "cell_type": "markdown",
   "metadata": {},
   "source": [
    "<img src = \"img/lc167.png\" style=\"width:700px; height:800px\"/>"
   ]
  },
  {
   "cell_type": "code",
   "execution_count": 9,
   "metadata": {},
   "outputs": [],
   "source": [
    "def twosum2(numbers, target):\n",
    "    # given a sorted numbers in ascending order\n",
    "    \n",
    "    # length of nums\n",
    "    length = len(numbers)\n",
    "    ## initialize left and right ptrs\n",
    "    left, right = 0, length-1\n",
    "    \n",
    "    # while the pointers don't cross\n",
    "    while left<right:\n",
    "        # case 1: check if left and right add up to the target\n",
    "        if numbers[left] + numbers[right] == target:\n",
    "            # return the indices added by 1\n",
    "            return [left+1, right+1]\n",
    "        \n",
    "        # case 2: if the sum is more than the target, decrement the right (larger num)\n",
    "        elif numbers[left] + numbers[right] > target:\n",
    "            right -= 1\n",
    "        \n",
    "        # case 3: if the sum is less than the target, increment the left (smaller num)\n",
    "        else:\n",
    "            left += 1\n",
    "            \n",
    "        # assuming there's one match in all cases, so no default return\n",
    "        \n",
    "        \n",
    "    "
   ]
  },
  {
   "cell_type": "code",
   "execution_count": 10,
   "metadata": {},
   "outputs": [
    {
     "data": {
      "text/plain": [
       "[1, 2]"
      ]
     },
     "execution_count": 10,
     "metadata": {},
     "output_type": "execute_result"
    }
   ],
   "source": [
    "twosum2([2,7,11,15], 9)"
   ]
  },
  {
   "cell_type": "code",
   "execution_count": 11,
   "metadata": {},
   "outputs": [
    {
     "data": {
      "text/plain": [
       "[1, 3]"
      ]
     },
     "execution_count": 11,
     "metadata": {},
     "output_type": "execute_result"
    }
   ],
   "source": [
    "twosum2([2,3,4], 6)"
   ]
  },
  {
   "cell_type": "code",
   "execution_count": 12,
   "metadata": {},
   "outputs": [
    {
     "data": {
      "text/plain": [
       "[1, 2]"
      ]
     },
     "execution_count": 12,
     "metadata": {},
     "output_type": "execute_result"
    }
   ],
   "source": [
    "twosum2([-1, 0], -1)"
   ]
  },
  {
   "cell_type": "markdown",
   "metadata": {},
   "source": [
    "### LC 15: 3Sum"
   ]
  },
  {
   "cell_type": "markdown",
   "metadata": {},
   "source": [
    "<img src = \"img/lc15.png\" style=\"width:500px; height:600px\"/>"
   ]
  },
  {
   "cell_type": "markdown",
   "metadata": {},
   "source": [
    "<img src = \"img/lc15_h1.png\" style=\"width:450px; height:100px\"/>"
   ]
  },
  {
   "cell_type": "code",
   "execution_count": 28,
   "metadata": {},
   "outputs": [],
   "source": [
    "def threeSum(nums):\n",
    "    # length of nums\n",
    "    length = len(nums)\n",
    "    \n",
    "    # initialize result (list of triplets)\n",
    "    result = []\n",
    "    \n",
    "    # sort the nums array\n",
    "    nums.sort()\n",
    "    \n",
    "    # iterate through each pivot num:\n",
    "    for i, num in enumerate(nums):\n",
    "        \n",
    "        # given this is sorted, if current val is > 0, the remaining will also be > 0, so valid soln can't exist, so break\n",
    "        if num > 0:\n",
    "            break\n",
    "        \n",
    "        # continue to next elem if the current num is same as the previous\n",
    "        if i > 0 and num == nums[i-1]:\n",
    "            continue\n",
    "            # this ensures we don't have dupliate triplets in our result\n",
    "        \n",
    "        # initialize left and right ptrs\n",
    "        left, right = i+1, length-1 \n",
    "    \n",
    "        # iterate while left and right don't cross\n",
    "        while left < right:\n",
    "            \n",
    "            # compute the sum of pivot elem, left, and right elems \n",
    "            total = num + nums[left] + nums[right] \n",
    "            \n",
    "            # if sum is > 0, reduce the sum by decrementing the right ptr\n",
    "            if total > 0:\n",
    "                right -= 1\n",
    "            \n",
    "            # if sum < 0, increase the sum by incrementing the left ptr\n",
    "            elif total < 0:\n",
    "                left += 1\n",
    "            \n",
    "            # if sum == 0\n",
    "            else:\n",
    "                # add the triplet to the result\n",
    "                result.append([num, nums[left], nums[right]])\n",
    "                \n",
    "                # increment left ptr and decrement right ptr\n",
    "                left += 1\n",
    "                right -= 1\n",
    "                \n",
    "                # increment left again until ptrs cross and left points to a different num than the current elem\n",
    "                while left < right and nums[left] == nums[left-1]:\n",
    "                    left += 1\n",
    "                    #this ensures we don't have duplicate triplets in result\n",
    "    \n",
    "    return result\n",
    "                    "
   ]
  },
  {
   "cell_type": "markdown",
   "metadata": {},
   "source": [
    "Complexity Analysis\n",
    "\n",
    "Time Complexity: O($n^2$) \n",
    "twoSumII is O($n$), and we call it n times.\n",
    "\n",
    "Sorting the array takes O($nlog⁡n$), so overall complexity is O($nlog⁡n+n^2$), which is asymptotically equivalent to O($n^2$).\n",
    "\n",
    "Space Complexity: from O($log⁡n$) to O($n$), depending on the implementation of the sorting algorithm. For the purpose of complexity analysis, we ignore the memory required for the output."
   ]
  },
  {
   "cell_type": "code",
   "execution_count": 29,
   "metadata": {},
   "outputs": [
    {
     "data": {
      "text/plain": [
       "[[-1, -1, 2], [-1, 0, 1]]"
      ]
     },
     "execution_count": 29,
     "metadata": {},
     "output_type": "execute_result"
    }
   ],
   "source": [
    "threeSum([-1,0,1,2,-1,-4])"
   ]
  },
  {
   "cell_type": "code",
   "execution_count": 30,
   "metadata": {},
   "outputs": [
    {
     "data": {
      "text/plain": [
       "[]"
      ]
     },
     "execution_count": 30,
     "metadata": {},
     "output_type": "execute_result"
    }
   ],
   "source": [
    "threeSum([0, 1, 1])"
   ]
  },
  {
   "cell_type": "code",
   "execution_count": 31,
   "metadata": {},
   "outputs": [
    {
     "data": {
      "text/plain": [
       "[[0, 0, 0]]"
      ]
     },
     "execution_count": 31,
     "metadata": {},
     "output_type": "execute_result"
    }
   ],
   "source": [
    "threeSum([0, 0, 0])"
   ]
  },
  {
   "cell_type": "markdown",
   "metadata": {},
   "source": [
    "### LC 11: Container with most water"
   ]
  },
  {
   "cell_type": "markdown",
   "metadata": {},
   "source": [
    "<img src=\"img/lc11.png\"/>"
   ]
  },
  {
   "cell_type": "code",
   "execution_count": 59,
   "metadata": {},
   "outputs": [],
   "source": [
    "def maxArea(height):\n",
    "    # length of array\n",
    "    length = len(height)\n",
    "    \n",
    "    # initialize max area\n",
    "    max_area = 0\n",
    "    \n",
    "    # initialize two pointers\n",
    "    left, right = 0, length-1\n",
    "    \n",
    "    \n",
    "    # iterate until two pointers cross\n",
    "    while left < right:\n",
    "        \n",
    "        # compute current area\n",
    "        area = min(height[left], height[right]) * (right-left)\n",
    "        \n",
    "        # update max area\n",
    "        max_area = max(max_area, area)\n",
    "        \n",
    "        # move left ptr if left < right\n",
    "        if height[left] < height[right]:\n",
    "            left +=1\n",
    "        \n",
    "        # move right ptr if right < left\n",
    "        elif height[right] < height[left]:\n",
    "            right -= 1\n",
    "        \n",
    "        # if equal move both pointers\n",
    "        else:\n",
    "            left += 1\n",
    "            right -=1\n",
    "    \n",
    "    return max_area"
   ]
  },
  {
   "cell_type": "code",
   "execution_count": 60,
   "metadata": {},
   "outputs": [
    {
     "data": {
      "text/plain": [
       "49"
      ]
     },
     "execution_count": 60,
     "metadata": {},
     "output_type": "execute_result"
    }
   ],
   "source": [
    "maxArea([1,8,6,2,5,4,8,3,7])"
   ]
  },
  {
   "cell_type": "markdown",
   "metadata": {},
   "source": [
    "Complexity Analysis\n",
    "\n",
    "Time complexity: O(n). Single pass.\n",
    "\n",
    "Space complexity: O(1). Constant space is used."
   ]
  },
  {
   "cell_type": "markdown",
   "metadata": {},
   "source": [
    "### <span style=\"color:blue\"> 1. Pair with Target Sum (easy)</span>"
   ]
  },
  {
   "cell_type": "markdown",
   "metadata": {},
   "source": [
    "#### **Problem Statement** \n",
    "\n",
    "- Given an array of sorted numbers and a target sum, find a pair in the array whose sum is equal to the given target.\n",
    "\n",
    "Write a function to return the indices of the two numbers (i.e. the pair) such that they add up to the given target.\n",
    "<!-- <img src = \"./img/pb_11.png\" style=\"width:350px;height:300px\"/> -->"
   ]
  },
  {
   "cell_type": "code",
   "execution_count": 31,
   "metadata": {},
   "outputs": [],
   "source": [
    "def pair_with_target_sum(arr, target_sum):\n",
    "    lp = 0\n",
    "    rp = len(arr) - 1\n",
    "    \n",
    "    ## iterate over the list using while condition\n",
    "    while lp < rp: # while the entire list is not traversed \n",
    "        # check if the left and right elements sum to target\n",
    "        total = arr[lp] + arr[rp]\n",
    "        \n",
    "        if total < target_sum:\n",
    "            # since the arr is sorted lp increment will increase the sum\n",
    "            lp += 1\n",
    "            \n",
    "        elif total > target_sum:\n",
    "            # similarly decrementing the rp will lower the sum\n",
    "            rp -= 1\n",
    "                \n",
    "        else:\n",
    "            return [lp, rp]\n",
    "        \n",
    "        \n",
    "    # if not found\n",
    "    return [-1,-1]\n",
    "    \n",
    "\n",
    "\n",
    "    "
   ]
  },
  {
   "cell_type": "code",
   "execution_count": 32,
   "metadata": {},
   "outputs": [
    {
     "name": "stdout",
     "output_type": "stream",
     "text": [
      "The numbers at index 1 and 3 add up to 6\n"
     ]
    }
   ],
   "source": [
    "arr = [1, 2, 3, 4, 6]\n",
    "target = 6\n",
    "\n",
    "i1, i2 = pair_with_target_sum(arr, target)\n",
    "print(f'The numbers at index {i1} and {i2} add up to {target}')\n"
   ]
  },
  {
   "cell_type": "code",
   "execution_count": 33,
   "metadata": {},
   "outputs": [
    {
     "name": "stdout",
     "output_type": "stream",
     "text": [
      "The numbers at index 0 and 2 add up to 11\n"
     ]
    }
   ],
   "source": [
    "arr = [2, 5, 9, 11]\n",
    "target = 11\n",
    "\n",
    "i1, i2 = pair_with_target_sum(arr, target)\n",
    "print(f'The numbers at index {i1} and {i2} add up to {target}')"
   ]
  },
  {
   "cell_type": "markdown",
   "metadata": {},
   "source": [
    "##### Time Complexity: O(N) (Linear time)\n",
    "##### Space Complexity: O(1) (Constant space)\n"
   ]
  },
  {
   "cell_type": "markdown",
   "metadata": {},
   "source": [
    "### <span style=\"color:blue\">2. Remove Duplicates (easy)</span>"
   ]
  },
  {
   "cell_type": "markdown",
   "metadata": {},
   "source": [
    "#### Problem Statement\n",
    "Given an array of sorted numbers, **remove all duplicates from it**. You should **not use any extra space**; after removing the duplicates in-place return the new length of the array.\n",
    "<img src = \"img/p2.png\" style=\"width:300px;height:400px\"/>\n",
    "<img src = \"img/p2b.png\" style=\"width:300px;height:500px\"/>"
   ]
  },
  {
   "cell_type": "code",
   "execution_count": 38,
   "metadata": {},
   "outputs": [],
   "source": [
    "import math\n",
    "\n",
    "def remove_duplicates(arr):\n",
    "    length = len(arr)\n",
    "    lp = 0\n",
    "    rp = 1\n",
    "    \n",
    "    ## if not base case\n",
    "    if length >=2:\n",
    "        \n",
    "        while lp < rp and rp < length:\n",
    "            # check if duplicate\n",
    "            if arr[lp] == arr [rp]:\n",
    "                # increment the rp\n",
    "                rp += 1\n",
    "            # if non-duplicate\n",
    "            else:\n",
    "                arr[lp+1] = arr[rp]\n",
    "                # increment both ptrs\n",
    "                lp +=1\n",
    "                rp +=1\n",
    "        \n",
    "        return arr[:lp+1]\n",
    "            \n",
    "        \n",
    "    # default return\n",
    "    return arr if length == 1 else []"
   ]
  },
  {
   "cell_type": "code",
   "execution_count": 39,
   "metadata": {},
   "outputs": [
    {
     "name": "stdout",
     "output_type": "stream",
     "text": [
      "The elements after removing the duplicates will be: [2, 3, 6, 9]\n"
     ]
    }
   ],
   "source": [
    "arr = [2, 3, 3, 3, 6, 9, 9]\n",
    "\n",
    "print(f'The elements after removing the duplicates will be: {remove_duplicates(arr)}')"
   ]
  },
  {
   "cell_type": "markdown",
   "metadata": {},
   "source": [
    "**The time complexity of the above algorithm will be O(N), where ‘N’ is the total number of elements in the given array.**\n",
    "\n",
    "Space Complexity\n",
    "The algorithm runs in constant space O(1)."
   ]
  },
  {
   "cell_type": "markdown",
   "metadata": {},
   "source": [
    "##### Time Complexity: O(N) (Linear time)\n",
    "##### Space Complexity: O(1) (Constant space)\n"
   ]
  },
  {
   "cell_type": "markdown",
   "metadata": {},
   "source": [
    "### <span style=\"color:blue\">3. Longest Substring with K Distinct Characters (medium)\n",
    "</span>"
   ]
  },
  {
   "cell_type": "markdown",
   "metadata": {},
   "source": [
    "#### Problem Statement\n",
    "Given a string, find the length of the **longest substring** in it **with no more than K distinct characters**.\n",
    "<img src = \"img/p3a.png\" style=\"width:380px;height:850px\"/>"
   ]
  },
  {
   "cell_type": "code",
   "execution_count": 1,
   "metadata": {},
   "outputs": [],
   "source": [
    "import math\n",
    "\n",
    "def longest_substring_with_k_distinct(string, k):\n",
    "    length = len(string)\n",
    "    window_size = 1\n",
    "    \n",
    "    max_length = -math.inf\n",
    "    \n",
    "    \n",
    "    # if valid input is given\n",
    "    if length > 0 and k > 0:\n",
    "        \n",
    "        # Iterate over the list\n",
    "        for i in range(length-window_size+1):\n",
    "            \n",
    "            # check the distinct characters in the window\n",
    "            dist_chars = len(set(string[i: i+window_size])) # is this an efficient or not?\n",
    "\n",
    "            \n",
    "            ## if distinct characters less than k then increment the window\n",
    "            if dist_chars <= k: \n",
    "        \n",
    "                # while num of distinct characters not exceeded increment the window\n",
    "                while (dist_chars <= k and i+window_size < length):\n",
    "                    window_size +=1\n",
    "                    dist_chars = len(set(string[i: i+window_size]))\n",
    "\n",
    "                    # if equal to distinct characters and greater than the previous length of substring, then update\n",
    "                    if (dist_chars == k and window_size > max_length):\n",
    "                \n",
    "                        max_length = window_size\n",
    "                    \n",
    "                    \n",
    "            # if distinct characters more than k then shrink the window\n",
    "            if dist_chars > k:\n",
    "                window_size -= 1\n",
    "            \n",
    "                \n",
    "        return max_length\n",
    "    \n",
    "    return 0\n",
    "            \n",
    "            "
   ]
  },
  {
   "cell_type": "code",
   "execution_count": 3,
   "metadata": {},
   "outputs": [
    {
     "data": {
      "text/plain": [
       "5"
      ]
     },
     "execution_count": 3,
     "metadata": {},
     "output_type": "execute_result"
    }
   ],
   "source": [
    "string = \"cbbebi\"\n",
    "k = 3\n",
    "\n",
    "longest_substring_with_k_distinct(string, k)"
   ]
  },
  {
   "cell_type": "code",
   "execution_count": 4,
   "metadata": {},
   "outputs": [
    {
     "data": {
      "text/plain": [
       "2"
      ]
     },
     "execution_count": 4,
     "metadata": {},
     "output_type": "execute_result"
    }
   ],
   "source": [
    "string = \"aaraaci\"\n",
    "k = 1\n",
    "\n",
    "longest_substring_with_k_distinct(string, k)"
   ]
  },
  {
   "cell_type": "code",
   "execution_count": 5,
   "metadata": {},
   "outputs": [
    {
     "data": {
      "text/plain": [
       "5"
      ]
     },
     "execution_count": 5,
     "metadata": {},
     "output_type": "execute_result"
    }
   ],
   "source": [
    "string = \"aaraaci\"\n",
    "k = 2\n",
    "\n",
    "longest_substring_with_k_distinct(string, k)"
   ]
  },
  {
   "cell_type": "markdown",
   "metadata": {},
   "source": [
    "### Try more efficient implementation:"
   ]
  },
  {
   "cell_type": "code",
   "execution_count": null,
   "metadata": {},
   "outputs": [],
   "source": []
  }
 ],
 "metadata": {
  "kernelspec": {
   "display_name": "Python 3",
   "language": "python",
   "name": "python3"
  },
  "language_info": {
   "codemirror_mode": {
    "name": "ipython",
    "version": 3
   },
   "file_extension": ".py",
   "mimetype": "text/x-python",
   "name": "python",
   "nbconvert_exporter": "python",
   "pygments_lexer": "ipython3",
   "version": "3.7.7"
  }
 },
 "nbformat": 4,
 "nbformat_minor": 4
}
