{
 "cells": [
  {
   "cell_type": "markdown",
   "id": "8d2405fd2e0ffbd3",
   "metadata": {
    "collapsed": false,
    "jupyter": {
     "outputs_hidden": false
    }
   },
   "source": [
    "# <span style=\"color:green\">Sliding Window Pattern</span>"
   ]
  },
  {
   "cell_type": "markdown",
   "id": "e1afa049-9172-4176-8f7f-33f8ef3c7cc2",
   "metadata": {
    "jp-MarkdownHeadingCollapsed": true
   },
   "source": [
    "### 643. Maximum Average Subarray I (Easy)\n",
    "\n",
    "You are given an integer array nums consisting of n elements, and an integer k.\n",
    "\n",
    "Find a contiguous subarray whose length is equal to k that has the maximum average value and return this value. Any answer with a calculation error less than 10-5 will be accepted.\n",
    "\n",
    " \n",
    "\n",
    "Example 1:\n",
    "\n",
    "Input: nums = [1,12,-5,-6,50,3], k = 4\n",
    "Output: 12.75000\n",
    "Explanation: Maximum average is (12 - 5 - 6 + 50) / 4 = 51 / 4 = 12.75\n",
    "Example 2:\n",
    "\n",
    "Input: nums = [5], k = 1\n",
    "Output: 5.00000\n",
    " \n",
    "\n",
    "Constraints:\n",
    "\n",
    "n == nums.length\n",
    "1 <= k <= n <= 105\n",
    "-104 <= nums[i] <= 104"
   ]
  },
  {
   "cell_type": "code",
   "execution_count": 2,
   "id": "18f653aa-4078-479a-aebe-819ff3a4d1a6",
   "metadata": {},
   "outputs": [
    {
     "data": {
      "text/plain": [
       "1"
      ]
     },
     "execution_count": 2,
     "metadata": {},
     "output_type": "execute_result"
    }
   ],
   "source": []
  },
  {
   "cell_type": "code",
   "execution_count": null,
   "id": "0355515b-2114-4c8a-86f8-bcd9de1b2c1d",
   "metadata": {},
   "outputs": [],
   "source": [
    "def findMaxAverage(self, nums: List[int], k: int) -> float:\n",
    "        \n",
    "        # Input  1 -> nums array\n",
    "        # Input  2 -> k\n",
    "        # Output-  max(avg(subarray)) value\n",
    "        # condition -   max(avg(subarray)) # subarray with len k\n",
    "\n",
    "        # pattern -  sliding window of fixed size\n",
    "\n",
    "        # Initialize the sum of the first window of size k\n",
    "        current_sum = sum(nums[:k])\n",
    "        max_sum = current_sum  # Initialize max_sum with the first window's sum\n",
    "        \n",
    "        # Iterate through the rest of the array, starting from the k-th element\n",
    "        for i in range(k, len(nums)):\n",
    "            # Slide the window by removing the leftmost element and adding the next element\n",
    "            current_sum += nums[i] - nums[i - k]\n",
    "            # Update max_sum if the current_sum is greater\n",
    "            max_sum = max(max_sum, current_sum)\n",
    "        \n",
    "        # The maximum average is the max_sum divided by k\n",
    "        return max_sum / k"
   ]
  },
  {
   "cell_type": "markdown",
   "id": "df3d3b2d391baa94",
   "metadata": {
    "collapsed": false,
    "jp-MarkdownHeadingCollapsed": true,
    "jupyter": {
     "outputs_hidden": false
    }
   },
   "source": [
    "### LC 121: Best Time to Buy and Sell stock\n",
    "\n",
    "Topics: Arrays, DP, Sliding Window"
   ]
  },
  {
   "cell_type": "markdown",
   "id": "d109fea5691709e8",
   "metadata": {
    "collapsed": false,
    "jupyter": {
     "outputs_hidden": false
    }
   },
   "source": [
    "<img src=\"img/q2.png\" \n",
    " />"
   ]
  },
  {
   "cell_type": "code",
   "execution_count": 3,
   "id": "a2420021f7d1b4e6",
   "metadata": {
    "ExecuteTime": {
     "end_time": "2023-08-13T14:31:30.181541600Z",
     "start_time": "2023-08-13T14:31:30.168416200Z"
    },
    "collapsed": false,
    "jupyter": {
     "outputs_hidden": false
    }
   },
   "outputs": [],
   "source": [
    "def compute_best_time(prices:list[int]) -> int :\n",
    "\n",
    "    # initialize mininum buying price, and maximum profit\n",
    "    buy_price, profit = float(\"inf\"), 0\n",
    "\n",
    "    # iterate over the prices while the left pointer and right pointer don't meet\n",
    "    for price in prices:\n",
    "        # if this price is lower than buy price, update buying price\n",
    "        buy_price = min(buy_price, price)\n",
    "\n",
    "        # compute max of the diff between sell and buy price\n",
    "        profit = max(profit, price-buy_price)\n",
    "\n",
    "    return profit"
   ]
  },
  {
   "cell_type": "code",
   "execution_count": 4,
   "id": "2d7d2bffe11ad6f7",
   "metadata": {
    "ExecuteTime": {
     "end_time": "2023-08-13T14:31:31.538042200Z",
     "start_time": "2023-08-13T14:31:31.458858900Z"
    },
    "collapsed": false,
    "jupyter": {
     "outputs_hidden": false
    }
   },
   "outputs": [
    {
     "data": {
      "text/plain": [
       "5"
      ]
     },
     "execution_count": 4,
     "metadata": {},
     "output_type": "execute_result"
    }
   ],
   "source": [
    "prices = [7,1,5,3,6,4]\n",
    "compute_best_time(prices)"
   ]
  },
  {
   "cell_type": "markdown",
   "id": "875c8d29092df45b",
   "metadata": {
    "collapsed": false,
    "jp-MarkdownHeadingCollapsed": true,
    "jupyter": {
     "outputs_hidden": false
    }
   },
   "source": [
    "### LC 3: Longest substring without repeating characters"
   ]
  },
  {
   "cell_type": "markdown",
   "id": "e4aee18ff7d45e01",
   "metadata": {
    "collapsed": false,
    "jupyter": {
     "outputs_hidden": false
    }
   },
   "source": [
    "<img src=\"img/lc3.png\" \n",
    " />"
   ]
  },
  {
   "cell_type": "code",
   "execution_count": null,
   "id": "efd4473f-150a-471d-b29d-551c0a7fd970",
   "metadata": {},
   "outputs": [],
   "source": [
    "def lengthOfLongestSubstring(self, s: str) -> int:\n",
    "\n",
    "        # Input - string s\n",
    "        # Output - Length of Longest substring \n",
    "        # Condition / Check - No repeating characters\n",
    "\n",
    "        # pattern - sliding window (dynamic length)\n",
    "        # overlap - reduce redundant checks by incrementing and decrementing\n",
    "\n",
    "        # Data Structure : \n",
    "        # set for substring repeat check\n",
    "        seen = set()\n",
    "        max_len = len(seen)\n",
    "        l, r = 0, 0\n",
    "\n",
    "        # Initialize the variables\n",
    "\n",
    "        # Iterate through the string\n",
    "        for i in range(0, len(s)):\n",
    "\n",
    "            # check if current ch in seen \n",
    "            if s[i] not in seen:\n",
    "                # add this ch to seen\n",
    "                seen.add(s[i])\n",
    "\n",
    "                # increment the window end, keep the start\n",
    "                r += 1\n",
    "\n",
    "            # else (if ch already in seen)\n",
    "            else:\n",
    "                ## update the window start after the repeat ch\n",
    "                while s[l] != s[i]:\n",
    "                    seen.remove(s[l]) # remove the ch until repeat ch\n",
    "                    l += 1 # increment l\n",
    "\n",
    "                # once s[l] is the repeated ch\n",
    "                l += 1  # increment l\n",
    "                r += 1  # increment r\n",
    "\n",
    "            # update the max len\n",
    "            max_len = max(max_len, len(seen))\n",
    "\n",
    "        return max_len\n",
    "                    \n",
    "            "
   ]
  },
  {
   "cell_type": "code",
   "execution_count": null,
   "id": "852bd48f-15dd-4e5b-a040-67d5de4459ed",
   "metadata": {},
   "outputs": [],
   "source": [
    "def lengthOfLongestSubstring(self, s: str) -> int:\n",
    "    # Initialize sliding window pointers and auxiliary data structures\n",
    "    l = 0\n",
    "    seen = set()\n",
    "    max_len = 0\n",
    "\n",
    "    # Expand the window with the right pointer\n",
    "    for r in range(len(s)):\n",
    "        # Shrink the window from the left until no duplicates\n",
    "        while s[r] in seen:\n",
    "            seen.remove(s[l])\n",
    "            l += 1\n",
    "\n",
    "        # Add the current character to the set\n",
    "        seen.add(s[r])\n",
    "\n",
    "        # Update the maximum length of the window\n",
    "        max_len = max(max_len, r - l + 1)\n",
    "\n",
    "    return max_len"
   ]
  },
  {
   "cell_type": "code",
   "execution_count": 45,
   "id": "82008a0183266802",
   "metadata": {
    "ExecuteTime": {
     "end_time": "2023-08-13T17:37:16.319569600Z",
     "start_time": "2023-08-13T17:37:16.287865Z"
    },
    "collapsed": false,
    "jupyter": {
     "outputs_hidden": false
    }
   },
   "outputs": [],
   "source": [
    "def lengthOfLongestSubstring(s):\n",
    "    \n",
    "    ### initialize left and right ptrs\n",
    "    lp, rp = 0, 0\n",
    "    \n",
    "    ## store unique chars in hashmap\n",
    "    seen = set()\n",
    "    \n",
    "    # store final result in best\n",
    "    best = 0\n",
    "    \n",
    "    ### iterate through the string\n",
    "    for rp in range(len(s)):\n",
    "        \n",
    "        ### check if s[i] in seen set and shrink window while s[rp] in seen set\n",
    "        while s[rp] in seen:\n",
    "            seen.remove(s[lp])\n",
    "            \n",
    "            ## shrink the left window\n",
    "            lp += 1\n",
    "    \n",
    "        ## add the left pointer ch to seen set\n",
    "        seen.add(s[rp])\n",
    "        \n",
    "        ## update best\n",
    "        best = max(best, rp-lp+1)\n",
    "    \n",
    "    return best\n",
    "    "
   ]
  },
  {
   "cell_type": "code",
   "execution_count": 46,
   "id": "8ad40f69385eb525",
   "metadata": {
    "ExecuteTime": {
     "end_time": "2023-08-13T17:37:16.573368700Z",
     "start_time": "2023-08-13T17:37:16.551858900Z"
    },
    "collapsed": false,
    "jupyter": {
     "outputs_hidden": false
    }
   },
   "outputs": [
    {
     "data": {
      "text/plain": [
       "3"
      ]
     },
     "execution_count": 46,
     "metadata": {},
     "output_type": "execute_result"
    }
   ],
   "source": [
    "lengthOfLongestSubstring(\"abcabcbb\")"
   ]
  },
  {
   "cell_type": "code",
   "execution_count": 47,
   "id": "bedfc18f29d3fc57",
   "metadata": {
    "ExecuteTime": {
     "end_time": "2023-08-13T17:37:16.997394100Z",
     "start_time": "2023-08-13T17:37:16.966006300Z"
    },
    "collapsed": false,
    "jupyter": {
     "outputs_hidden": false
    }
   },
   "outputs": [
    {
     "data": {
      "text/plain": [
       "2"
      ]
     },
     "execution_count": 47,
     "metadata": {},
     "output_type": "execute_result"
    }
   ],
   "source": [
    "lengthOfLongestSubstring(\"bbbcbb\")"
   ]
  },
  {
   "cell_type": "code",
   "execution_count": 48,
   "id": "8cacc86008392d32",
   "metadata": {
    "ExecuteTime": {
     "end_time": "2023-08-13T17:37:17.938932700Z",
     "start_time": "2023-08-13T17:37:17.907360900Z"
    },
    "collapsed": false,
    "jupyter": {
     "outputs_hidden": false
    }
   },
   "outputs": [
    {
     "data": {
      "text/plain": [
       "3"
      ]
     },
     "execution_count": 48,
     "metadata": {},
     "output_type": "execute_result"
    }
   ],
   "source": [
    "lengthOfLongestSubstring(\"pwwkew\")"
   ]
  },
  {
   "cell_type": "code",
   "execution_count": 31,
   "id": "49f8ec7f0824bccc",
   "metadata": {
    "ExecuteTime": {
     "end_time": "2023-08-13T17:34:44.290165800Z",
     "start_time": "2023-08-13T17:34:44.262228500Z"
    },
    "collapsed": false,
    "jupyter": {
     "outputs_hidden": false
    }
   },
   "outputs": [],
   "source": [
    "def lengthOfLongestSubstring(s):\n",
    "    \n",
    "    # initialize max length\n",
    "    max_length = 0\n",
    "    \n",
    "    # initialize sliding window\n",
    "    left, right = 0, 0\n",
    "    \n",
    "    # initialize dict to store ch and last index\n",
    "    hashmap = {}\n",
    "    \n",
    "    # iterate through the string\n",
    "    for ch in s:\n",
    "            \n",
    "        # if ch already exists\n",
    "        if ch in hashmap:\n",
    "            \n",
    "            # Possible cases: ch could be inside or outside the current window \n",
    "            \n",
    "            # update the left ptr to the duplicate ch's index\n",
    "            left = max(left, hashmap[ch]+1) # +1 to skip the ch\n",
    "            # note: if ch is outside the curr window, left will be higher, if ch is inside, hashmap[ch] will be higher\n",
    "          \n",
    "        \n",
    "        # add ch to dict\n",
    "        hashmap[ch] = right\n",
    "\n",
    "\n",
    "        # update max length\n",
    "        max_length = max(max_length, right-left+1)  \n",
    "        \n",
    "        \n",
    "        # update right ptr\n",
    "        right += 1\n",
    "        \n",
    "    \n",
    "    return max_length         "
   ]
  },
  {
   "cell_type": "code",
   "execution_count": 32,
   "id": "374313ac20f53ee1",
   "metadata": {
    "ExecuteTime": {
     "end_time": "2023-08-13T17:34:44.524722600Z",
     "start_time": "2023-08-13T17:34:44.521206200Z"
    },
    "collapsed": false,
    "jupyter": {
     "outputs_hidden": false
    }
   },
   "outputs": [
    {
     "data": {
      "text/plain": [
       "3"
      ]
     },
     "execution_count": 32,
     "metadata": {},
     "output_type": "execute_result"
    }
   ],
   "source": [
    "lengthOfLongestSubstring(\"abcabcbb\")"
   ]
  },
  {
   "cell_type": "code",
   "execution_count": 33,
   "id": "f111d2a08bb24417",
   "metadata": {
    "ExecuteTime": {
     "end_time": "2023-08-13T17:34:45.107578300Z",
     "start_time": "2023-08-13T17:34:45.103279400Z"
    },
    "collapsed": false,
    "jupyter": {
     "outputs_hidden": false
    }
   },
   "outputs": [
    {
     "data": {
      "text/plain": [
       "1"
      ]
     },
     "execution_count": 33,
     "metadata": {},
     "output_type": "execute_result"
    }
   ],
   "source": [
    "lengthOfLongestSubstring(\"bbbbb\")"
   ]
  },
  {
   "cell_type": "code",
   "execution_count": 34,
   "id": "2daa35fa60a4ec6e",
   "metadata": {
    "ExecuteTime": {
     "end_time": "2023-08-13T17:34:45.451965300Z",
     "start_time": "2023-08-13T17:34:45.447575900Z"
    },
    "collapsed": false,
    "jupyter": {
     "outputs_hidden": false
    }
   },
   "outputs": [
    {
     "data": {
      "text/plain": [
       "3"
      ]
     },
     "execution_count": 34,
     "metadata": {},
     "output_type": "execute_result"
    }
   ],
   "source": [
    "lengthOfLongestSubstring(\"pwwkew\")"
   ]
  },
  {
   "cell_type": "markdown",
   "id": "2cdf1a6d041e33e5",
   "metadata": {
    "collapsed": false,
    "jp-MarkdownHeadingCollapsed": true,
    "jupyter": {
     "outputs_hidden": false
    }
   },
   "source": [
    "### LC 424: Longest Repeating Character Replacement"
   ]
  },
  {
   "cell_type": "code",
   "execution_count": null,
   "id": "a6266860-f19a-4e39-83d5-fa81ca051c28",
   "metadata": {},
   "outputs": [],
   "source": []
  },
  {
   "cell_type": "markdown",
   "id": "bab94ab903691dfe",
   "metadata": {
    "collapsed": false,
    "jupyter": {
     "outputs_hidden": false
    }
   },
   "source": [
    "<img src = \"img/lc424.png\" style=\"width:500px;length:500px\" />"
   ]
  },
  {
   "cell_type": "code",
   "execution_count": 7,
   "id": "119f876b8cef143",
   "metadata": {
    "ExecuteTime": {
     "end_time": "2023-08-13T14:12:45.260733100Z",
     "start_time": "2023-08-13T14:12:45.139860800Z"
    },
    "collapsed": false,
    "jupyter": {
     "outputs_hidden": false
    }
   },
   "outputs": [],
   "source": [
    "def characterReplacement(s, k):\n",
    "    \n",
    "    # initialize length\n",
    "    length = len(s)\n",
    "    \n",
    "    # base case: if length 1, then return 1\n",
    "    if length == 1:\n",
    "        return 1\n",
    "    \n",
    "    # initialize array to store counts of 26 uppercase english letters\n",
    "    counts = [0] * 26\n",
    "    \n",
    "    # initialize l and r ptrs for the window\n",
    "    left, right = 0, 0\n",
    "    \n",
    "    # for each letter in s, add 1 to the count hashmap\n",
    "    while right < length:\n",
    "        \n",
    "        if s[left] == s[right]:\n",
    "            counts[ord(s[left])-ord('a')] +=1\n",
    "            \n",
    "            \n",
    "            "
   ]
  },
  {
   "cell_type": "markdown",
   "id": "ee60d4eb-9766-4ca1-90c7-3f62066412d8",
   "metadata": {},
   "source": [
    "### 239. Sliding Window Maximum (Hard)"
   ]
  },
  {
   "cell_type": "code",
   "execution_count": 1,
   "id": "f3b4ba1f-48c2-4eea-b9f3-262cb315fc1f",
   "metadata": {},
   "outputs": [
    {
     "data": {
      "text/plain": [
       "3"
      ]
     },
     "execution_count": 1,
     "metadata": {},
     "output_type": "execute_result"
    }
   ],
   "source": [
    "max([1,2,3])"
   ]
  },
  {
   "cell_type": "markdown",
   "id": "2cdae2ab500a234c",
   "metadata": {
    "collapsed": false,
    "jp-MarkdownHeadingCollapsed": true,
    "jupyter": {
     "outputs_hidden": false
    }
   },
   "source": [
    "### <span style=\"color:blue\"> 1. Maximum Sum Subarray of Size K (easy)</span>"
   ]
  },
  {
   "cell_type": "markdown",
   "id": "f4cbd44a3f36aaf0",
   "metadata": {
    "collapsed": false,
    "jupyter": {
     "outputs_hidden": false
    }
   },
   "source": [
    "#### **Problem Statement** \n",
    "\n",
    "- Given an array of positive numbers and a positive number ‘k’, find the maximum sum of any contiguous subarray of size ‘k’.<img src = \"img/p1.png\" style=\"width:300px;height:300px\"/>"
   ]
  },
  {
   "cell_type": "code",
   "execution_count": 8,
   "id": "4abab7b1c1be5b6f",
   "metadata": {
    "ExecuteTime": {
     "end_time": "2023-08-13T14:12:45.287888300Z",
     "start_time": "2023-08-13T14:12:45.173724700Z"
    },
    "collapsed": false,
    "jupyter": {
     "outputs_hidden": false
    }
   },
   "outputs": [],
   "source": [
    "def max_sub_array_of_size_k(k, arr):\n",
    "    sum_window = 0\n",
    "    max_sum = 0\n",
    "    length = len(arr) \n",
    "    \n",
    "    # if valid solution exists\n",
    "    if length > 0 and k> 0:\n",
    "        # iterate over the array\n",
    "        for i in range(0, length-k+1):\n",
    "            # get the sum of the window\n",
    "            sum_window = sum(arr[i:i+k])\n",
    "            if sum_window > max_sum:\n",
    "                max_sum = sum_window\n",
    "\n",
    "        return max_sum\n",
    "\n",
    "    return -1\n",
    "    "
   ]
  },
  {
   "cell_type": "code",
   "execution_count": 9,
   "id": "efc21b9ab6be0dc8",
   "metadata": {
    "ExecuteTime": {
     "end_time": "2023-08-13T14:12:46.198349900Z",
     "start_time": "2023-08-13T14:12:46.171563900Z"
    },
    "collapsed": false,
    "jupyter": {
     "outputs_hidden": false
    }
   },
   "outputs": [
    {
     "name": "stdout",
     "output_type": "stream",
     "text": [
      "Max sum of subarray with size k is: 9\n"
     ]
    }
   ],
   "source": [
    "arr = [2,1,2,5,1,3]\n",
    "k = 3\n",
    "\n",
    "print(f'Max sum of subarray with size k is: {max_sub_array_of_size_k(k, arr)}')\n"
   ]
  },
  {
   "cell_type": "markdown",
   "id": "db25a83d088ee4c9",
   "metadata": {
    "collapsed": false,
    "jupyter": {
     "outputs_hidden": false
    }
   },
   "source": [
    "##### Time Complexity: O(N) (Linear time)\n",
    "##### Space Complexity: O(1) (Constant space)\n"
   ]
  },
  {
   "cell_type": "markdown",
   "id": "1aa4c01c172ad40e",
   "metadata": {
    "collapsed": false,
    "jp-MarkdownHeadingCollapsed": true,
    "jupyter": {
     "outputs_hidden": false
    }
   },
   "source": [
    "### <span style=\"color:blue\">2. Smallest Subarray with a given sum (easy)</span>"
   ]
  },
  {
   "cell_type": "markdown",
   "id": "a8e933465ac282ef",
   "metadata": {
    "collapsed": false,
    "jupyter": {
     "outputs_hidden": false
    }
   },
   "source": [
    "#### Problem Statement\n",
    "Given an array of positive numbers and a positive number ‘S’, find the length of the **smallest contiguous subarray whose sum is greater than or equal to ‘S’**. Return 0, if no such subarray exists.\n",
    "<img src = \"img/p2.png\" style=\"width:300px;height:400px\"/>\n",
    "<img src = \"img/p2b.png\" style=\"width:300px;height:500px\"/>"
   ]
  },
  {
   "cell_type": "code",
   "execution_count": 10,
   "id": "e6d7974882a3cb79",
   "metadata": {
    "ExecuteTime": {
     "end_time": "2023-08-13T14:12:48.901538400Z",
     "start_time": "2023-08-13T14:12:48.881623800Z"
    },
    "collapsed": false,
    "jupyter": {
     "outputs_hidden": false
    }
   },
   "outputs": [],
   "source": [
    "import math\n",
    "\n",
    "def smallest_subarray_with_given_sum(s, arr):\n",
    "    length = len(arr)\n",
    "    window_size = 1\n",
    "    min_length = math.inf\n",
    "    \n",
    "    ## if a valid input is provided\n",
    "    if length > 0 and s > 0:\n",
    "        \n",
    "        # iterate over the list\n",
    "        for i in range(length-window_size + 1):\n",
    "            \n",
    "            # if window sum is < s and then expand the window\n",
    "            while (sum(arr[i:i+window_size]) < s) and (i+window_size-1 <= length):\n",
    "                window_size += 1\n",
    "            \n",
    "            # if window sum is >= s then update the min_length if needed\n",
    "            if (sum(arr[i:i+window_size]) >= s):\n",
    "                \n",
    "                if (window_size < min_length):\n",
    "                    # update min length\n",
    "                    min_length = window_size\n",
    "                    \n",
    "                window_size -= 1\n",
    "                \n",
    "        return min_length\n",
    "                \n",
    "    return 0"
   ]
  },
  {
   "cell_type": "code",
   "execution_count": 11,
   "id": "23276bf5af3c2aec",
   "metadata": {
    "ExecuteTime": {
     "end_time": "2023-08-13T14:12:49.496970700Z",
     "start_time": "2023-08-13T14:12:49.468751700Z"
    },
    "collapsed": false,
    "jupyter": {
     "outputs_hidden": false
    }
   },
   "outputs": [
    {
     "name": "stdout",
     "output_type": "stream",
     "text": [
      "Smallest subarray with the given sum is: 3\n"
     ]
    }
   ],
   "source": [
    "arr = [2,1,2,5,1,5]\n",
    "s = 8\n",
    "\n",
    "print(f'Smallest subarray with the given sum is: {smallest_subarray_with_given_sum(s, arr)}')"
   ]
  },
  {
   "cell_type": "markdown",
   "id": "652552f099fc16ac",
   "metadata": {
    "collapsed": false,
    "jupyter": {
     "outputs_hidden": false
    }
   },
   "source": [
    "The time complexity of the above algorithm will be O(N)O(N). The outer for loop runs for all elements and the inner while loop processes each element only once, therefore the time complexity of the algorithm will be O(N+N)O(N+N) which is asymptotically equivalent to O(N)O(N)."
   ]
  },
  {
   "cell_type": "markdown",
   "id": "b98f3ae2fb4128d7",
   "metadata": {
    "collapsed": false,
    "jupyter": {
     "outputs_hidden": false
    }
   },
   "source": [
    "##### Time Complexity: O(N) (Linear time)\n",
    "##### Space Complexity: O(1) (Constant space)\n"
   ]
  },
  {
   "cell_type": "markdown",
   "id": "580ecbbec60c600a",
   "metadata": {
    "collapsed": false,
    "jp-MarkdownHeadingCollapsed": true,
    "jupyter": {
     "outputs_hidden": false
    }
   },
   "source": [
    "### <span style=\"color:blue\">3. Longest Substring with K Distinct Characters (medium)\n",
    "</span>"
   ]
  },
  {
   "cell_type": "markdown",
   "id": "86fa6a6904728e75",
   "metadata": {
    "collapsed": false,
    "jupyter": {
     "outputs_hidden": false
    }
   },
   "source": [
    "#### Problem Statement\n",
    "Given a string, find the length of the **longest substring** in it **with no more than K distinct characters**.\n",
    "<img src = \"img/p3a.png\" style=\"width:380px;height:850px\"/>"
   ]
  },
  {
   "cell_type": "code",
   "execution_count": 12,
   "id": "7324309308ca5a62",
   "metadata": {
    "ExecuteTime": {
     "end_time": "2023-08-13T14:12:51.929194600Z",
     "start_time": "2023-08-13T14:12:51.897336300Z"
    },
    "collapsed": false,
    "jupyter": {
     "outputs_hidden": false
    }
   },
   "outputs": [],
   "source": [
    "import math\n",
    "\n",
    "def longest_substring_with_k_distinct(string, k):\n",
    "    length = len(string)\n",
    "    window_size = 1\n",
    "    \n",
    "    max_length = -math.inf\n",
    "    \n",
    "    \n",
    "    # if valid input is given\n",
    "    if length > 0 and k > 0:\n",
    "        \n",
    "        # Iterate over the list\n",
    "        for i in range(length-window_size+1):\n",
    "            \n",
    "            # check the distinct characters in the window\n",
    "            dist_chars = len(set(string[i: i+window_size])) # is this an efficient or not?\n",
    "\n",
    "            \n",
    "            ## if distinct characters less than k then increment the window\n",
    "            if dist_chars <= k: \n",
    "        \n",
    "                # while num of distinct characters not exceeded increment the window\n",
    "                while (dist_chars <= k and i+window_size < length):\n",
    "                    window_size +=1\n",
    "                    dist_chars = len(set(string[i: i+window_size]))\n",
    "\n",
    "                    # if equal to distinct characters and greater than the previous length of substring, then update\n",
    "                    if (dist_chars == k and window_size > max_length):\n",
    "                \n",
    "                        max_length = window_size\n",
    "                    \n",
    "                    \n",
    "            # if distinct characters more than k then shrink the window\n",
    "            if dist_chars > k:\n",
    "                window_size -= 1\n",
    "            \n",
    "                \n",
    "        return max_length\n",
    "    \n",
    "    return 0\n",
    "            \n",
    "            "
   ]
  },
  {
   "cell_type": "code",
   "execution_count": 13,
   "id": "3d7231d709445750",
   "metadata": {
    "ExecuteTime": {
     "end_time": "2023-08-13T14:12:52.397416800Z",
     "start_time": "2023-08-13T14:12:52.374997600Z"
    },
    "collapsed": false,
    "jupyter": {
     "outputs_hidden": false
    }
   },
   "outputs": [
    {
     "data": {
      "text/plain": [
       "5"
      ]
     },
     "execution_count": 13,
     "metadata": {},
     "output_type": "execute_result"
    }
   ],
   "source": [
    "string = \"cbbebi\"\n",
    "k = 3\n",
    "\n",
    "longest_substring_with_k_distinct(string, k)"
   ]
  },
  {
   "cell_type": "code",
   "execution_count": 14,
   "id": "ac1e4ca32895439a",
   "metadata": {
    "ExecuteTime": {
     "end_time": "2023-08-13T14:12:52.776519300Z",
     "start_time": "2023-08-13T14:12:52.743658800Z"
    },
    "collapsed": false,
    "jupyter": {
     "outputs_hidden": false
    }
   },
   "outputs": [
    {
     "data": {
      "text/plain": [
       "2"
      ]
     },
     "execution_count": 14,
     "metadata": {},
     "output_type": "execute_result"
    }
   ],
   "source": [
    "string = \"aaraaci\"\n",
    "k = 1\n",
    "\n",
    "longest_substring_with_k_distinct(string, k)"
   ]
  },
  {
   "cell_type": "code",
   "execution_count": 15,
   "id": "ffc6508e5184827",
   "metadata": {
    "ExecuteTime": {
     "end_time": "2023-08-13T14:12:53.115075900Z",
     "start_time": "2023-08-13T14:12:53.106062300Z"
    },
    "collapsed": false,
    "jupyter": {
     "outputs_hidden": false
    }
   },
   "outputs": [
    {
     "data": {
      "text/plain": [
       "5"
      ]
     },
     "execution_count": 15,
     "metadata": {},
     "output_type": "execute_result"
    }
   ],
   "source": [
    "string = \"aaraaci\"\n",
    "k = 2\n",
    "\n",
    "longest_substring_with_k_distinct(string, k)"
   ]
  },
  {
   "cell_type": "markdown",
   "id": "1ac8f4e85f4fa489",
   "metadata": {
    "collapsed": false,
    "jupyter": {
     "outputs_hidden": false
    }
   },
   "source": [
    "### Try more efficient implementation:"
   ]
  },
  {
   "cell_type": "markdown",
   "id": "dfb51af1-5fcd-482b-a4dd-e1adbcaeeca4",
   "metadata": {},
   "source": [
    "### 239. Max Sliding Window"
   ]
  },
  {
   "cell_type": "code",
   "execution_count": 2,
   "id": "70ed9ebe-066c-448b-9e25-082bb8f55882",
   "metadata": {},
   "outputs": [],
   "source": [
    "def maxSlidingWindow(self, nums: List[int], k: int) -> List[int]:\n",
    "\n",
    "        from collections import deque\n",
    "        \n",
    "        # Input 1= list of ints\n",
    "        # Input 2= k -window size\n",
    "\n",
    "        # Pattern - Sliding window\n",
    "        # Data Structure -\n",
    "        output = []\n",
    "\n",
    "        d = deque()\n",
    "        # iterate through the list\n",
    "        for i, num in enumerate(nums):\n",
    "\n",
    "            while d and nums[d[-1]] < num:\n",
    "                d.pop() # pop elems smaller than current num, as they will never be in the max for next windows\n",
    "            \n",
    "            # check and remove elements with index less than valid window\n",
    "            if d and d[0] == i-k:\n",
    "                d.popleft()\n",
    "            \n",
    "            # add the new elem index to the deque. Deque is monotonic decreasing\n",
    "            d.append(i)\n",
    "\n",
    "            # if valid window, then add the max to the output\n",
    "            if i>= k-1:\n",
    "                output.append(nums[d[0]])\n",
    "\n",
    "\n",
    "        return output"
   ]
  },
  {
   "cell_type": "code",
   "execution_count": null,
   "id": "a2f0e54d-aeb0-41b0-9f47-37882f272853",
   "metadata": {},
   "outputs": [],
   "source": []
  }
 ],
 "metadata": {
  "kernelspec": {
   "display_name": "Python 3 (ipykernel)",
   "language": "python",
   "name": "python3"
  },
  "language_info": {
   "codemirror_mode": {
    "name": "ipython",
    "version": 3
   },
   "file_extension": ".py",
   "mimetype": "text/x-python",
   "name": "python",
   "nbconvert_exporter": "python",
   "pygments_lexer": "ipython3",
   "version": "3.12.2"
  }
 },
 "nbformat": 4,
 "nbformat_minor": 5
}
