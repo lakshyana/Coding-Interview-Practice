{
 "cells": [
  {
   "cell_type": "markdown",
   "id": "be2eb3e4-54a7-4aed-89c8-42fbdf44f193",
   "metadata": {},
   "source": [
    "## Default Dictionary"
   ]
  },
  {
   "cell_type": "code",
   "execution_count": 1,
   "id": "98c57c3e-e72e-41b2-bf38-3983a022e442",
   "metadata": {},
   "outputs": [
    {
     "name": "stdout",
     "output_type": "stream",
     "text": [
      "defaultdict(<class 'int'>, {'a': 2, 'b': 2, 'c': 3, 'd': 1})\n"
     ]
    }
   ],
   "source": [
    "## Use case eg: Character Counts\n",
    "\n",
    "from collections import defaultdict\n",
    "\n",
    "c = defaultdict(int)\n",
    "\n",
    "s = \"aabbcccd\"\n",
    "for ch in s:\n",
    "    c[ch] += 1\n",
    "\n",
    "print(c)\n",
    "    "
   ]
  },
  {
   "cell_type": "markdown",
   "id": "79c5e5d3-4a15-40bf-a500-51d491470871",
   "metadata": {},
   "source": [
    "## Counter for string ch frequency counts"
   ]
  },
  {
   "cell_type": "code",
   "execution_count": 3,
   "id": "62cdee42-d73b-456e-951d-bb042215330b",
   "metadata": {},
   "outputs": [
    {
     "name": "stdout",
     "output_type": "stream",
     "text": [
      "Counter({'c': 3, 'a': 2, 'b': 2, 'd': 1})\n"
     ]
    }
   ],
   "source": [
    "from collections import Counter\n",
    "\n",
    "c = Counter(s)\n",
    "print(c)"
   ]
  },
  {
   "cell_type": "code",
   "execution_count": null,
   "id": "19fdc184-2aec-4558-a329-9890b2822845",
   "metadata": {},
   "outputs": [],
   "source": []
  }
 ],
 "metadata": {
  "kernelspec": {
   "display_name": "Python 3 (ipykernel)",
   "language": "python",
   "name": "python3"
  },
  "language_info": {
   "codemirror_mode": {
    "name": "ipython",
    "version": 3
   },
   "file_extension": ".py",
   "mimetype": "text/x-python",
   "name": "python",
   "nbconvert_exporter": "python",
   "pygments_lexer": "ipython3",
   "version": "3.12.2"
  }
 },
 "nbformat": 4,
 "nbformat_minor": 5
}
