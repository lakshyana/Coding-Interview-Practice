{
 "cells": [
  {
   "cell_type": "markdown",
   "source": [],
   "metadata": {
    "collapsed": false
   }
  },
  {
   "cell_type": "markdown",
   "source": [
    "<img src = \"img/bs.png\" style=\"width:500px;height:500px\"/>"
   ],
   "metadata": {
    "collapsed": false
   }
  },
  {
   "cell_type": "code",
   "execution_count": 9,
   "outputs": [],
   "source": [
    "def findTarget(nums:list[int], target:int) -> int :\n",
    "    start, end = 0, len(nums) - 1\n",
    "\n",
    "    # iterate until start is less than or equal to end\n",
    "    while start <= end:\n",
    "\n",
    "        # compute mid\n",
    "        mid_idx = (start + end)//2\n",
    "\n",
    "        # check the middle elem\n",
    "        # if middle elem is target, return index\n",
    "        if target == nums[mid_idx]:\n",
    "            return mid_idx\n",
    "\n",
    "        # elif target is greater than current mid, look to the right half\n",
    "        elif target > nums[mid_idx]:\n",
    "            start = mid_idx + 1\n",
    "\n",
    "        # elif target is less than current mid, look to the left half\n",
    "        elif target < nums[mid_idx]:\n",
    "            end = mid_idx - 1\n",
    "\n",
    "    return -1"
   ],
   "metadata": {
    "collapsed": false
   }
  },
  {
   "cell_type": "code",
   "execution_count": 6,
   "outputs": [
    {
     "data": {
      "text/plain": "4"
     },
     "execution_count": 6,
     "metadata": {},
     "output_type": "execute_result"
    }
   ],
   "source": [
    "findTarget([-1,0,3,5,9,12], 9)"
   ],
   "metadata": {
    "collapsed": false
   }
  },
  {
   "cell_type": "code",
   "execution_count": 7,
   "outputs": [
    {
     "data": {
      "text/plain": "-1"
     },
     "execution_count": 7,
     "metadata": {},
     "output_type": "execute_result"
    }
   ],
   "source": [
    "findTarget([-1,0,3,5,9,12], 2)"
   ],
   "metadata": {
    "collapsed": false
   }
  },
  {
   "cell_type": "markdown",
   "source": [],
   "metadata": {
    "collapsed": false
   }
  },
  {
   "cell_type": "markdown",
   "source": [
    "**Time Complexity: O(logn), Space Complexity: O(1)**"
   ],
   "metadata": {
    "collapsed": false
   }
  }
 ],
 "metadata": {
  "kernelspec": {
   "display_name": "Python 3",
   "language": "python",
   "name": "python3"
  },
  "language_info": {
   "codemirror_mode": {
    "name": "ipython",
    "version": 2
   },
   "file_extension": ".py",
   "mimetype": "text/x-python",
   "name": "python",
   "nbconvert_exporter": "python",
   "pygments_lexer": "ipython2",
   "version": "2.7.6"
  }
 },
 "nbformat": 4,
 "nbformat_minor": 0
}
