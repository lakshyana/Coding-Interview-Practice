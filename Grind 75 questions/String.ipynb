{
 "cells": [
  {
   "cell_type": "code",
   "execution_count": null,
   "metadata": {},
   "outputs": [],
   "source": []
  },
  {
   "cell_type": "markdown",
   "metadata": {},
   "source": [
    "<img src = \"img/vp.png\" style=\"width:500px;height:500px\"/>"
   ]
  },
  {
   "cell_type": "code",
   "execution_count": 15,
   "metadata": {},
   "outputs": [],
   "source": [
    "def isPalindrome(s:str) -> bool:\n",
    "    # 1: iterate through string and include only alphanumeric characters,\n",
    "    # 2: Then join the string and convert to lowercase\n",
    "    # 3: Then check if reverse of string equals the processed string\n",
    "    s_alphanum =  \"\".join([ch for ch in s if ch.isalnum()]).lower()\n",
    "    return s_alphanum == s_alphanum[::-1]"
   ]
  },
  {
   "cell_type": "code",
   "execution_count": 16,
   "metadata": {},
   "outputs": [
    {
     "data": {
      "text/plain": [
       "True"
      ]
     },
     "execution_count": 16,
     "metadata": {},
     "output_type": "execute_result"
    }
   ],
   "source": [
    "isPalindrome(\"A man, a plan, a canal: Panama\")"
   ]
  },
  {
   "cell_type": "code",
   "execution_count": 17,
   "metadata": {},
   "outputs": [
    {
     "data": {
      "text/plain": [
       "False"
      ]
     },
     "execution_count": 17,
     "metadata": {},
     "output_type": "execute_result"
    }
   ],
   "source": [
    "isPalindrome(\"race a car\")"
   ]
  },
  {
   "cell_type": "code",
   "execution_count": 13,
   "metadata": {},
   "outputs": [
    {
     "data": {
      "text/plain": [
       "True"
      ]
     },
     "execution_count": 13,
     "metadata": {},
     "output_type": "execute_result"
    }
   ],
   "source": [
    "isPalindrome(\"\")"
   ]
  },
  {
   "cell_type": "code",
   "execution_count": null,
   "metadata": {},
   "outputs": [],
   "source": []
  },
  {
   "cell_type": "markdown",
   "metadata": {},
   "source": [
    "<img src=\"img/lc20.png\" style=\"width:500px;height:500px\" />"
   ]
  },
  {
   "cell_type": "code",
   "execution_count": 1,
   "metadata": {},
   "outputs": [],
   "source": [
    "def hasValidParentheses(s:str) -> bool:\n",
    "    # initialize a map with closed to open bracket pairs\n",
    "    pairs = {\"}\":\"{\", \"]\":\"[\", \")\":\"(\"}\n",
    "    stack = []\n",
    "\n",
    "    # iterate through string\n",
    "    for ch in s:\n",
    "\n",
    "        # if open bracket, add to stack\n",
    "        if ch not in pairs:\n",
    "            stack.append(ch)\n",
    "\n",
    "        # if close bracket, pop the stack to check the last open bracket was the corresponding open bracket for the closed bracket\n",
    "        else:\n",
    "            open_bracket = stack.pop()\n",
    "            # if last open bracket is not the first closed bracket, return False\n",
    "            if pairs[ch] != open_bracket:\n",
    "                return False\n",
    "\n",
    "    # if correct and stack is empty at the end with all pairings popped, its valid\n",
    "    return False if stack else True\n"
   ]
  },
  {
   "cell_type": "code",
   "execution_count": 2,
   "metadata": {},
   "outputs": [
    {
     "data": {
      "text/plain": [
       "True"
      ]
     },
     "execution_count": 2,
     "metadata": {},
     "output_type": "execute_result"
    }
   ],
   "source": [
    "hasValidParentheses(\"()\")"
   ]
  },
  {
   "cell_type": "code",
   "execution_count": 3,
   "metadata": {},
   "outputs": [
    {
     "data": {
      "text/plain": [
       "True"
      ]
     },
     "execution_count": 3,
     "metadata": {},
     "output_type": "execute_result"
    }
   ],
   "source": [
    "hasValidParentheses(\"()[]{}\")"
   ]
  },
  {
   "cell_type": "code",
   "execution_count": 4,
   "metadata": {},
   "outputs": [
    {
     "data": {
      "text/plain": [
       "False"
      ]
     },
     "execution_count": 4,
     "metadata": {},
     "output_type": "execute_result"
    }
   ],
   "source": [
    "hasValidParentheses(\"(]\")"
   ]
  },
  {
   "cell_type": "markdown",
   "metadata": {},
   "source": [
    "#### LC 242: Valid Anagram"
   ]
  },
  {
   "cell_type": "markdown",
   "metadata": {},
   "source": [
    "<img src = \"img/lc242.png\" style=\"width:600px;height:600px\"/>"
   ]
  },
  {
   "cell_type": "code",
   "execution_count": 54,
   "metadata": {},
   "outputs": [],
   "source": [
    "### Approach 1: Sort the strings and check if they are the same\n",
    "def isAnagram(s, t):\n",
    "    s = sorted(s)\n",
    "    t = sorted(t)\n",
    "    return s == t\n",
    "    \n",
    "### Approach 2: Keep frequency count of all unique characters for one string and compare with the other string\n",
    "def isAnagram(s, t): \n",
    "    char_frequency = {}\n",
    "    length = len(s)\n",
    "    \n",
    "    # base case\n",
    "    if len(s) != len(t):\n",
    "        return False\n",
    "    \n",
    "    for i in range(length):\n",
    "        char_s = s[i]\n",
    "        char_t = t[i]\n",
    "        \n",
    "        # increment the count of the char at this index in s\n",
    "        char_frequency[char_s] = char_frequency[char_s] + 1 if char_s in char_frequency else 1\n",
    "        \n",
    "        # decrement the count of the char at this index in t\n",
    "        char_frequency[char_t] = char_frequency[char_t] - 1 if char_t in char_frequency else -1\n",
    "        \n",
    "    for k, v in char_frequency.items():\n",
    "        if v != 0:\n",
    "            return False\n",
    "        \n",
    "        \n",
    "    return True\n",
    "\n",
    "        \n",
    "    "
   ]
  },
  {
   "cell_type": "code",
   "execution_count": 56,
   "metadata": {},
   "outputs": [
    {
     "data": {
      "text/plain": [
       "True"
      ]
     },
     "execution_count": 56,
     "metadata": {},
     "output_type": "execute_result"
    }
   ],
   "source": [
    "isAnagram(\"abc\", \"acb\")"
   ]
  },
  {
   "cell_type": "code",
   "execution_count": null,
   "metadata": {},
   "outputs": [],
   "source": []
  },
  {
   "cell_type": "markdown",
   "metadata": {},
   "source": [
    "<img src=\"img/lc13.png\"/>"
   ]
  },
  {
   "cell_type": "code",
   "execution_count": null,
   "metadata": {},
   "outputs": [],
   "source": []
  }
 ],
 "metadata": {
  "kernelspec": {
   "display_name": "Python 3",
   "language": "python",
   "name": "python3"
  },
  "language_info": {
   "codemirror_mode": {
    "name": "ipython",
    "version": 3
   },
   "file_extension": ".py",
   "mimetype": "text/x-python",
   "name": "python",
   "nbconvert_exporter": "python",
   "pygments_lexer": "ipython3",
   "version": "3.7.7"
  }
 },
 "nbformat": 4,
 "nbformat_minor": 1
}
