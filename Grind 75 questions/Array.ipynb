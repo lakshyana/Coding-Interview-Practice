{
 "cells": [
  {
   "cell_type": "markdown",
   "source": [
    "<img src=\"img/lc217.png\" style=\"width:600px;height:600px\"/>"
   ],
   "metadata": {
    "collapsed": false
   }
  },
  {
   "cell_type": "code",
   "execution_count": 1,
   "outputs": [],
   "source": [
    "def containsDuplicate(nums:list[int]) -> bool:\n",
    "    return len(set(nums)) != len(nums)\n",
    "\n",
    "def containsDuplicate(nums:list[int]) -> bool:\n",
    "    # create a set to store the nums\n",
    "    nums_set = set()\n",
    "\n",
    "    # iterate over nums\n",
    "    for num in nums:\n",
    "\n",
    "        # check if num is in nums_set already, if it is, then return True\n",
    "        if num in nums_set:\n",
    "            return True\n",
    "\n",
    "        # Otherwise add this num to num_set\n",
    "        nums_set.add(num)\n",
    "\n",
    "    return False\n"
   ],
   "metadata": {
    "collapsed": false
   }
  },
  {
   "cell_type": "code",
   "execution_count": 2,
   "outputs": [
    {
     "data": {
      "text/plain": "False"
     },
     "execution_count": 2,
     "metadata": {},
     "output_type": "execute_result"
    }
   ],
   "source": [
    "containsDuplicate([1,4,2,3])"
   ],
   "metadata": {
    "collapsed": false
   }
  },
  {
   "cell_type": "code",
   "execution_count": 12,
   "outputs": [
    {
     "data": {
      "text/plain": [
       "True"
      ]
     },
     "execution_count": 12,
     "metadata": {},
     "output_type": "execute_result"
    }
   ],
   "source": [
    "containsDuplicate([1,2,2,3])"
   ],
   "metadata": {
    "collapsed": false
   }
  },
  {
   "cell_type": "markdown",
   "source": [
    "**Time Complexity: O(n), Space Complexity: O(n)**"
   ],
   "metadata": {
    "collapsed": false
   }
  },
  {
   "cell_type": "markdown",
   "metadata": {},
   "source": [
    "<img src = \"img/q1.png\" style=\"width:700px;height:700px\"/>"
   ]
  },
  {
   "cell_type": "code",
   "execution_count": 4,
   "metadata": {
    "collapsed": true
   },
   "outputs": [],
   "source": [
    "class Solution:\n",
    "\n",
    "    def twoSum(self, nums: list[int], target: int) -> list[int]:\n",
    "\n",
    "        # Initialize a num to index map\n",
    "        nums_to_index = {}\n",
    "\n",
    "        # iterate over the nums\n",
    "        for i, num in enumerate(nums):\n",
    "\n",
    "            # compute the difference between target and num\n",
    "            diff = target - num\n",
    "\n",
    "            #if the diff number is already in the map\n",
    "            if diff in nums_to_index:\n",
    "                return [nums_to_index[diff], i] # return the index of the diff and this index\n",
    "\n",
    "            #Otherwise just add it to the map and continue iterating\n",
    "            nums_to_index[num] = i\n",
    "\n",
    "\n",
    "        return\n",
    "\n",
    "solution = Solution()\n"
   ]
  },
  {
   "cell_type": "code",
   "execution_count": 5,
   "metadata": {},
   "outputs": [
    {
     "data": {
      "text/plain": "[0, 1]"
     },
     "execution_count": 5,
     "metadata": {},
     "output_type": "execute_result"
    }
   ],
   "source": [
    "solution.twoSum([3,3], 6)"
   ]
  },
  {
   "cell_type": "code",
   "execution_count": 6,
   "metadata": {},
   "outputs": [
    {
     "data": {
      "text/plain": "[1, 2]"
     },
     "execution_count": 6,
     "metadata": {},
     "output_type": "execute_result"
    }
   ],
   "source": [
    "solution.twoSum([3,7,2,11,15], 9)"
   ]
  },
  {
   "cell_type": "markdown",
   "metadata": {},
   "source": [
    "<img src = \"img/lc169.png\" style=\"width:380px;height:600px\"/>"
   ]
  },
  {
   "cell_type": "code",
   "execution_count": 8,
   "metadata": {},
   "outputs": [],
   "source": [
    "def getMajority(nums):\n",
    "    nums.sort()\n",
    "    return nums[len(nums)//2]"
   ]
  },
  {
   "cell_type": "code",
   "execution_count": 12,
   "metadata": {},
   "outputs": [],
   "source": [
    "def getMajority(nums):\n",
    "    ## store count and majority number\n",
    "    count = 0\n",
    "    maj_elem = nums[0]\n",
    "    \n",
    "    #iterate over nums\n",
    "    for num in nums:\n",
    "        if count != 0:\n",
    "            if num == maj_elem:\n",
    "                count += 1\n",
    "            else:\n",
    "                count -= 1\n",
    "                \n",
    "        # if count is 0\n",
    "        if count == 0:\n",
    "            maj_elem = num\n",
    "            count = 1\n",
    "    # return majority elem, which is guarenteed to exist in this case        \n",
    "    return maj_elem"
   ]
  },
  {
   "cell_type": "code",
   "execution_count": 13,
   "metadata": {},
   "outputs": [
    {
     "data": {
      "text/plain": [
       "3"
      ]
     },
     "execution_count": 13,
     "metadata": {},
     "output_type": "execute_result"
    }
   ],
   "source": [
    "getMajority([3,2,3])"
   ]
  },
  {
   "cell_type": "code",
   "execution_count": 14,
   "metadata": {},
   "outputs": [
    {
     "data": {
      "text/plain": [
       "2"
      ]
     },
     "execution_count": 14,
     "metadata": {},
     "output_type": "execute_result"
    }
   ],
   "source": [
    "getMajority([2,2,1,1,1,2,2])"
   ]
  },
  {
   "cell_type": "markdown",
   "metadata": {},
   "source": [
    "<img src = \"img/lcMeetingRooms.png\" style=\"width:300px;height:500px\"/>"
   ]
  },
  {
   "cell_type": "code",
   "execution_count": 27,
   "metadata": {},
   "outputs": [],
   "source": [
    "\n",
    "\"\"\"\n",
    "Definition of Interval:\n",
    "\"\"\"\n",
    "class Interval(object):\n",
    "    def __init__(self, start, end):\n",
    "        self.start = start\n",
    "        self.end = end\n",
    "        \n",
    "class Solution:\n",
    "    \"\"\"\n",
    "    @param intervals: an array of meeting time intervals\n",
    "    @return: if a person could attend all meetings\n",
    "    \"\"\"\n",
    "    def can_attend_meetings(self, intervals):\n",
    "        # sort the intervals by start time\n",
    "        intervals.sort(key = lambda interval: interval.start)\n",
    "        \n",
    "        #iterate over intervals\n",
    "        for i in range(len(intervals)-1): # -1 since # intervals is less than nums\n",
    "            \n",
    "            # compare consecutive pairs and return False\n",
    "            \n",
    "            # if the intervals overlap (end time of this is later than start time of other)\n",
    "            if intervals[i].end > intervals[i+1].start:\n",
    "                return False\n",
    "        \n",
    "        return True"
   ]
  },
  {
   "cell_type": "code",
   "execution_count": 28,
   "metadata": {},
   "outputs": [
    {
     "data": {
      "text/plain": [
       "False"
      ]
     },
     "execution_count": 28,
     "metadata": {},
     "output_type": "execute_result"
    }
   ],
   "source": [
    "nums = [(5,10),(0,30),(15,20)]\n",
    "intervals = [Interval(i[0],i[-1]) for i in nums]   \n",
    "\n",
    "soln = Solution()\n",
    "soln.can_attend_meetings(intervals)"
   ]
  },
  {
   "cell_type": "code",
   "execution_count": 29,
   "metadata": {},
   "outputs": [
    {
     "data": {
      "text/plain": [
       "True"
      ]
     },
     "execution_count": 29,
     "metadata": {},
     "output_type": "execute_result"
    }
   ],
   "source": [
    "nums = [(5,8),(9,15)]\n",
    "intervals = [Interval(i[0],i[-1]) for i in nums]   \n",
    "\n",
    "soln = Solution()\n",
    "soln.can_attend_meetings(intervals)"
   ]
  },
  {
   "cell_type": "markdown",
   "source": [
    "<img src = \"img/q3.png\" style=\"width:600px;height:600px\"/>"
   ],
   "metadata": {
    "collapsed": false
   }
  },
  {
   "cell_type": "code",
   "execution_count": 24,
   "outputs": [],
   "source": [
    "def insertInterval(intervals, newInterval):\n",
    "    \"\"\"\n",
    "    :param intervals: Non-overlapping intervals sorted by start time\n",
    "    :param newInterval: Start and end time of new interval that is to be inserted with or without merge\n",
    "    :return: new list of intervals\n",
    "    \"\"\"\n",
    "    output = []\n",
    "    # iterate over the intervals\n",
    "    for i in range(len(intervals)):\n",
    "\n",
    "        # Non-overlapping case: end time of new interval is less than start time of current interval\n",
    "        if (newInterval[1] < intervals[i][0]):\n",
    "            # 1. insert the interval here without any merge\n",
    "            output.append(newInterval)\n",
    "\n",
    "            # 2. return this interval with the rest of the intervals as no merge possible in this case\n",
    "            # output.extend(intervals[i:])\n",
    "            return output + intervals[i:]\n",
    "            # return output\n",
    "\n",
    "        # Non-overlapping case: start time of current interval is more than the end time of current interval\n",
    "        if (newInterval[0] > intervals[i][1]):\n",
    "            # 1. insert the current interval to output\n",
    "            output.append(intervals[i])\n",
    "\n",
    "            # check the rest of the intervals before adding new interval\n",
    "\n",
    "        # Overlapping case:\n",
    "        else:\n",
    "            # update the new Interval start time to be the min of start times of two intervals\n",
    "            # update the new Interval end time to be the max of the two intervals\n",
    "            newInterval[0] = min(intervals[i][0], newInterval[0])\n",
    "            newInterval[1] = max(intervals[i][1], newInterval[1])\n",
    "\n",
    "    # add the new Interval after iterating through all the intervals\n",
    "    output.append(newInterval)\n",
    "\n",
    "    return output"
   ],
   "metadata": {
    "collapsed": false
   }
  },
  {
   "cell_type": "code",
   "execution_count": 25,
   "outputs": [
    {
     "data": {
      "text/plain": "[[1, 3], [4, 5], [6, 9], [8, 10]]"
     },
     "execution_count": 25,
     "metadata": {},
     "output_type": "execute_result"
    }
   ],
   "source": [
    "insertInterval([[4,5],[6,9],[8,10]],[1,3])"
   ],
   "metadata": {
    "collapsed": false
   }
  },
  {
   "cell_type": "code",
   "execution_count": 26,
   "outputs": [
    {
     "data": {
      "text/plain": "[[1, 5], [6, 9]]"
     },
     "execution_count": 26,
     "metadata": {},
     "output_type": "execute_result"
    }
   ],
   "source": [
    "insertInterval([[1,3],[6,9]],[2,5])"
   ],
   "metadata": {
    "collapsed": false
   }
  },
  {
   "cell_type": "code",
   "execution_count": 27,
   "outputs": [
    {
     "data": {
      "text/plain": "[[1, 2], [3, 10], [12, 16]]"
     },
     "execution_count": 27,
     "metadata": {},
     "output_type": "execute_result"
    }
   ],
   "source": [
    "insertInterval([[1,2],[3,5],[6,7],[8,10],[12,16]],[4,8])"
   ],
   "metadata": {
    "collapsed": false
   }
  },
  {
   "cell_type": "code",
   "execution_count": null,
   "outputs": [],
   "source": [],
   "metadata": {
    "collapsed": false
   }
  },
  {
   "cell_type": "markdown",
   "metadata": {},
   "source": [
    "<img src = \"img/lc283.png\" style=\"width:470px; height:600px\"/>"
   ]
  },
  {
   "cell_type": "code",
   "execution_count": 13,
   "metadata": {},
   "outputs": [],
   "source": [
    "def moveZeroes(nums):\n",
    "        \"\"\"\n",
    "        Do not return anything, modify nums in-place instead.\n",
    "        \"\"\"\n",
    "        # initialize pointer\n",
    "        left  = 0\n",
    "        \n",
    "        # iterate until start and end overlap\n",
    "        for right in range(len(nums)):\n",
    "            \n",
    "            # if non-zero element\n",
    "            if nums[right] != 0:\n",
    "                # swap values between index with 0 and index with non-zero\n",
    "                nums[left], nums[right] = nums[right], nums[left]\n",
    "                \n",
    "                #increment left pointer\n",
    "                left += 1\n",
    "                \n",
    "            # else: if num is 0 just continue iterating\n",
    "            "
   ]
  },
  {
   "cell_type": "code",
   "execution_count": 14,
   "metadata": {},
   "outputs": [
    {
     "data": {
      "text/plain": [
       "[1, 3, 12, 0, 0]"
      ]
     },
     "execution_count": 14,
     "metadata": {},
     "output_type": "execute_result"
    }
   ],
   "source": [
    "nums = [0,1,0,3,12]\n",
    "moveZeroes(nums)\n",
    "nums"
   ]
  },
  {
   "cell_type": "code",
   "execution_count": 15,
   "metadata": {},
   "outputs": [
    {
     "data": {
      "text/plain": [
       "[0]"
      ]
     },
     "execution_count": 15,
     "metadata": {},
     "output_type": "execute_result"
    }
   ],
   "source": [
    "nums = [0]\n",
    "moveZeroes(nums)\n",
    "nums"
   ]
  },
  {
   "cell_type": "markdown",
   "source": [
    "<img src = \"img/lc977.png\" style=\"width:700px;height:600px\"/>"
   ],
   "metadata": {
    "collapsed": false
   }
  },
  {
   "cell_type": "code",
   "execution_count": 23,
   "outputs": [],
   "source": [
    "def sortSquaredArray(nums):\n",
    "    # initialize left and right pointers as first and last index\n",
    "    lp, rp = 0, len(nums)-1\n",
    "\n",
    "    # output = []\n",
    "    output = [1] * len(nums)\n",
    "\n",
    "    # iterate until the points don't overlap\n",
    "    for i in range(len(nums)-1,-1,-1):\n",
    "\n",
    "    # while lp < rp:\n",
    "        # start with the tip of the lists, note that the largest terms that exist should be towards the right tip or left tip if any negative number exists,\n",
    "        left_term_sq  = nums[lp]**2\n",
    "        right_term_sq = nums[rp]**2\n",
    "\n",
    "\n",
    "        # whichever term is larger add that to the result and update the corresponding pointer\n",
    "        if left_term_sq>right_term_sq:\n",
    "            # output.append(left_term_sq) # append the larger term\n",
    "            output[i] = left_term_sq\n",
    "            lp +=1\n",
    "\n",
    "        else:\n",
    "            # output.append(right_term_sq) #append the right term\n",
    "            output[i] = right_term_sq\n",
    "            rp -= 1 # decrement the right pointer\n",
    "\n",
    "    # now return the reverse list\n",
    "    # output.reverse()\n",
    "    return output"
   ],
   "metadata": {
    "collapsed": false
   }
  },
  {
   "cell_type": "code",
   "execution_count": 24,
   "outputs": [
    {
     "data": {
      "text/plain": "[0, 1, 9, 16, 100]"
     },
     "execution_count": 24,
     "metadata": {},
     "output_type": "execute_result"
    }
   ],
   "source": [
    "sortSquaredArray([-4,-1,0,3,10])"
   ],
   "metadata": {
    "collapsed": false
   }
  },
  {
   "cell_type": "code",
   "execution_count": 25,
   "outputs": [
    {
     "data": {
      "text/plain": "[4, 9, 9, 49, 121]"
     },
     "execution_count": 25,
     "metadata": {},
     "output_type": "execute_result"
    }
   ],
   "source": [
    "sortSquaredArray([-7,-3,2,3,11])"
   ],
   "metadata": {
    "collapsed": false
   }
  },
  {
   "cell_type": "code",
   "execution_count": null,
   "outputs": [],
   "source": [],
   "metadata": {
    "collapsed": false
   }
  },
  {
   "cell_type": "markdown",
   "source": [
    "<img src = \"img/lc238.png\" style=\"width:700px;height:600px\"/>"
   ],
   "metadata": {
    "collapsed": false
   }
  },
  {
   "cell_type": "code",
   "execution_count": 13,
   "outputs": [],
   "source": [
    "def productExceptSelf(nums):\n",
    "    length = len(nums)\n",
    "    output = [1] * length\n",
    "    multiplier = 1\n",
    "\n",
    "    # get product of left side elems\n",
    "    for i in range(length):\n",
    "        output[i] *= multiplier\n",
    "        multiplier *= nums[i]\n",
    "\n",
    "    print(\"output left\")\n",
    "    print(output)\n",
    "\n",
    "    # get product of right side elems\n",
    "    multiplier = 1\n",
    "    for i in range(length):\n",
    "        # iterate in reverse order for right multiples\n",
    "        output[length-1-i] *= multiplier\n",
    "        multiplier *= nums[length-1-i]\n",
    "\n",
    "    print(\"output total\")\n",
    "    print(output)"
   ],
   "metadata": {
    "collapsed": false
   }
  },
  {
   "cell_type": "code",
   "execution_count": 14,
   "outputs": [
    {
     "name": "stdout",
     "output_type": "stream",
     "text": [
      "output left\n",
      "[1, 1, 2, 6]\n",
      "output total\n",
      "[24, 12, 8, 6]\n"
     ]
    }
   ],
   "source": [
    "productExceptSelf([1,2,3,4])"
   ],
   "metadata": {
    "collapsed": false
   }
  },
  {
   "cell_type": "code",
   "execution_count": null,
   "outputs": [],
   "source": [],
   "metadata": {
    "collapsed": false
   }
  },
  {
   "cell_type": "markdown",
   "metadata": {},
   "source": [
    "<img src = \"img/q2.png\" style=\"width:700px;height:600px\"/>"
   ]
  },
  {
   "cell_type": "code",
   "execution_count": 15,
   "metadata": {},
   "outputs": [],
   "source": [
    "def compute_best_time(prices:list[int]) -> int :\n",
    "\n",
    "    # initialize mininum buying price, and maximum profit\n",
    "    buy_price, profit = float(\"inf\"), 0\n",
    "\n",
    "    # iterate over the prices while the left pointer and right pointer don't meet\n",
    "    for price in prices:\n",
    "        # if this price is lower than buy price, update buying price\n",
    "        buy_price = min(buy_price, price)\n",
    "\n",
    "        # compute max of the diff between sell and buy price\n",
    "        profit = max(profit, price-buy_price)\n",
    "\n",
    "    return profit"
   ]
  },
  {
   "cell_type": "code",
   "execution_count": 16,
   "metadata": {},
   "outputs": [
    {
     "data": {
      "text/plain": [
       "5"
      ]
     },
     "execution_count": 16,
     "metadata": {},
     "output_type": "execute_result"
    }
   ],
   "source": [
    "prices = [7,1,5,3,6,4]\n",
    "compute_best_time(prices)"
   ]
  },
  {
   "cell_type": "code",
   "execution_count": 17,
   "metadata": {},
   "outputs": [
    {
     "data": {
      "text/plain": [
       "0"
      ]
     },
     "execution_count": 17,
     "metadata": {},
     "output_type": "execute_result"
    }
   ],
   "source": [
    "prices = [7,6,4,3,1]\n",
    "compute_best_time(prices)"
   ]
  },
  {
   "cell_type": "markdown",
   "metadata": {},
   "source": [
    "<img src = \"img/lc53.png\"  style=\"width:600px;height:650px\"/>"
   ]
  },
  {
   "cell_type": "code",
   "execution_count": 1,
   "metadata": {},
   "outputs": [],
   "source": [
    "def getMaxSubArray(nums:list[int]) -> list[int]:\n",
    "\n",
    "    # initialize start and end of the subarray window\n",
    "    max_sum, current_max = -float(\"inf\"), -float(\"inf\")\n",
    "\n",
    "    # iterate through the nums list\n",
    "    for num in nums:\n",
    "        current_max = max(num, current_max+num)\n",
    "        max_sum = max(max_sum, current_max)\n",
    "\n",
    "    return max_sum"
   ]
  },
  {
   "cell_type": "code",
   "execution_count": 2,
   "metadata": {},
   "outputs": [
    {
     "data": {
      "text/plain": [
       "6"
      ]
     },
     "execution_count": 2,
     "metadata": {},
     "output_type": "execute_result"
    }
   ],
   "source": [
    "getMaxSubArray([-2,1,-3,4,-1,2,1,-5,4])"
   ]
  },
  {
   "cell_type": "code",
   "execution_count": 19,
   "metadata": {},
   "outputs": [
    {
     "data": {
      "text/plain": [
       "8"
      ]
     },
     "execution_count": 19,
     "metadata": {},
     "output_type": "execute_result"
    }
   ],
   "source": [
    "getMaxSubArray([-2,1,-3,4,-1,2,1,2,-5,4])"
   ]
  }
 ],
 "metadata": {
  "kernelspec": {
   "display_name": "Python 3",
   "language": "python",
   "name": "python3"
  },
  "language_info": {
   "codemirror_mode": {
    "name": "ipython",
    "version": 3
   },
   "file_extension": ".py",
   "mimetype": "text/x-python",
   "name": "python",
   "nbconvert_exporter": "python",
   "pygments_lexer": "ipython3",
   "version": "3.7.7"
  }
 },
 "nbformat": 4,
 "nbformat_minor": 1
}
