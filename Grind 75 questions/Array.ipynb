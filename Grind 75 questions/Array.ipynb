{
 "cells": [
  {
   "cell_type": "markdown",
   "metadata": {},
   "source": [
    "<img src=\"img/lc217.png\" style=\"width:600px;height:600px\"/>"
   ]
  },
  {
   "cell_type": "code",
   "execution_count": 1,
   "metadata": {},
   "outputs": [],
   "source": [
    "def containsDuplicate(nums:list[int]) -> bool:\n",
    "    return len(set(nums)) != len(nums)\n",
    "\n",
    "def containsDuplicate(nums:list[int]) -> bool:\n",
    "    # create a set to store the nums\n",
    "    nums_set = set()\n",
    "\n",
    "    # iterate over nums\n",
    "    for num in nums:\n",
    "\n",
    "        # check if num is in nums_set already, if it is, then return True\n",
    "        if num in nums_set:\n",
    "            return True\n",
    "\n",
    "        # Otherwise add this num to num_set\n",
    "        nums_set.add(num)\n",
    "\n",
    "    return False\n"
   ]
  },
  {
   "cell_type": "code",
   "execution_count": 2,
   "metadata": {},
   "outputs": [
    {
     "data": {
      "text/plain": [
       "False"
      ]
     },
     "execution_count": 2,
     "metadata": {},
     "output_type": "execute_result"
    }
   ],
   "source": [
    "containsDuplicate([1,4,2,3])"
   ]
  },
  {
   "cell_type": "code",
   "execution_count": 12,
   "metadata": {},
   "outputs": [
    {
     "data": {
      "text/plain": [
       "True"
      ]
     },
     "execution_count": 12,
     "metadata": {},
     "output_type": "execute_result"
    }
   ],
   "source": [
    "containsDuplicate([1,2,2,3])"
   ]
  },
  {
   "cell_type": "markdown",
   "metadata": {},
   "source": [
    "**Time Complexity: O(n), Space Complexity: O(n)**"
   ]
  },
  {
   "cell_type": "markdown",
   "metadata": {},
   "source": [
    "#### LC 1: Two Sum"
   ]
  },
  {
   "cell_type": "markdown",
   "metadata": {},
   "source": [
    "<img src = \"img/q1.png\" style=\"width:700px;height:700px\"/>"
   ]
  },
  {
   "cell_type": "code",
   "execution_count": null,
   "metadata": {},
   "outputs": [],
   "source": [
    "class Solution:\n",
    "    def twoSum(self, nums:list[int], target: int) -> list[int]:\n",
    "        hashmap = {}\n",
    "        \n",
    "        for i in range(len(nums)):\n",
    "            \n",
    "            #compute difference\n",
    "            diff = target - nums[i]\n",
    "            \n",
    "            # check if complement in hashmap\n",
    "            if diff in hashmap:\n",
    "                return [hashmap[diff], i]\n",
    "            \n",
    "            # else add this num and index to hashmap\n",
    "            hashmap[nums[i]] = i\n",
    "        "
   ]
  },
  {
   "cell_type": "code",
   "execution_count": 4,
   "metadata": {
    "collapsed": true
   },
   "outputs": [],
   "source": [
    "class Solution:\n",
    "\n",
    "    def twoSum(self, nums: list[int], target: int) -> list[int]:\n",
    "\n",
    "        # Initialize a num to index map\n",
    "        nums_to_index = {}\n",
    "\n",
    "        # iterate over the nums\n",
    "        for i, num in enumerate(nums):\n",
    "\n",
    "            # compute the difference between target and num\n",
    "            diff = target - num\n",
    "\n",
    "            #if the diff number is already in the map\n",
    "            if diff in nums_to_index:\n",
    "                return [nums_to_index[diff], i] # return the index of the diff and this index\n",
    "\n",
    "            #Otherwise just add it to the map and continue iterating\n",
    "            nums_to_index[num] = i\n",
    "\n",
    "\n",
    "        return\n",
    "\n",
    "solution = Solution()\n"
   ]
  },
  {
   "cell_type": "code",
   "execution_count": 5,
   "metadata": {},
   "outputs": [
    {
     "data": {
      "text/plain": [
       "[0, 1]"
      ]
     },
     "execution_count": 5,
     "metadata": {},
     "output_type": "execute_result"
    }
   ],
   "source": [
    "solution.twoSum([3,3], 6)"
   ]
  },
  {
   "cell_type": "code",
   "execution_count": 6,
   "metadata": {},
   "outputs": [
    {
     "data": {
      "text/plain": [
       "[1, 2]"
      ]
     },
     "execution_count": 6,
     "metadata": {},
     "output_type": "execute_result"
    }
   ],
   "source": [
    "solution.twoSum([3,7,2,11,15], 9)"
   ]
  },
  {
   "cell_type": "markdown",
   "metadata": {},
   "source": [
    "**Time Complexity: O(n), Space Complexity: O(n)**\n",
    "\n",
    "Time complexity: O(n). We traverse the list containing n elements only once. Each lookup in the table costs only O(1) time.\n",
    "Space complexity: O(n). The extra space required depends on the number of items stored in the hash table, which stores at most n elements."
   ]
  },
  {
   "cell_type": "code",
   "execution_count": null,
   "metadata": {},
   "outputs": [],
   "source": []
  },
  {
   "cell_type": "markdown",
   "metadata": {},
   "source": [
    "<img src = \"img/lc169.png\" style=\"width:400px;height:600px\"/>"
   ]
  },
  {
   "cell_type": "code",
   "execution_count": 8,
   "metadata": {},
   "outputs": [],
   "source": [
    "def getMajority(nums):\n",
    "    nums.sort()\n",
    "    return nums[len(nums)//2]"
   ]
  },
  {
   "cell_type": "code",
   "execution_count": 12,
   "metadata": {},
   "outputs": [],
   "source": [
    "def getMajority(nums):\n",
    "    ## store count and majority number\n",
    "    count = 0\n",
    "    maj_elem = nums[0]\n",
    "    \n",
    "    #iterate over nums\n",
    "    for num in nums:\n",
    "        if count != 0:\n",
    "            if num == maj_elem:\n",
    "                count += 1\n",
    "            else:\n",
    "                count -= 1\n",
    "                \n",
    "        # if count is 0\n",
    "        if count == 0:\n",
    "            maj_elem = num\n",
    "            count = 1\n",
    "    # return majority elem, which is guarenteed to exist in this case        \n",
    "    return maj_elem"
   ]
  },
  {
   "cell_type": "code",
   "execution_count": 13,
   "metadata": {},
   "outputs": [
    {
     "data": {
      "text/plain": [
       "3"
      ]
     },
     "execution_count": 13,
     "metadata": {},
     "output_type": "execute_result"
    }
   ],
   "source": [
    "getMajority([3,2,3])"
   ]
  },
  {
   "cell_type": "code",
   "execution_count": 14,
   "metadata": {},
   "outputs": [
    {
     "data": {
      "text/plain": [
       "2"
      ]
     },
     "execution_count": 14,
     "metadata": {},
     "output_type": "execute_result"
    }
   ],
   "source": [
    "getMajority([2,2,1,1,1,2,2])"
   ]
  },
  {
   "cell_type": "markdown",
   "metadata": {},
   "source": [
    "<img src = \"img/lc252.png\" style=\"width:550px;height:580px\"/>"
   ]
  },
  {
   "cell_type": "code",
   "execution_count": 3,
   "metadata": {},
   "outputs": [
    {
     "data": {
      "text/plain": [
       "[[1, 2], [2, 3], [3, 1]]"
      ]
     },
     "execution_count": 3,
     "metadata": {},
     "output_type": "execute_result"
    }
   ],
   "source": [
    "a = [[1,2], [3,1], [2, 3]]\n",
    "\n",
    "a.sort()\n",
    "a\n",
    "#Note: sort() on list of lists sorts by the first index of sublist"
   ]
  },
  {
   "cell_type": "code",
   "execution_count": 11,
   "metadata": {},
   "outputs": [],
   "source": [
    "class Solution:\n",
    "    def canAttendMeeting(self, intervals) -> bool:\n",
    "        \n",
    "        # sort intervals by start time\n",
    "        intervals.sort()\n",
    "        \n",
    "        # iterate over sorted intervals\n",
    "        for i in range(len(intervals) - 1): # -1 since we are comparing a pair of intervals per iteration\n",
    "            # check if end time of current is more than start time of next \n",
    "            if intervals[i][1] > intervals[i+1][0]:\n",
    "                return False\n",
    "            \n",
    "            # else continue\n",
    "            \n",
    "        # if loop completes return True\n",
    "        return True\n",
    "        "
   ]
  },
  {
   "cell_type": "code",
   "execution_count": 12,
   "metadata": {},
   "outputs": [
    {
     "data": {
      "text/plain": [
       "False"
      ]
     },
     "execution_count": 12,
     "metadata": {},
     "output_type": "execute_result"
    }
   ],
   "source": [
    "soln = Solution()\n",
    "soln.canAttendMeeting(intervals = [[0,30],[5,10],[15,20]])"
   ]
  },
  {
   "cell_type": "code",
   "execution_count": 13,
   "metadata": {},
   "outputs": [
    {
     "data": {
      "text/plain": [
       "True"
      ]
     },
     "execution_count": 13,
     "metadata": {},
     "output_type": "execute_result"
    }
   ],
   "source": [
    "soln = Solution()\n",
    "soln.canAttendMeeting(intervals = [[7,10],[2,4]])"
   ]
  },
  {
   "cell_type": "markdown",
   "metadata": {},
   "source": [
    "Time complexity : O(nlog⁡n). The time complexity is dominated by sorting. Once the array has been sorted, only O(n) time is taken to go through the array and determine if there is any overlap.\n",
    "\n",
    "Space complexity : O(1). Since no additional space is allocated."
   ]
  },
  {
   "cell_type": "code",
   "execution_count": 27,
   "metadata": {},
   "outputs": [],
   "source": [
    "\n",
    "\"\"\"\n",
    "Definition of Interval:\n",
    "\"\"\"\n",
    "class Interval(object):\n",
    "    def __init__(self, start, end):\n",
    "        self.start = start\n",
    "        self.end = end\n",
    "        \n",
    "class Solution:\n",
    "    \"\"\"\n",
    "    @param intervals: an array of meeting time intervals\n",
    "    @return: if a person could attend all meetings\n",
    "    \"\"\"\n",
    "    def can_attend_meetings(self, intervals):\n",
    "        # sort the intervals by start time\n",
    "        intervals.sort(key = lambda interval: interval.start)\n",
    "        \n",
    "        #iterate over intervals\n",
    "        for i in range(len(intervals)-1): # -1 since # intervals is less than nums\n",
    "            \n",
    "            # compare consecutive pairs and return False\n",
    "            \n",
    "            # if the intervals overlap (end time of this is later than start time of other)\n",
    "            if intervals[i].end > intervals[i+1].start:\n",
    "                return False\n",
    "        \n",
    "        return True"
   ]
  },
  {
   "cell_type": "code",
   "execution_count": 28,
   "metadata": {},
   "outputs": [
    {
     "data": {
      "text/plain": [
       "False"
      ]
     },
     "execution_count": 28,
     "metadata": {},
     "output_type": "execute_result"
    }
   ],
   "source": [
    "nums = [(5,10),(0,30),(15,20)]\n",
    "intervals = [Interval(i[0],i[-1]) for i in nums]   \n",
    "\n",
    "soln = Solution()\n",
    "soln.can_attend_meetings(intervals)"
   ]
  },
  {
   "cell_type": "code",
   "execution_count": 29,
   "metadata": {},
   "outputs": [
    {
     "data": {
      "text/plain": [
       "True"
      ]
     },
     "execution_count": 29,
     "metadata": {},
     "output_type": "execute_result"
    }
   ],
   "source": [
    "nums = [(5,8),(9,15)]\n",
    "intervals = [Interval(i[0],i[-1]) for i in nums]   \n",
    "\n",
    "soln = Solution()\n",
    "soln.can_attend_meetings(intervals)"
   ]
  },
  {
   "cell_type": "markdown",
   "metadata": {},
   "source": [
    "<img src = \"img/lc253.png\" style=\"width:550px;height:550px\"/>"
   ]
  },
  {
   "cell_type": "markdown",
   "metadata": {},
   "source": [
    "<img src = \"img/lc252f1.png\" style=\"width:500px;height:450px\"/>"
   ]
  },
  {
   "cell_type": "markdown",
   "metadata": {},
   "source": [
    "<img src = \"img/lc252f2.png\" style=\"width:500px;height:400px\"/>"
   ]
  },
  {
   "cell_type": "code",
   "execution_count": 29,
   "metadata": {},
   "outputs": [],
   "source": [
    "def minMeetingRooms(intervals):\n",
    "    # separate start and end times and sort them\n",
    "    start = sorted([i[0] for i in intervals]) # sorted for returning the list after sorting\n",
    "    end   = sorted([i[1] for i in intervals]) \n",
    "    \n",
    "    # initialize two pointers for start and end\n",
    "    start_ptr, end_ptr = 0, 0\n",
    "    \n",
    "    result = 0\n",
    "    num_rooms = 0\n",
    "    \n",
    "    length = len(intervals)\n",
    "    \n",
    "    #iterate until all meetings have been processed\n",
    "    while start_ptr < length:\n",
    "#         print(num_rooms)\n",
    "        \n",
    "        # if this meeting starts before the other ends, increment count and start ptr\n",
    "        if start[start_ptr] < end[end_ptr]:\n",
    "            start_ptr += 1\n",
    "            num_rooms += 1\n",
    "          \n",
    "        # if this meeting ends before the other starts, decrement count (room is freed up) and increment end ptr\n",
    "        else:\n",
    "            num_rooms -= 1\n",
    "            end_ptr += 1\n",
    "            \n",
    "        result = max(num_rooms, result)\n",
    "            \n",
    "    return result\n",
    "            \n",
    "        \n",
    "    \n",
    "    \n",
    "    "
   ]
  },
  {
   "cell_type": "code",
   "execution_count": 28,
   "metadata": {},
   "outputs": [
    {
     "name": "stdout",
     "output_type": "stream",
     "text": [
      "0\n",
      "1\n",
      "2\n",
      "1\n",
      "0\n"
     ]
    },
    {
     "data": {
      "text/plain": [
       "2"
      ]
     },
     "execution_count": 28,
     "metadata": {},
     "output_type": "execute_result"
    }
   ],
   "source": [
    "intervals =[[13,15],[1,13],[6,9]]\n",
    "minMeetingRooms(intervals)"
   ]
  },
  {
   "cell_type": "code",
   "execution_count": null,
   "metadata": {},
   "outputs": [],
   "source": []
  },
  {
   "cell_type": "markdown",
   "metadata": {},
   "source": [
    "<img src = \"img/q3.png\" style=\"width:600px;height:600px\"/>"
   ]
  },
  {
   "cell_type": "code",
   "execution_count": 24,
   "metadata": {},
   "outputs": [],
   "source": [
    "def insertInterval(intervals, newInterval):\n",
    "    \"\"\"\n",
    "    :param intervals: Non-overlapping intervals sorted by start time\n",
    "    :param newInterval: Start and end time of new interval that is to be inserted with or without merge\n",
    "    :return: new list of intervals\n",
    "    \"\"\"\n",
    "    output = []\n",
    "    # iterate over the intervals\n",
    "    for i in range(len(intervals)):\n",
    "\n",
    "        # Non-overlapping case: end time of new interval is less than start time of current interval\n",
    "        if (newInterval[1] < intervals[i][0]):\n",
    "            # 1. insert the interval here without any merge\n",
    "            output.append(newInterval)\n",
    "\n",
    "            # 2. return this interval with the rest of the intervals as no merge possible in this case\n",
    "            # output.extend(intervals[i:])\n",
    "            return output + intervals[i:]\n",
    "            # return output\n",
    "\n",
    "        # Non-overlapping case: start time of current interval is more than the end time of current interval\n",
    "        if (newInterval[0] > intervals[i][1]):\n",
    "            # 1. insert the current interval to output\n",
    "            output.append(intervals[i])\n",
    "\n",
    "            # check the rest of the intervals before adding new interval\n",
    "\n",
    "        # Overlapping case:\n",
    "        else:\n",
    "            # update the new Interval start time to be the min of start times of two intervals\n",
    "            # update the new Interval end time to be the max of the two intervals\n",
    "            newInterval[0] = min(intervals[i][0], newInterval[0])\n",
    "            newInterval[1] = max(intervals[i][1], newInterval[1])\n",
    "\n",
    "    # add the new Interval after iterating through all the intervals\n",
    "    output.append(newInterval)\n",
    "\n",
    "    return output"
   ]
  },
  {
   "cell_type": "code",
   "execution_count": 25,
   "metadata": {},
   "outputs": [
    {
     "data": {
      "text/plain": [
       "[[1, 3], [4, 5], [6, 9], [8, 10]]"
      ]
     },
     "execution_count": 25,
     "metadata": {},
     "output_type": "execute_result"
    }
   ],
   "source": [
    "insertInterval([[4,5],[6,9],[8,10]],[1,3])"
   ]
  },
  {
   "cell_type": "code",
   "execution_count": 26,
   "metadata": {},
   "outputs": [
    {
     "data": {
      "text/plain": [
       "[[1, 5], [6, 9]]"
      ]
     },
     "execution_count": 26,
     "metadata": {},
     "output_type": "execute_result"
    }
   ],
   "source": [
    "insertInterval([[1,3],[6,9]],[2,5])"
   ]
  },
  {
   "cell_type": "code",
   "execution_count": 27,
   "metadata": {},
   "outputs": [
    {
     "data": {
      "text/plain": [
       "[[1, 2], [3, 10], [12, 16]]"
      ]
     },
     "execution_count": 27,
     "metadata": {},
     "output_type": "execute_result"
    }
   ],
   "source": [
    "insertInterval([[1,2],[3,5],[6,7],[8,10],[12,16]],[4,8])"
   ]
  },
  {
   "cell_type": "code",
   "execution_count": null,
   "metadata": {},
   "outputs": [],
   "source": []
  },
  {
   "cell_type": "code",
   "execution_count": null,
   "metadata": {},
   "outputs": [],
   "source": [
    "def mergeIntervals(intervals):\n",
    "    output = []\n",
    "    # sort intervals by start time\n",
    "    intervals.sort(key=lambda interval: interval[0])\n",
    "\n",
    "    for i in range(len(intervals)-1):\n",
    "        # non overlapping case\n",
    "        if intervals[i][1] <intervals[i+1][0]:\n",
    "            output.append(intervals[i])\n",
    "\n",
    "        #overlapping case\n",
    "\n",
    "\n",
    "\n",
    "\n"
   ]
  },
  {
   "cell_type": "code",
   "execution_count": null,
   "metadata": {},
   "outputs": [],
   "source": []
  },
  {
   "cell_type": "markdown",
   "metadata": {},
   "source": [
    "<img src = \"img/lc283.png\" style=\"width:470px; height:600px\"/>"
   ]
  },
  {
   "cell_type": "code",
   "execution_count": 13,
   "metadata": {},
   "outputs": [],
   "source": [
    "def moveZeroes(nums):\n",
    "        \"\"\"\n",
    "        Do not return anything, modify nums in-place instead.\n",
    "        \"\"\"\n",
    "        # initialize pointer\n",
    "        left  = 0\n",
    "        \n",
    "        # iterate until start and end overlap\n",
    "        for right in range(len(nums)):\n",
    "            \n",
    "            # if non-zero element\n",
    "            if nums[right] != 0:\n",
    "                # swap values between index with 0 and index with non-zero\n",
    "                nums[left], nums[right] = nums[right], nums[left]\n",
    "                \n",
    "                #increment left pointer\n",
    "                left += 1\n",
    "                \n",
    "            # else: if num is 0 just continue iterating\n",
    "            "
   ]
  },
  {
   "cell_type": "code",
   "execution_count": 14,
   "metadata": {},
   "outputs": [
    {
     "data": {
      "text/plain": [
       "[1, 3, 12, 0, 0]"
      ]
     },
     "execution_count": 14,
     "metadata": {},
     "output_type": "execute_result"
    }
   ],
   "source": [
    "nums = [0,1,0,3,12]\n",
    "moveZeroes(nums)\n",
    "nums"
   ]
  },
  {
   "cell_type": "code",
   "execution_count": 15,
   "metadata": {},
   "outputs": [
    {
     "data": {
      "text/plain": [
       "[0]"
      ]
     },
     "execution_count": 15,
     "metadata": {},
     "output_type": "execute_result"
    }
   ],
   "source": [
    "nums = [0]\n",
    "moveZeroes(nums)\n",
    "nums"
   ]
  },
  {
   "cell_type": "markdown",
   "metadata": {},
   "source": [
    "<img src = \"img/lc977.png\" style=\"width:400px;height:500px\"/>"
   ]
  },
  {
   "cell_type": "code",
   "execution_count": 23,
   "metadata": {},
   "outputs": [],
   "source": [
    "def sortSquaredArray(nums):\n",
    "    # initialize left and right pointers as first and last index\n",
    "    lp, rp = 0, len(nums)-1\n",
    "\n",
    "    # output = []\n",
    "    output = [1] * len(nums)\n",
    "\n",
    "    # iterate until the points don't overlap\n",
    "    for i in range(len(nums)-1,-1,-1):\n",
    "\n",
    "    # while lp < rp:\n",
    "        # start with the tip of the lists, note that the largest terms that exist should be towards the right tip or left tip if any negative number exists,\n",
    "        left_term_sq  = nums[lp]**2\n",
    "        right_term_sq = nums[rp]**2\n",
    "\n",
    "\n",
    "        # whichever term is larger add that to the result and update the corresponding pointer\n",
    "        if left_term_sq>right_term_sq:\n",
    "            # output.append(left_term_sq) # append the larger term\n",
    "            output[i] = left_term_sq\n",
    "            lp +=1\n",
    "\n",
    "        else:\n",
    "            # output.append(right_term_sq) #append the right term\n",
    "            output[i] = right_term_sq\n",
    "            rp -= 1 # decrement the right pointer\n",
    "\n",
    "    # now return the reverse list\n",
    "    # output.reverse()\n",
    "    return output"
   ]
  },
  {
   "cell_type": "code",
   "execution_count": 24,
   "metadata": {},
   "outputs": [
    {
     "data": {
      "text/plain": [
       "[0, 1, 9, 16, 100]"
      ]
     },
     "execution_count": 24,
     "metadata": {},
     "output_type": "execute_result"
    }
   ],
   "source": [
    "sortSquaredArray([-4,-1,0,3,10])"
   ]
  },
  {
   "cell_type": "code",
   "execution_count": 25,
   "metadata": {},
   "outputs": [
    {
     "data": {
      "text/plain": [
       "[4, 9, 9, 49, 121]"
      ]
     },
     "execution_count": 25,
     "metadata": {},
     "output_type": "execute_result"
    }
   ],
   "source": [
    "sortSquaredArray([-7,-3,2,3,11])"
   ]
  },
  {
   "cell_type": "code",
   "execution_count": null,
   "metadata": {},
   "outputs": [],
   "source": []
  },
  {
   "cell_type": "markdown",
   "metadata": {},
   "source": [
    "<img src = \"img/lc238.png\" style=\"width:400px;height:500px\"/>"
   ]
  },
  {
   "cell_type": "code",
   "execution_count": 13,
   "metadata": {},
   "outputs": [],
   "source": [
    "def productExceptSelf(nums):\n",
    "    length = len(nums)\n",
    "    output = [1] * length\n",
    "    multiplier = 1\n",
    "\n",
    "    # get product of left side elems\n",
    "    for i in range(length):\n",
    "        output[i] *= multiplier\n",
    "        multiplier *= nums[i]\n",
    "\n",
    "    print(\"output left\")\n",
    "    print(output)\n",
    "\n",
    "    # get product of right side elems\n",
    "    multiplier = 1\n",
    "    for i in range(length):\n",
    "        # iterate in reverse order for right multiples\n",
    "        output[length-1-i] *= multiplier\n",
    "        multiplier *= nums[length-1-i]\n",
    "\n",
    "    print(\"output total\")\n",
    "    print(output)"
   ]
  },
  {
   "cell_type": "code",
   "execution_count": 14,
   "metadata": {},
   "outputs": [
    {
     "name": "stdout",
     "output_type": "stream",
     "text": [
      "output left\n",
      "[1, 1, 2, 6]\n",
      "output total\n",
      "[24, 12, 8, 6]\n"
     ]
    }
   ],
   "source": [
    "productExceptSelf([1,2,3,4])"
   ]
  },
  {
   "cell_type": "code",
   "execution_count": null,
   "metadata": {},
   "outputs": [],
   "source": []
  },
  {
   "cell_type": "markdown",
   "metadata": {},
   "source": [
    "<img src = \"img/q2.png\" style=\"width:700px;height:600px\"/>"
   ]
  },
  {
   "cell_type": "code",
   "execution_count": 15,
   "metadata": {},
   "outputs": [],
   "source": [
    "def compute_best_time(prices:list[int]) -> int :\n",
    "\n",
    "    # initialize mininum buying price, and maximum profit\n",
    "    buy_price, profit = float(\"inf\"), 0\n",
    "\n",
    "    # iterate over the prices while the left pointer and right pointer don't meet\n",
    "    for price in prices:\n",
    "        # if this price is lower than buy price, update buying price\n",
    "        buy_price = min(buy_price, price)\n",
    "\n",
    "        # compute max of the diff between sell and buy price\n",
    "        profit = max(profit, price-buy_price)\n",
    "\n",
    "    return profit"
   ]
  },
  {
   "cell_type": "code",
   "execution_count": 16,
   "metadata": {},
   "outputs": [
    {
     "data": {
      "text/plain": [
       "5"
      ]
     },
     "execution_count": 16,
     "metadata": {},
     "output_type": "execute_result"
    }
   ],
   "source": [
    "prices = [7,1,5,3,6,4]\n",
    "compute_best_time(prices)"
   ]
  },
  {
   "cell_type": "code",
   "execution_count": 17,
   "metadata": {},
   "outputs": [
    {
     "data": {
      "text/plain": [
       "0"
      ]
     },
     "execution_count": 17,
     "metadata": {},
     "output_type": "execute_result"
    }
   ],
   "source": [
    "prices = [7,6,4,3,1]\n",
    "compute_best_time(prices)"
   ]
  },
  {
   "cell_type": "markdown",
   "metadata": {},
   "source": [
    "<img src = \"img/lc53.png\"  style=\"width:600px;height:650px\"/>"
   ]
  },
  {
   "cell_type": "code",
   "execution_count": 1,
   "metadata": {},
   "outputs": [],
   "source": [
    "def getMaxSubArray(nums:list[int]) -> list[int]:\n",
    "\n",
    "    # initialize start and end of the subarray window\n",
    "    max_sum, current_max = -float(\"inf\"), -float(\"inf\")\n",
    "\n",
    "    # iterate through the nums list\n",
    "    for num in nums:\n",
    "        current_max = max(num, current_max+num)\n",
    "        max_sum = max(max_sum, current_max)\n",
    "\n",
    "    return max_sum"
   ]
  },
  {
   "cell_type": "code",
   "execution_count": 2,
   "metadata": {},
   "outputs": [
    {
     "data": {
      "text/plain": [
       "6"
      ]
     },
     "execution_count": 2,
     "metadata": {},
     "output_type": "execute_result"
    }
   ],
   "source": [
    "getMaxSubArray([-2,1,-3,4,-1,2,1,-5,4])"
   ]
  },
  {
   "cell_type": "code",
   "execution_count": 19,
   "metadata": {},
   "outputs": [
    {
     "data": {
      "text/plain": [
       "8"
      ]
     },
     "execution_count": 19,
     "metadata": {},
     "output_type": "execute_result"
    }
   ],
   "source": [
    "getMaxSubArray([-2,1,-3,4,-1,2,1,2,-5,4])"
   ]
  }
 ],
 "metadata": {
  "kernelspec": {
   "display_name": "Python 3",
   "language": "python",
   "name": "python3"
  },
  "language_info": {
   "codemirror_mode": {
    "name": "ipython",
    "version": 3
   },
   "file_extension": ".py",
   "mimetype": "text/x-python",
   "name": "python",
   "nbconvert_exporter": "python",
   "pygments_lexer": "ipython3",
   "version": "3.7.7"
  }
 },
 "nbformat": 4,
 "nbformat_minor": 1
}
