{
 "cells": [
  {
   "cell_type": "markdown",
   "source": [
    "<img src = \"img/lc70.png\" style=\"width:100px;height:100px\"/>"
   ],
   "metadata": {
    "collapsed": false
   }
  },
  {
   "cell_type": "code",
   "execution_count": 12,
   "outputs": [],
   "source": [
    "def numsOfWays(n:int) -> int:\n",
    "    # initialize numWays = 0\n",
    "    numWays = [0,1,2]\n",
    "\n",
    "    # base case: numWays[0] = 0, numways[1] = 1, numWays[2]= 1 + 1\n",
    "    if n <=2:\n",
    "        return numWays[n]\n",
    "\n",
    "    # iterate from 3 to n+1\n",
    "    for i in range(3, n+1):\n",
    "        # append numWays[n-1] + numWays[n-2]\n",
    "        numWays.append(numWays[i-1] + numWays[i-2])\n",
    "\n",
    "    # return numWays[n]\n",
    "    return numWays[n]\n",
    "\n",
    "\n"
   ],
   "metadata": {
    "collapsed": false
   }
  },
  {
   "cell_type": "code",
   "execution_count": 13,
   "outputs": [
    {
     "data": {
      "text/plain": "3"
     },
     "execution_count": 13,
     "metadata": {},
     "output_type": "execute_result"
    }
   ],
   "source": [
    "numsOfWays(3)"
   ],
   "metadata": {
    "collapsed": false
   }
  },
  {
   "cell_type": "markdown",
   "source": [],
   "metadata": {
    "collapsed": false
   }
  },
  {
   "cell_type": "markdown",
   "source": [
    "**Time Complexity: O(n), Space Complexity: O(n), where n is value of  steps to climb.**"
   ],
   "metadata": {
    "collapsed": false
   }
  },
  {
   "cell_type": "code",
   "execution_count": null,
   "outputs": [],
   "source": [],
   "metadata": {
    "collapsed": false
   }
  }
 ],
 "metadata": {
  "kernelspec": {
   "display_name": "Python 3",
   "language": "python",
   "name": "python3"
  },
  "language_info": {
   "codemirror_mode": {
    "name": "ipython",
    "version": 2
   },
   "file_extension": ".py",
   "mimetype": "text/x-python",
   "name": "python",
   "nbconvert_exporter": "python",
   "pygments_lexer": "ipython2",
   "version": "2.7.6"
  }
 },
 "nbformat": 4,
 "nbformat_minor": 0
}
