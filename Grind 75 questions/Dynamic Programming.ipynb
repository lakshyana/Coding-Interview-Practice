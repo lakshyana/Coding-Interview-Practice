{
 "cells": [
  {
   "cell_type": "markdown",
   "source": [
    "<img src = \"img/lc70.png\" style=\"width:300px;height:300px\"/>"
   ],
   "metadata": {
    "collapsed": false
   }
  },
  {
   "cell_type": "code",
   "execution_count": 12,
   "outputs": [],
   "source": [
    "def numsOfWays(n:int) -> int:\n",
    "    # initialize numWays = 0\n",
    "    numWays = [0,1,2] # fill up the base cases\n",
    "\n",
    "    # base case: numWays[0] = 0, numways[1] = 1, numWays[2]= 1 + 1\n",
    "    if n <=2:\n",
    "        return numWays[n]\n",
    "\n",
    "    # iterate from 3 to n+1\n",
    "    for i in range(3, n+1):\n",
    "        # append numWays[n-1] + numWays[n-2]\n",
    "        numWays.append(numWays[i-1] + numWays[i-2])\n",
    "\n",
    "    # return numWays[n]\n",
    "    return numWays[n]\n",
    "\n",
    "\n"
   ],
   "metadata": {
    "collapsed": false
   }
  },
  {
   "cell_type": "code",
   "execution_count": 13,
   "outputs": [
    {
     "data": {
      "text/plain": "3"
     },
     "execution_count": 13,
     "metadata": {},
     "output_type": "execute_result"
    }
   ],
   "source": [
    "numsOfWays(3)"
   ],
   "metadata": {
    "collapsed": false
   }
  },
  {
   "cell_type": "markdown",
   "source": [
    "**Time Complexity: O(n), Space Complexity: O(n), where n is value of  steps to climb.**"
   ],
   "metadata": {
    "collapsed": false
   }
  },
  {
   "cell_type": "markdown",
   "source": [
    "<img src = \"img/lc_322.png\" style=\"width:300px;height:300px\"/>"
   ],
   "metadata": {
    "collapsed": false
   }
  },
  {
   "cell_type": "markdown",
   "source": [
    "\n"
   ],
   "metadata": {
    "collapsed": false
   }
  },
  {
   "cell_type": "code",
   "execution_count": 4,
   "outputs": [],
   "source": [
    "def minCoins(coins, total_amount):\n",
    "    # initialize dp array of size amount + 1 (since we use first index for 0) with amount + 1\n",
    "    dp = [total_amount+1] * (total_amount + 1) #initialize with a high enough value EG: amount + 1 since that's not a possible solution\n",
    "    dp[0] = 0\n",
    "\n",
    "    for amount in range(1, total_amount+1): # bottom up approach\n",
    "        # find the min number of coins over all the available coins\n",
    "        for coin_value in coins:\n",
    "\n",
    "            # condition: if the coin value doesn't exceed the amount:\n",
    "            if coin_value <= amount:\n",
    "                dp[amount] = min(dp[amount], 1 + dp[amount - coin_value]) # 1: 1 of current coin\n",
    "\n",
    "    return dp[total_amount] if dp[total_amount] != total_amount + 1 else -1\n"
   ],
   "metadata": {
    "collapsed": false
   }
  },
  {
   "cell_type": "code",
   "execution_count": 5,
   "outputs": [
    {
     "data": {
      "text/plain": "3"
     },
     "execution_count": 5,
     "metadata": {},
     "output_type": "execute_result"
    }
   ],
   "source": [
    "minCoins([1,2,5], 11)"
   ],
   "metadata": {
    "collapsed": false
   }
  },
  {
   "cell_type": "code",
   "execution_count": 6,
   "outputs": [
    {
     "data": {
      "text/plain": "0"
     },
     "execution_count": 6,
     "metadata": {},
     "output_type": "execute_result"
    }
   ],
   "source": [
    "minCoins([1], 0)"
   ],
   "metadata": {
    "collapsed": false
   }
  },
  {
   "cell_type": "code",
   "execution_count": 7,
   "outputs": [
    {
     "data": {
      "text/plain": "-1"
     },
     "execution_count": 7,
     "metadata": {},
     "output_type": "execute_result"
    }
   ],
   "source": [
    "minCoins([2], 3)"
   ],
   "metadata": {
    "collapsed": false
   }
  },
  {
   "cell_type": "code",
   "execution_count": null,
   "outputs": [],
   "source": [],
   "metadata": {
    "collapsed": false
   }
  }
 ],
 "metadata": {
  "kernelspec": {
   "display_name": "Python 3",
   "language": "python",
   "name": "python3"
  },
  "language_info": {
   "codemirror_mode": {
    "name": "ipython",
    "version": 2
   },
   "file_extension": ".py",
   "mimetype": "text/x-python",
   "name": "python",
   "nbconvert_exporter": "python",
   "pygments_lexer": "ipython2",
   "version": "2.7.6"
  }
 },
 "nbformat": 4,
 "nbformat_minor": 0
}
