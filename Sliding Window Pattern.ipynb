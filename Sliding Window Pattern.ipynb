{
 "cells": [
  {
   "cell_type": "markdown",
   "metadata": {
    "pycharm": {
     "name": "#%% md\n"
    }
   },
   "source": [
    "## <span style=\"color:green\">Sliding Window Pattern</span>"
   ]
  },
  {
   "cell_type": "markdown",
   "metadata": {
    "pycharm": {
     "name": "#%% md\n"
    }
   },
   "source": [
    "### <span style=\"color:blue\">Maximum Sum Subarray of Size K (easy)</span>"
   ]
  },
  {
   "cell_type": "markdown",
   "metadata": {},
   "source": [
    "#### **Problem Statement** \n",
    "\n",
    "- Given an array of positive numbers and a positive number ‘k’, find the maximum sum of any contiguous subarray of size ‘k’.<img src = \"img/p1.png\" style=\"width:300px;height:300px\"/>"
   ]
  },
  {
   "cell_type": "code",
   "execution_count": 17,
   "metadata": {},
   "outputs": [],
   "source": [
    "def max_sub_array_of_size_k(k, arr):\n",
    "    sum_window = 0\n",
    "    max_sum = 0\n",
    "    length = len(arr) \n",
    "    \n",
    "    # if valid solution exists\n",
    "    if length > 0 and k> 0:\n",
    "        # iterate over the array\n",
    "        for i in range(0, length-k+1):\n",
    "            # get the sum of the window\n",
    "            sum_window = sum(arr[i:i+k])\n",
    "            if sum_window > max_sum:\n",
    "                max_sum = sum_window\n",
    "\n",
    "        return max_sum\n",
    "\n",
    "    return -1\n",
    "    "
   ]
  },
  {
   "cell_type": "code",
   "execution_count": 18,
   "metadata": {},
   "outputs": [
    {
     "name": "stdout",
     "output_type": "stream",
     "text": [
      "Max sum of subarray with size k is: 9\n"
     ]
    }
   ],
   "source": [
    "arr = [2,1,2,5,1,3]\n",
    "k = 3\n",
    "\n",
    "print(f'Max sum of subarray with size k is: {max_sub_array_of_size_k(k, arr)}')\n"
   ]
  },
  {
   "cell_type": "markdown",
   "metadata": {
    "pycharm": {
     "name": "#%% md\n"
    }
   },
   "source": [
    "##### Time Complexity: O(N) (Linear time)\n",
    "##### Space Complexity: O(1) (Constant space)\n"
   ]
  },
  {
   "cell_type": "markdown",
   "metadata": {},
   "source": [
    "### <span style=\"color:blue\">Smallest Subarray with a given sum (easy)</span>"
   ]
  },
  {
   "cell_type": "markdown",
   "metadata": {},
   "source": [
    "#### Problem Statement\n",
    "Given an array of positive numbers and a positive number ‘S’, find the length of the **smallest contiguous subarray whose sum is greater than or equal to ‘S’**. Return 0, if no such subarray exists.\n",
    "<img src = \"img/p2.png\" style=\"width:300px;height:400px\"/>\n",
    "<img src = \"img/p2b.png\" style=\"width:300px;height:500px\"/>"
   ]
  },
  {
   "cell_type": "code",
   "execution_count": 8,
   "metadata": {},
   "outputs": [],
   "source": [
    "import math\n",
    "\n",
    "def smallest_subarray_with_given_sum(s, arr):\n",
    "    length = len(arr)\n",
    "    window_size = 1\n",
    "    min_length = math.inf\n",
    "    \n",
    "    ## if a valid input is provided\n",
    "    if length > 0 and s > 0:\n",
    "        \n",
    "        # iterate over the list\n",
    "        for i in range(length-window_size + 1):\n",
    "            \n",
    "            # if window sum is < s and then expand the window\n",
    "            while (sum(arr[i:i+window_size]) < s) and (i+window_size-1 <= length):\n",
    "                window_size += 1\n",
    "            \n",
    "            # if window sum is >= s then update the min_length if needed\n",
    "            if (sum(arr[i:i+window_size]) >= s):\n",
    "                \n",
    "                if (window_size < min_length):\n",
    "                    # update min length\n",
    "                    min_length = window_size\n",
    "                    \n",
    "                window_size -= 1\n",
    "                \n",
    "        return min_length\n",
    "                \n",
    "    return 0"
   ]
  },
  {
   "cell_type": "code",
   "execution_count": 9,
   "metadata": {},
   "outputs": [
    {
     "name": "stdout",
     "output_type": "stream",
     "text": [
      "Smallest subarray with the given sum is: 3\n"
     ]
    }
   ],
   "source": [
    "arr = [2,1,2,5,1,5]\n",
    "s = 8\n",
    "\n",
    "print(f'Smallest subarray with the given sum is: {smallest_subarray_with_given_sum(s, arr)}')"
   ]
  },
  {
   "cell_type": "markdown",
   "metadata": {},
   "source": [
    "The time complexity of the above algorithm will be O(N)O(N). The outer for loop runs for all elements and the inner while loop processes each element only once, therefore the time complexity of the algorithm will be O(N+N)O(N+N) which is asymptotically equivalent to O(N)O(N)."
   ]
  },
  {
   "cell_type": "markdown",
   "metadata": {
    "pycharm": {
     "name": "#%% md\n"
    }
   },
   "source": [
    "##### Time Complexity: O(N) (Linear time)\n",
    "##### Space Complexity: O(1) (Constant space)\n"
   ]
  },
  {
   "cell_type": "markdown",
   "metadata": {},
   "source": [
    "### <span style=\"color:blue\">Longest Substring with K Distinct Characters (medium)\n",
    "</span>"
   ]
  },
  {
   "cell_type": "markdown",
   "metadata": {},
   "source": [
    "#### Problem Statement\n",
    "Given a string, find the length of the **longest substring** in it **with no more than K distinct characters**.\n",
    "<img src = \"img/p3a.png\" style=\"width:380px;height:850px\"/>"
   ]
  },
  {
   "cell_type": "code",
   "execution_count": 96,
   "metadata": {},
   "outputs": [],
   "source": [
    "import math\n",
    "\n",
    "def longest_substring_with_k_distinct(string, k):\n",
    "    length = len(string)\n",
    "    window_size = 1\n",
    "    \n",
    "    max_length = -math.inf\n",
    "    \n",
    "    \n",
    "    # if valid input is given\n",
    "    if length > 0 and k > 0:\n",
    "        \n",
    "        # Iterate over the list\n",
    "        for i in range(length-window_size+1):\n",
    "            \n",
    "            # check the distinct characters in the window\n",
    "            dist_chars = len(set(string[i: i+window_size]))\n",
    "\n",
    "            \n",
    "            ## if distinct characters less than k then increment the window\n",
    "            if dist_chars <= k: \n",
    "        \n",
    "                # while num of distinct characters not exceeded increment the window\n",
    "                while (dist_chars <= k and i+window_size < length):\n",
    "                    window_size +=1\n",
    "                    dist_chars = len(set(string[i: i+window_size]))\n",
    "\n",
    "                    # if equal to distinct characters and greater than the previous length of substring, then update\n",
    "                    if (dist_chars == k and window_size > max_length):\n",
    "                \n",
    "                        max_length = window_size\n",
    "                    \n",
    "                    \n",
    "            # if distinct characters more than k then shrink the window\n",
    "            if dist_chars > k:\n",
    "                window_size -= 1\n",
    "            \n",
    "                \n",
    "        return max_length\n",
    "    \n",
    "    return 0\n",
    "            \n",
    "            "
   ]
  },
  {
   "cell_type": "code",
   "execution_count": 97,
   "metadata": {},
   "outputs": [
    {
     "data": {
      "text/plain": [
       "5"
      ]
     },
     "execution_count": 97,
     "metadata": {},
     "output_type": "execute_result"
    }
   ],
   "source": [
    "string = \"cbbebi\"\n",
    "k = 3\n",
    "\n",
    "longest_substring_with_k_distinct(string, k)"
   ]
  },
  {
   "cell_type": "code",
   "execution_count": 98,
   "metadata": {},
   "outputs": [
    {
     "data": {
      "text/plain": [
       "2"
      ]
     },
     "execution_count": 98,
     "metadata": {},
     "output_type": "execute_result"
    }
   ],
   "source": [
    "string = \"aaraaci\"\n",
    "k = 1\n",
    "\n",
    "longest_substring_with_k_distinct(string, k)"
   ]
  },
  {
   "cell_type": "code",
   "execution_count": 99,
   "metadata": {},
   "outputs": [
    {
     "data": {
      "text/plain": [
       "5"
      ]
     },
     "execution_count": 99,
     "metadata": {},
     "output_type": "execute_result"
    }
   ],
   "source": [
    "string = \"aaraaci\"\n",
    "k = 2\n",
    "\n",
    "longest_substring_with_k_distinct(string, k)"
   ]
  },
  {
   "cell_type": "code",
   "execution_count": null,
   "metadata": {},
   "outputs": [],
   "source": []
  },
  {
   "cell_type": "code",
   "execution_count": null,
   "metadata": {},
   "outputs": [],
   "source": []
  }
 ],
 "metadata": {
  "kernelspec": {
   "display_name": "Python 3",
   "language": "python",
   "name": "python3"
  },
  "language_info": {
   "codemirror_mode": {
    "name": "ipython",
    "version": 3
   },
   "file_extension": ".py",
   "mimetype": "text/x-python",
   "name": "python",
   "nbconvert_exporter": "python",
   "pygments_lexer": "ipython3",
   "version": "3.7.4"
  }
 },
 "nbformat": 4,
 "nbformat_minor": 1
}
