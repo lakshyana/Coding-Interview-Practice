{
 "cells": [
  {
   "cell_type": "markdown",
   "metadata": {
    "pycharm": {
     "name": "#%% md\n"
    }
   },
   "source": [
    "## <span style=\"color:green\">Sliding Window Pattern</span>"
   ]
  },
  {
   "cell_type": "markdown",
   "metadata": {
    "pycharm": {
     "name": "#%% md\n"
    }
   },
   "source": [
    "### <span style=\"color:blue\">Maximum Sum Subarray of Size K (easy)</span>"
   ]
  },
  {
   "cell_type": "markdown",
   "metadata": {},
   "source": [
    "#### **Problem Statement** \n",
    "\n",
    "- Given an array of positive numbers and a positive number ‘k’, find the maximum sum of any contiguous subarray of size ‘k’."
   ]
  },
  {
   "cell_type": "code",
   "execution_count": 15,
   "metadata": {},
   "outputs": [],
   "source": [
    "def max_sub_array_of_size_k(k, arr):\n",
    "    sum_window = 0\n",
    "    max_sum = 0\n",
    "    length = len(arr) \n",
    "    \n",
    "    # if valid solution exists\n",
    "    if length > 0 and k> 0:\n",
    "        # iterate over the array\n",
    "        for i in range(0, length-k):\n",
    "            # get the sum of the window\n",
    "            sum_window = sum(arr[i:i+k])\n",
    "            if sum_window > max_sum:\n",
    "                max_sum = sum_window\n",
    "\n",
    "        return max_sum\n",
    "\n",
    "    return -1\n",
    "    "
   ]
  },
  {
   "cell_type": "code",
   "execution_count": 16,
   "metadata": {},
   "outputs": [
    {
     "name": "stdout",
     "output_type": "stream",
     "text": [
      "Max sum of subarray with size k is: 9\n"
     ]
    }
   ],
   "source": [
    "arr = [2,1,5,1,3,2]\n",
    "k = 3\n",
    "\n",
    "print(f'Max sum of subarray with size k is: {max_sub_array_of_size_k(k, arr)}')\n"
   ]
  },
  {
   "cell_type": "code",
   "execution_count": null,
   "metadata": {},
   "outputs": [],
   "source": []
  }
 ],
 "metadata": {
  "kernelspec": {
   "display_name": "Python 3",
   "language": "python",
   "name": "python3"
  },
  "language_info": {
   "codemirror_mode": {
    "name": "ipython",
    "version": 3
   },
   "file_extension": ".py",
   "mimetype": "text/x-python",
   "name": "python",
   "nbconvert_exporter": "python",
   "pygments_lexer": "ipython3",
   "version": "3.7.4"
  }
 },
 "nbformat": 4,
 "nbformat_minor": 1
}