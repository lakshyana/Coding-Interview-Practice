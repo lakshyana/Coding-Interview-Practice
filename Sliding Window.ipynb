{
 "cells": [
  {
   "cell_type": "markdown",
   "source": [
    "# <span style=\"color:green\">Sliding Window Pattern</span>"
   ],
   "metadata": {
    "collapsed": false
   },
   "id": "8d2405fd2e0ffbd3"
  },
  {
   "cell_type": "markdown",
   "source": [
    "### LC 121: Best Time to Buy and Sell stock\n",
    "\n",
    "Topics: Arrays, DP, Sliding Window"
   ],
   "metadata": {
    "collapsed": false
   },
   "id": "df3d3b2d391baa94"
  },
  {
   "cell_type": "markdown",
   "source": [
    "<img src=\"img/q2.png\" \n",
    " />"
   ],
   "metadata": {
    "collapsed": false
   },
   "id": "d109fea5691709e8"
  },
  {
   "cell_type": "code",
   "execution_count": 3,
   "outputs": [],
   "source": [
    "def compute_best_time(prices:list[int]) -> int :\n",
    "\n",
    "    # initialize mininum buying price, and maximum profit\n",
    "    buy_price, profit = float(\"inf\"), 0\n",
    "\n",
    "    # iterate over the prices while the left pointer and right pointer don't meet\n",
    "    for price in prices:\n",
    "        # if this price is lower than buy price, update buying price\n",
    "        buy_price = min(buy_price, price)\n",
    "\n",
    "        # compute max of the diff between sell and buy price\n",
    "        profit = max(profit, price-buy_price)\n",
    "\n",
    "    return profit"
   ],
   "metadata": {
    "collapsed": false,
    "ExecuteTime": {
     "end_time": "2023-08-13T14:31:30.181541600Z",
     "start_time": "2023-08-13T14:31:30.168416200Z"
    }
   },
   "id": "a2420021f7d1b4e6"
  },
  {
   "cell_type": "code",
   "execution_count": 4,
   "outputs": [
    {
     "data": {
      "text/plain": "5"
     },
     "execution_count": 4,
     "metadata": {},
     "output_type": "execute_result"
    }
   ],
   "source": [
    "prices = [7,1,5,3,6,4]\n",
    "compute_best_time(prices)"
   ],
   "metadata": {
    "collapsed": false,
    "ExecuteTime": {
     "end_time": "2023-08-13T14:31:31.538042200Z",
     "start_time": "2023-08-13T14:31:31.458858900Z"
    }
   },
   "id": "2d7d2bffe11ad6f7"
  },
  {
   "cell_type": "markdown",
   "source": [
    "### LC 3: Longest substring without repeating characters"
   ],
   "metadata": {
    "collapsed": false
   },
   "id": "875c8d29092df45b"
  },
  {
   "cell_type": "markdown",
   "source": [
    "<img src=\"img/lc3.png\" \n",
    " />"
   ],
   "metadata": {
    "collapsed": false
   },
   "id": "e4aee18ff7d45e01"
  },
  {
   "cell_type": "code",
   "execution_count": 45,
   "outputs": [],
   "source": [
    "def lengthOfLongestSubstring(s):\n",
    "    \n",
    "    ### initialize left and right ptrs\n",
    "    lp, rp = 0, 0\n",
    "    \n",
    "    ## store unique chars in hashmap\n",
    "    seen = set()\n",
    "    \n",
    "    # store final result in best\n",
    "    best = 0\n",
    "    \n",
    "    ### iterate through the string\n",
    "    for rp in range(len(s)):\n",
    "        \n",
    "        ### check if s[i] in seen set and shrink window while s[rp] in seen set\n",
    "        while s[rp] in seen:\n",
    "            seen.remove(s[lp])\n",
    "            \n",
    "            ## shrink the left window\n",
    "            lp += 1\n",
    "    \n",
    "        ## add the left pointer ch to seen set\n",
    "        seen.add(s[rp])\n",
    "        \n",
    "        ## update best\n",
    "        best = max(best, rp-lp+1)\n",
    "    \n",
    "    return best\n",
    "    "
   ],
   "metadata": {
    "collapsed": false,
    "ExecuteTime": {
     "end_time": "2023-08-13T17:37:16.319569600Z",
     "start_time": "2023-08-13T17:37:16.287865Z"
    }
   },
   "id": "82008a0183266802"
  },
  {
   "cell_type": "code",
   "execution_count": 46,
   "outputs": [
    {
     "data": {
      "text/plain": "3"
     },
     "execution_count": 46,
     "metadata": {},
     "output_type": "execute_result"
    }
   ],
   "source": [
    "lengthOfLongestSubstring(\"abcabcbb\")"
   ],
   "metadata": {
    "collapsed": false,
    "ExecuteTime": {
     "end_time": "2023-08-13T17:37:16.573368700Z",
     "start_time": "2023-08-13T17:37:16.551858900Z"
    }
   },
   "id": "8ad40f69385eb525"
  },
  {
   "cell_type": "code",
   "execution_count": 47,
   "outputs": [
    {
     "data": {
      "text/plain": "2"
     },
     "execution_count": 47,
     "metadata": {},
     "output_type": "execute_result"
    }
   ],
   "source": [
    "lengthOfLongestSubstring(\"bbbcbb\")"
   ],
   "metadata": {
    "collapsed": false,
    "ExecuteTime": {
     "end_time": "2023-08-13T17:37:16.997394100Z",
     "start_time": "2023-08-13T17:37:16.966006300Z"
    }
   },
   "id": "bedfc18f29d3fc57"
  },
  {
   "cell_type": "code",
   "execution_count": 48,
   "outputs": [
    {
     "data": {
      "text/plain": "3"
     },
     "execution_count": 48,
     "metadata": {},
     "output_type": "execute_result"
    }
   ],
   "source": [
    "lengthOfLongestSubstring(\"pwwkew\")"
   ],
   "metadata": {
    "collapsed": false,
    "ExecuteTime": {
     "end_time": "2023-08-13T17:37:17.938932700Z",
     "start_time": "2023-08-13T17:37:17.907360900Z"
    }
   },
   "id": "8cacc86008392d32"
  },
  {
   "cell_type": "code",
   "execution_count": 31,
   "outputs": [],
   "source": [
    "def lengthOfLongestSubstring(s):\n",
    "    \n",
    "    # initialize max length\n",
    "    max_length = 0\n",
    "    \n",
    "    # initialize sliding window\n",
    "    left, right = 0, 0\n",
    "    \n",
    "    # initialize dict to store ch and last index\n",
    "    hashmap = {}\n",
    "    \n",
    "    # iterate through the string\n",
    "    for ch in s:\n",
    "            \n",
    "        # if ch already exists\n",
    "        if ch in hashmap:\n",
    "            \n",
    "            # Possible cases: ch could be inside or outside the current window \n",
    "            \n",
    "            # update the left ptr to the duplicate ch's index\n",
    "            left = max(left, hashmap[ch]+1) # +1 to skip the ch\n",
    "            # note: if ch is outside the curr window, left will be higher, if ch is inside, hashmap[ch] will be higher\n",
    "          \n",
    "        \n",
    "        # add ch to dict\n",
    "        hashmap[ch] = right\n",
    "\n",
    "\n",
    "        # update max length\n",
    "        max_length = max(max_length, right-left+1)  \n",
    "        \n",
    "        \n",
    "        # update right ptr\n",
    "        right += 1\n",
    "        \n",
    "    \n",
    "    return max_length         "
   ],
   "metadata": {
    "collapsed": false,
    "ExecuteTime": {
     "end_time": "2023-08-13T17:34:44.290165800Z",
     "start_time": "2023-08-13T17:34:44.262228500Z"
    }
   },
   "id": "49f8ec7f0824bccc"
  },
  {
   "cell_type": "code",
   "execution_count": 32,
   "outputs": [
    {
     "data": {
      "text/plain": "3"
     },
     "execution_count": 32,
     "metadata": {},
     "output_type": "execute_result"
    }
   ],
   "source": [
    "lengthOfLongestSubstring(\"abcabcbb\")"
   ],
   "metadata": {
    "collapsed": false,
    "ExecuteTime": {
     "end_time": "2023-08-13T17:34:44.524722600Z",
     "start_time": "2023-08-13T17:34:44.521206200Z"
    }
   },
   "id": "374313ac20f53ee1"
  },
  {
   "cell_type": "code",
   "execution_count": 33,
   "outputs": [
    {
     "data": {
      "text/plain": "1"
     },
     "execution_count": 33,
     "metadata": {},
     "output_type": "execute_result"
    }
   ],
   "source": [
    "lengthOfLongestSubstring(\"bbbbb\")"
   ],
   "metadata": {
    "collapsed": false,
    "ExecuteTime": {
     "end_time": "2023-08-13T17:34:45.107578300Z",
     "start_time": "2023-08-13T17:34:45.103279400Z"
    }
   },
   "id": "f111d2a08bb24417"
  },
  {
   "cell_type": "code",
   "execution_count": 34,
   "outputs": [
    {
     "data": {
      "text/plain": "3"
     },
     "execution_count": 34,
     "metadata": {},
     "output_type": "execute_result"
    }
   ],
   "source": [
    "lengthOfLongestSubstring(\"pwwkew\")"
   ],
   "metadata": {
    "collapsed": false,
    "ExecuteTime": {
     "end_time": "2023-08-13T17:34:45.451965300Z",
     "start_time": "2023-08-13T17:34:45.447575900Z"
    }
   },
   "id": "2daa35fa60a4ec6e"
  },
  {
   "cell_type": "markdown",
   "source": [
    "### LC 424: Longest Repeating Character Replacement"
   ],
   "metadata": {
    "collapsed": false
   },
   "id": "2cdf1a6d041e33e5"
  },
  {
   "cell_type": "markdown",
   "source": [
    "<img src = \"img/lc424.png\" style=\"width:500px;length:500px\" />"
   ],
   "metadata": {
    "collapsed": false
   },
   "id": "bab94ab903691dfe"
  },
  {
   "cell_type": "code",
   "execution_count": 7,
   "outputs": [],
   "source": [
    "def characterReplacement(s, k):\n",
    "    \n",
    "    # initialize length\n",
    "    length = len(s)\n",
    "    \n",
    "    # base case: if length 1, then return 1\n",
    "    if length == 1:\n",
    "        return 1\n",
    "    \n",
    "    # initialize array to store counts of 26 uppercase english letters\n",
    "    counts = [0] * 26\n",
    "    \n",
    "    # initialize l and r ptrs for the window\n",
    "    left, right = 0, 0\n",
    "    \n",
    "    # for each letter in s, add 1 to the count hashmap\n",
    "    while right < length:\n",
    "        \n",
    "        if s[left] == s[right]:\n",
    "            counts[ord(s[left])-ord('a')] +=1\n",
    "            \n",
    "            \n",
    "            "
   ],
   "metadata": {
    "collapsed": false,
    "ExecuteTime": {
     "end_time": "2023-08-13T14:12:45.260733100Z",
     "start_time": "2023-08-13T14:12:45.139860800Z"
    }
   },
   "id": "119f876b8cef143"
  },
  {
   "cell_type": "markdown",
   "source": [
    "### <span style=\"color:blue\"> 1. Maximum Sum Subarray of Size K (easy)</span>"
   ],
   "metadata": {
    "collapsed": false
   },
   "id": "2cdae2ab500a234c"
  },
  {
   "cell_type": "markdown",
   "source": [
    "#### **Problem Statement** \n",
    "\n",
    "- Given an array of positive numbers and a positive number ‘k’, find the maximum sum of any contiguous subarray of size ‘k’.<img src = \"img/p1.png\" style=\"width:300px;height:300px\"/>"
   ],
   "metadata": {
    "collapsed": false
   },
   "id": "f4cbd44a3f36aaf0"
  },
  {
   "cell_type": "code",
   "execution_count": 8,
   "outputs": [],
   "source": [
    "def max_sub_array_of_size_k(k, arr):\n",
    "    sum_window = 0\n",
    "    max_sum = 0\n",
    "    length = len(arr) \n",
    "    \n",
    "    # if valid solution exists\n",
    "    if length > 0 and k> 0:\n",
    "        # iterate over the array\n",
    "        for i in range(0, length-k+1):\n",
    "            # get the sum of the window\n",
    "            sum_window = sum(arr[i:i+k])\n",
    "            if sum_window > max_sum:\n",
    "                max_sum = sum_window\n",
    "\n",
    "        return max_sum\n",
    "\n",
    "    return -1\n",
    "    "
   ],
   "metadata": {
    "collapsed": false,
    "ExecuteTime": {
     "end_time": "2023-08-13T14:12:45.287888300Z",
     "start_time": "2023-08-13T14:12:45.173724700Z"
    }
   },
   "id": "4abab7b1c1be5b6f"
  },
  {
   "cell_type": "code",
   "execution_count": 9,
   "outputs": [
    {
     "name": "stdout",
     "output_type": "stream",
     "text": [
      "Max sum of subarray with size k is: 9\n"
     ]
    }
   ],
   "source": [
    "arr = [2,1,2,5,1,3]\n",
    "k = 3\n",
    "\n",
    "print(f'Max sum of subarray with size k is: {max_sub_array_of_size_k(k, arr)}')\n"
   ],
   "metadata": {
    "collapsed": false,
    "ExecuteTime": {
     "end_time": "2023-08-13T14:12:46.198349900Z",
     "start_time": "2023-08-13T14:12:46.171563900Z"
    }
   },
   "id": "efc21b9ab6be0dc8"
  },
  {
   "cell_type": "markdown",
   "source": [
    "##### Time Complexity: O(N) (Linear time)\n",
    "##### Space Complexity: O(1) (Constant space)\n"
   ],
   "metadata": {
    "collapsed": false
   },
   "id": "db25a83d088ee4c9"
  },
  {
   "cell_type": "markdown",
   "source": [
    "### <span style=\"color:blue\">2. Smallest Subarray with a given sum (easy)</span>"
   ],
   "metadata": {
    "collapsed": false
   },
   "id": "1aa4c01c172ad40e"
  },
  {
   "cell_type": "markdown",
   "source": [
    "#### Problem Statement\n",
    "Given an array of positive numbers and a positive number ‘S’, find the length of the **smallest contiguous subarray whose sum is greater than or equal to ‘S’**. Return 0, if no such subarray exists.\n",
    "<img src = \"img/p2.png\" style=\"width:300px;height:400px\"/>\n",
    "<img src = \"img/p2b.png\" style=\"width:300px;height:500px\"/>"
   ],
   "metadata": {
    "collapsed": false
   },
   "id": "a8e933465ac282ef"
  },
  {
   "cell_type": "code",
   "execution_count": 10,
   "outputs": [],
   "source": [
    "import math\n",
    "\n",
    "def smallest_subarray_with_given_sum(s, arr):\n",
    "    length = len(arr)\n",
    "    window_size = 1\n",
    "    min_length = math.inf\n",
    "    \n",
    "    ## if a valid input is provided\n",
    "    if length > 0 and s > 0:\n",
    "        \n",
    "        # iterate over the list\n",
    "        for i in range(length-window_size + 1):\n",
    "            \n",
    "            # if window sum is < s and then expand the window\n",
    "            while (sum(arr[i:i+window_size]) < s) and (i+window_size-1 <= length):\n",
    "                window_size += 1\n",
    "            \n",
    "            # if window sum is >= s then update the min_length if needed\n",
    "            if (sum(arr[i:i+window_size]) >= s):\n",
    "                \n",
    "                if (window_size < min_length):\n",
    "                    # update min length\n",
    "                    min_length = window_size\n",
    "                    \n",
    "                window_size -= 1\n",
    "                \n",
    "        return min_length\n",
    "                \n",
    "    return 0"
   ],
   "metadata": {
    "collapsed": false,
    "ExecuteTime": {
     "end_time": "2023-08-13T14:12:48.901538400Z",
     "start_time": "2023-08-13T14:12:48.881623800Z"
    }
   },
   "id": "e6d7974882a3cb79"
  },
  {
   "cell_type": "code",
   "execution_count": 11,
   "outputs": [
    {
     "name": "stdout",
     "output_type": "stream",
     "text": [
      "Smallest subarray with the given sum is: 3\n"
     ]
    }
   ],
   "source": [
    "arr = [2,1,2,5,1,5]\n",
    "s = 8\n",
    "\n",
    "print(f'Smallest subarray with the given sum is: {smallest_subarray_with_given_sum(s, arr)}')"
   ],
   "metadata": {
    "collapsed": false,
    "ExecuteTime": {
     "end_time": "2023-08-13T14:12:49.496970700Z",
     "start_time": "2023-08-13T14:12:49.468751700Z"
    }
   },
   "id": "23276bf5af3c2aec"
  },
  {
   "cell_type": "markdown",
   "source": [
    "The time complexity of the above algorithm will be O(N)O(N). The outer for loop runs for all elements and the inner while loop processes each element only once, therefore the time complexity of the algorithm will be O(N+N)O(N+N) which is asymptotically equivalent to O(N)O(N)."
   ],
   "metadata": {
    "collapsed": false
   },
   "id": "652552f099fc16ac"
  },
  {
   "cell_type": "markdown",
   "source": [
    "##### Time Complexity: O(N) (Linear time)\n",
    "##### Space Complexity: O(1) (Constant space)\n"
   ],
   "metadata": {
    "collapsed": false
   },
   "id": "b98f3ae2fb4128d7"
  },
  {
   "cell_type": "markdown",
   "source": [
    "### <span style=\"color:blue\">3. Longest Substring with K Distinct Characters (medium)\n",
    "</span>"
   ],
   "metadata": {
    "collapsed": false
   },
   "id": "580ecbbec60c600a"
  },
  {
   "cell_type": "markdown",
   "source": [
    "#### Problem Statement\n",
    "Given a string, find the length of the **longest substring** in it **with no more than K distinct characters**.\n",
    "<img src = \"img/p3a.png\" style=\"width:380px;height:850px\"/>"
   ],
   "metadata": {
    "collapsed": false
   },
   "id": "86fa6a6904728e75"
  },
  {
   "cell_type": "code",
   "execution_count": 12,
   "outputs": [],
   "source": [
    "import math\n",
    "\n",
    "def longest_substring_with_k_distinct(string, k):\n",
    "    length = len(string)\n",
    "    window_size = 1\n",
    "    \n",
    "    max_length = -math.inf\n",
    "    \n",
    "    \n",
    "    # if valid input is given\n",
    "    if length > 0 and k > 0:\n",
    "        \n",
    "        # Iterate over the list\n",
    "        for i in range(length-window_size+1):\n",
    "            \n",
    "            # check the distinct characters in the window\n",
    "            dist_chars = len(set(string[i: i+window_size])) # is this an efficient or not?\n",
    "\n",
    "            \n",
    "            ## if distinct characters less than k then increment the window\n",
    "            if dist_chars <= k: \n",
    "        \n",
    "                # while num of distinct characters not exceeded increment the window\n",
    "                while (dist_chars <= k and i+window_size < length):\n",
    "                    window_size +=1\n",
    "                    dist_chars = len(set(string[i: i+window_size]))\n",
    "\n",
    "                    # if equal to distinct characters and greater than the previous length of substring, then update\n",
    "                    if (dist_chars == k and window_size > max_length):\n",
    "                \n",
    "                        max_length = window_size\n",
    "                    \n",
    "                    \n",
    "            # if distinct characters more than k then shrink the window\n",
    "            if dist_chars > k:\n",
    "                window_size -= 1\n",
    "            \n",
    "                \n",
    "        return max_length\n",
    "    \n",
    "    return 0\n",
    "            \n",
    "            "
   ],
   "metadata": {
    "collapsed": false,
    "ExecuteTime": {
     "end_time": "2023-08-13T14:12:51.929194600Z",
     "start_time": "2023-08-13T14:12:51.897336300Z"
    }
   },
   "id": "7324309308ca5a62"
  },
  {
   "cell_type": "code",
   "execution_count": 13,
   "outputs": [
    {
     "data": {
      "text/plain": "5"
     },
     "execution_count": 13,
     "metadata": {},
     "output_type": "execute_result"
    }
   ],
   "source": [
    "string = \"cbbebi\"\n",
    "k = 3\n",
    "\n",
    "longest_substring_with_k_distinct(string, k)"
   ],
   "metadata": {
    "collapsed": false,
    "ExecuteTime": {
     "end_time": "2023-08-13T14:12:52.397416800Z",
     "start_time": "2023-08-13T14:12:52.374997600Z"
    }
   },
   "id": "3d7231d709445750"
  },
  {
   "cell_type": "code",
   "execution_count": 14,
   "outputs": [
    {
     "data": {
      "text/plain": "2"
     },
     "execution_count": 14,
     "metadata": {},
     "output_type": "execute_result"
    }
   ],
   "source": [
    "string = \"aaraaci\"\n",
    "k = 1\n",
    "\n",
    "longest_substring_with_k_distinct(string, k)"
   ],
   "metadata": {
    "collapsed": false,
    "ExecuteTime": {
     "end_time": "2023-08-13T14:12:52.776519300Z",
     "start_time": "2023-08-13T14:12:52.743658800Z"
    }
   },
   "id": "ac1e4ca32895439a"
  },
  {
   "cell_type": "code",
   "execution_count": 15,
   "outputs": [
    {
     "data": {
      "text/plain": "5"
     },
     "execution_count": 15,
     "metadata": {},
     "output_type": "execute_result"
    }
   ],
   "source": [
    "string = \"aaraaci\"\n",
    "k = 2\n",
    "\n",
    "longest_substring_with_k_distinct(string, k)"
   ],
   "metadata": {
    "collapsed": false,
    "ExecuteTime": {
     "end_time": "2023-08-13T14:12:53.115075900Z",
     "start_time": "2023-08-13T14:12:53.106062300Z"
    }
   },
   "id": "ffc6508e5184827"
  },
  {
   "cell_type": "markdown",
   "source": [
    "### Try more efficient implementation:"
   ],
   "metadata": {
    "collapsed": false
   },
   "id": "1ac8f4e85f4fa489"
  },
  {
   "cell_type": "markdown",
   "source": [],
   "metadata": {
    "collapsed": false
   },
   "id": "2e4a3dc4ccde7218"
  }
 ],
 "metadata": {
  "kernelspec": {
   "display_name": "Python 3",
   "language": "python",
   "name": "python3"
  },
  "language_info": {
   "codemirror_mode": {
    "name": "ipython",
    "version": 2
   },
   "file_extension": ".py",
   "mimetype": "text/x-python",
   "name": "python",
   "nbconvert_exporter": "python",
   "pygments_lexer": "ipython2",
   "version": "2.7.6"
  }
 },
 "nbformat": 4,
 "nbformat_minor": 5
}
