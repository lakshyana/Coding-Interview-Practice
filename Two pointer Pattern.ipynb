{
 "cells": [
  {
   "cell_type": "markdown",
   "metadata": {},
   "source": [
    "## <span style=\"color:green\">Two Pointer Pattern</span>"
   ]
  },
  {
   "cell_type": "markdown",
   "metadata": {},
   "source": [
    "### <span style=\"color:blue\"> 1. Pair with Target Sum (easy)</span>"
   ]
  },
  {
   "cell_type": "markdown",
   "metadata": {},
   "source": [
    "#### **Problem Statement** \n",
    "\n",
    "- Given an array of sorted numbers and a target sum, find a pair in the array whose sum is equal to the given target.\n",
    "\n",
    "Write a function to return the indices of the two numbers (i.e. the pair) such that they add up to the given target.\n",
    "<img src = \"./img/pb11.png\" style=\"width:350px;height:300px\"/>"
   ]
  },
  {
   "cell_type": "code",
   "execution_count": 31,
   "metadata": {},
   "outputs": [],
   "source": [
    "def pair_with_target_sum(arr, target_sum):\n",
    "    lp = 0\n",
    "    rp = len(arr) - 1\n",
    "    \n",
    "    ## iterate over the list using while condition\n",
    "    while lp < rp: # while the entire list is not traversed \n",
    "        # check if the left and right elements sum to target\n",
    "        total = arr[lp] + arr[rp]\n",
    "        \n",
    "        if total < target_sum:\n",
    "            # since the arr is sorted lp increment will increase the sum\n",
    "            lp += 1\n",
    "            \n",
    "        elif total > target_sum:\n",
    "            # similarly decrementing the rp will lower the sum\n",
    "            rp -= 1\n",
    "                \n",
    "        else:\n",
    "            return [lp, rp]\n",
    "        \n",
    "        \n",
    "    # if not found\n",
    "    return [-1,-1]\n",
    "    \n",
    "\n",
    "\n",
    "    "
   ]
  },
  {
   "cell_type": "code",
   "execution_count": 32,
   "metadata": {},
   "outputs": [
    {
     "name": "stdout",
     "output_type": "stream",
     "text": [
      "The numbers at index 1 and 3 add up to 6\n"
     ]
    }
   ],
   "source": [
    "arr = [1, 2, 3, 4, 6]\n",
    "target = 6\n",
    "\n",
    "i1, i2 = pair_with_target_sum(arr, target)\n",
    "print(f'The numbers at index {i1} and {i2} add up to {target}')\n"
   ]
  },
  {
   "cell_type": "code",
   "execution_count": 33,
   "metadata": {},
   "outputs": [
    {
     "name": "stdout",
     "output_type": "stream",
     "text": [
      "The numbers at index 0 and 2 add up to 11\n"
     ]
    }
   ],
   "source": [
    "arr = [2, 5, 9, 11]\n",
    "target = 11\n",
    "\n",
    "i1, i2 = pair_with_target_sum(arr, target)\n",
    "print(f'The numbers at index {i1} and {i2} add up to {target}')"
   ]
  },
  {
   "cell_type": "markdown",
   "metadata": {},
   "source": [
    "##### Time Complexity: O(N) (Linear time)\n",
    "##### Space Complexity: O(1) (Constant space)\n"
   ]
  },
  {
   "cell_type": "markdown",
   "metadata": {},
   "source": [
    "### <span style=\"color:blue\">2. Remove Duplicates (easy)</span>"
   ]
  },
  {
   "cell_type": "markdown",
   "metadata": {},
   "source": [
    "#### Problem Statement\n",
    "Given an array of sorted numbers, **remove all duplicates from it**. You should **not use any extra space**; after removing the duplicates in-place return the new length of the array.\n",
    "<img src = \"img/p2.png\" style=\"width:300px;height:400px\"/>\n",
    "<img src = \"img/p2b.png\" style=\"width:300px;height:500px\"/>"
   ]
  },
  {
   "cell_type": "code",
   "execution_count": 38,
   "metadata": {},
   "outputs": [],
   "source": [
    "import math\n",
    "\n",
    "def remove_duplicates(arr):\n",
    "    length = len(arr)\n",
    "    lp = 0\n",
    "    rp = 1\n",
    "    \n",
    "    ## if not base case\n",
    "    if length >=2:\n",
    "        \n",
    "        while lp < rp and rp < length:\n",
    "            # check if duplicate\n",
    "            if arr[lp] == arr [rp]:\n",
    "                # increment the rp\n",
    "                rp += 1\n",
    "            # if non-duplicate\n",
    "            else:\n",
    "                arr[lp+1] = arr[rp]\n",
    "                # increment both ptrs\n",
    "                lp +=1\n",
    "                rp +=1\n",
    "        \n",
    "        return arr[:lp+1]\n",
    "            \n",
    "        \n",
    "    # default return\n",
    "    return arr if length == 1 else []"
   ]
  },
  {
   "cell_type": "code",
   "execution_count": 39,
   "metadata": {},
   "outputs": [
    {
     "name": "stdout",
     "output_type": "stream",
     "text": [
      "The elements after removing the duplicates will be: [2, 3, 6, 9]\n"
     ]
    }
   ],
   "source": [
    "arr = [2, 3, 3, 3, 6, 9, 9]\n",
    "\n",
    "print(f'The elements after removing the duplicates will be: {remove_duplicates(arr)}')"
   ]
  },
  {
   "cell_type": "markdown",
   "metadata": {},
   "source": [
    "**The time complexity of the above algorithm will be O(N), where ‘N’ is the total number of elements in the given array.**\n",
    "\n",
    "Space Complexity\n",
    "The algorithm runs in constant space O(1)."
   ]
  },
  {
   "cell_type": "markdown",
   "metadata": {},
   "source": [
    "##### Time Complexity: O(N) (Linear time)\n",
    "##### Space Complexity: O(1) (Constant space)\n"
   ]
  },
  {
   "cell_type": "markdown",
   "metadata": {},
   "source": [
    "### <span style=\"color:blue\">3. Longest Substring with K Distinct Characters (medium)\n",
    "</span>"
   ]
  },
  {
   "cell_type": "markdown",
   "metadata": {},
   "source": [
    "#### Problem Statement\n",
    "Given a string, find the length of the **longest substring** in it **with no more than K distinct characters**.\n",
    "<img src = \"img/p3a.png\" style=\"width:380px;height:850px\"/>"
   ]
  },
  {
   "cell_type": "code",
   "execution_count": 1,
   "metadata": {},
   "outputs": [],
   "source": [
    "import math\n",
    "\n",
    "def longest_substring_with_k_distinct(string, k):\n",
    "    length = len(string)\n",
    "    window_size = 1\n",
    "    \n",
    "    max_length = -math.inf\n",
    "    \n",
    "    \n",
    "    # if valid input is given\n",
    "    if length > 0 and k > 0:\n",
    "        \n",
    "        # Iterate over the list\n",
    "        for i in range(length-window_size+1):\n",
    "            \n",
    "            # check the distinct characters in the window\n",
    "            dist_chars = len(set(string[i: i+window_size])) # is this an efficient or not?\n",
    "\n",
    "            \n",
    "            ## if distinct characters less than k then increment the window\n",
    "            if dist_chars <= k: \n",
    "        \n",
    "                # while num of distinct characters not exceeded increment the window\n",
    "                while (dist_chars <= k and i+window_size < length):\n",
    "                    window_size +=1\n",
    "                    dist_chars = len(set(string[i: i+window_size]))\n",
    "\n",
    "                    # if equal to distinct characters and greater than the previous length of substring, then update\n",
    "                    if (dist_chars == k and window_size > max_length):\n",
    "                \n",
    "                        max_length = window_size\n",
    "                    \n",
    "                    \n",
    "            # if distinct characters more than k then shrink the window\n",
    "            if dist_chars > k:\n",
    "                window_size -= 1\n",
    "            \n",
    "                \n",
    "        return max_length\n",
    "    \n",
    "    return 0\n",
    "            \n",
    "            "
   ]
  },
  {
   "cell_type": "code",
   "execution_count": 3,
   "metadata": {},
   "outputs": [
    {
     "data": {
      "text/plain": [
       "5"
      ]
     },
     "execution_count": 3,
     "metadata": {},
     "output_type": "execute_result"
    }
   ],
   "source": [
    "string = \"cbbebi\"\n",
    "k = 3\n",
    "\n",
    "longest_substring_with_k_distinct(string, k)"
   ]
  },
  {
   "cell_type": "code",
   "execution_count": 4,
   "metadata": {},
   "outputs": [
    {
     "data": {
      "text/plain": [
       "2"
      ]
     },
     "execution_count": 4,
     "metadata": {},
     "output_type": "execute_result"
    }
   ],
   "source": [
    "string = \"aaraaci\"\n",
    "k = 1\n",
    "\n",
    "longest_substring_with_k_distinct(string, k)"
   ]
  },
  {
   "cell_type": "code",
   "execution_count": 5,
   "metadata": {},
   "outputs": [
    {
     "data": {
      "text/plain": [
       "5"
      ]
     },
     "execution_count": 5,
     "metadata": {},
     "output_type": "execute_result"
    }
   ],
   "source": [
    "string = \"aaraaci\"\n",
    "k = 2\n",
    "\n",
    "longest_substring_with_k_distinct(string, k)"
   ]
  },
  {
   "cell_type": "markdown",
   "metadata": {},
   "source": [
    "### Try more efficient implementation:"
   ]
  },
  {
   "cell_type": "code",
   "execution_count": null,
   "metadata": {},
   "outputs": [],
   "source": []
  }
 ],
 "metadata": {
  "kernelspec": {
   "display_name": "Python 3",
   "language": "python",
   "name": "python3"
  },
  "language_info": {
   "codemirror_mode": {
    "name": "ipython",
    "version": 3
   },
   "file_extension": ".py",
   "mimetype": "text/x-python",
   "name": "python",
   "nbconvert_exporter": "python",
   "pygments_lexer": "ipython3",
   "version": "3.7.4"
  }
 },
 "nbformat": 4,
 "nbformat_minor": 1
}
