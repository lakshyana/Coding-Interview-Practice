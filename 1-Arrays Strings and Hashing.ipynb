{
 "cells": [
  {
   "cell_type": "markdown",
   "metadata": {},
   "source": [
    "# <span style=\"color:green\"> Type: Arrays, Strings, & Hashing </span>"
   ]
  },
  {
   "cell_type": "markdown",
   "metadata": {
    "collapsed": false,
    "jupyter": {
     "outputs_hidden": false
    }
   },
   "source": [
    "### LC 1: Two Sum"
   ]
  },
  {
   "cell_type": "markdown",
   "metadata": {
    "collapsed": false,
    "jupyter": {
     "outputs_hidden": false
    }
   },
   "source": [
    "<img src = \"img/q1.png\" style=\"width:700px;height:700px\"/>"
   ]
  },
  {
   "cell_type": "code",
   "execution_count": null,
   "metadata": {
    "collapsed": false,
    "jupyter": {
     "outputs_hidden": false
    }
   },
   "outputs": [],
   "source": [
    "class Solution:\n",
    "    def twoSum(self, nums:list[int], target: int) -> list[int]:\n",
    "        hashmap = {}\n",
    "\n",
    "        for i in range(len(nums)):\n",
    "\n",
    "            #compute difference\n",
    "            diff = target - nums[i]\n",
    "\n",
    "            # check if complement in hashmap\n",
    "            if diff in hashmap:\n",
    "                return [hashmap[diff], i]\n",
    "\n",
    "            # else add this num and index to hashmap\n",
    "            hashmap[nums[i]] = i"
   ]
  },
  {
   "cell_type": "code",
   "execution_count": 4,
   "metadata": {
    "collapsed": false,
    "jupyter": {
     "outputs_hidden": false
    }
   },
   "outputs": [],
   "source": [
    "class Solution:\n",
    "\n",
    "    def twoSum(self, nums: list[int], target: int) -> list[int]:\n",
    "\n",
    "        # Initialize a num to index map\n",
    "        nums_to_index = {}\n",
    "\n",
    "        # iterate over the nums\n",
    "        for i, num in enumerate(nums):\n",
    "\n",
    "            # compute the difference between target and num\n",
    "            diff = target - num\n",
    "\n",
    "            #if the diff number is already in the map\n",
    "            if diff in nums_to_index:\n",
    "                return [nums_to_index[diff], i] # return the index of the diff and this index\n",
    "\n",
    "            #Otherwise just add it to the map and continue iterating\n",
    "            nums_to_index[num] = i\n",
    "\n",
    "        return\n",
    "\n",
    "solution = Solution()"
   ]
  },
  {
   "cell_type": "code",
   "execution_count": 5,
   "metadata": {
    "collapsed": false,
    "jupyter": {
     "outputs_hidden": false
    }
   },
   "outputs": [
    {
     "data": {
      "text/plain": [
       "[0, 1]"
      ]
     },
     "execution_count": 5,
     "metadata": {},
     "output_type": "execute_result"
    }
   ],
   "source": [
    "solution.twoSum([3,3], 6)"
   ]
  },
  {
   "cell_type": "code",
   "execution_count": 6,
   "metadata": {
    "collapsed": false,
    "jupyter": {
     "outputs_hidden": false
    }
   },
   "outputs": [
    {
     "data": {
      "text/plain": [
       "[1, 2]"
      ]
     },
     "execution_count": 6,
     "metadata": {},
     "output_type": "execute_result"
    }
   ],
   "source": [
    "solution.twoSum([3,7,2,11,15], 9)"
   ]
  },
  {
   "cell_type": "markdown",
   "metadata": {
    "collapsed": false,
    "jupyter": {
     "outputs_hidden": false
    }
   },
   "source": [
    "**Time Complexity: O(n), Space Complexity: O(n)**\n",
    "\n",
    "Time complexity: O(n). We traverse the list containing n elements only once. Each lookup in the table costs only O(1) time.\n",
    "Space complexity: O(n). The extra space required depends on the number of items stored in the hash table, which stores at most n elements."
   ]
  },
  {
   "cell_type": "markdown",
   "metadata": {},
   "source": [
    "### LC 217: Contains Duplicate"
   ]
  },
  {
   "cell_type": "markdown",
   "metadata": {},
   "source": [
    "<img src=\"img/lc217.png\" style=\"width:300px;height:300px\"/>"
   ]
  },
  {
   "cell_type": "code",
   "execution_count": null,
   "metadata": {
    "collapsed": false,
    "jupyter": {
     "outputs_hidden": false
    }
   },
   "outputs": [],
   "source": [
    "    def containsDuplicate(self, nums: List[int]) -> bool:\n",
    "\n",
    "        # Input : nums array\n",
    "        # Output : true if any num has a duplicate (appears twice), else false\n",
    "\n",
    "        ## Data Structure : Set (To catch duplicate)\n",
    "        seen = set()\n",
    "\n",
    "        # Iterate through the list\n",
    "        for num in nums:\n",
    "\n",
    "            # check if this num is in seen\n",
    "            if num in seen:\n",
    "                # if yes, then return True\n",
    "                return True\n",
    "\n",
    "            # else, add this num to the set\n",
    "            else:\n",
    "                seen.add(num)\n",
    "            \n",
    "        # at the end, return False as the list traversal is complete and no duplicate was found\n",
    "        return False"
   ]
  },
  {
   "cell_type": "code",
   "execution_count": 2,
   "metadata": {
    "ExecuteTime": {
     "end_time": "2023-06-11T13:46:23.976199700Z",
     "start_time": "2023-06-11T13:46:23.824635200Z"
    }
   },
   "outputs": [],
   "source": [
    "def containsDuplicate(nums:list[int]) -> bool:\n",
    "    return len(set(nums)) != len(nums)\n",
    "\n",
    "def containsDuplicate(nums:list[int]) -> bool:\n",
    "    # create a set to store the nums\n",
    "    nums_set = set() # initialize set\n",
    "\n",
    "    # iterate over nums\n",
    "    for num in nums:\n",
    "\n",
    "        # check if num is in nums_set already, if it is, then return True\n",
    "        if num in nums_set:\n",
    "            return True\n",
    "\n",
    "        # Otherwise add this num to num_set\n",
    "        nums_set.add(num)\n",
    "\n",
    "    return False\n"
   ]
  },
  {
   "cell_type": "code",
   "execution_count": 3,
   "metadata": {
    "ExecuteTime": {
     "end_time": "2023-06-11T13:46:26.244519900Z",
     "start_time": "2023-06-11T13:46:26.033170500Z"
    }
   },
   "outputs": [
    {
     "data": {
      "text/plain": [
       "False"
      ]
     },
     "execution_count": 3,
     "metadata": {},
     "output_type": "execute_result"
    }
   ],
   "source": [
    "containsDuplicate([1,4,2,3])"
   ]
  },
  {
   "cell_type": "code",
   "execution_count": 4,
   "metadata": {
    "ExecuteTime": {
     "end_time": "2023-06-11T13:46:27.757501200Z",
     "start_time": "2023-06-11T13:46:27.115141200Z"
    }
   },
   "outputs": [
    {
     "data": {
      "text/plain": [
       "True"
      ]
     },
     "execution_count": 4,
     "metadata": {},
     "output_type": "execute_result"
    }
   ],
   "source": [
    "containsDuplicate([1,2,2,3])"
   ]
  },
  {
   "cell_type": "markdown",
   "metadata": {},
   "source": [
    "**Time Complexity: O(n), Space Complexity: O(n)**"
   ]
  },
  {
   "cell_type": "markdown",
   "metadata": {},
   "source": [
    "### LC 169: Majority Element"
   ]
  },
  {
   "cell_type": "markdown",
   "metadata": {},
   "source": [
    "<img src = \"img/lc169.png\" style=\"width:400px;height:600px\"/>"
   ]
  },
  {
   "cell_type": "code",
   "execution_count": null,
   "metadata": {},
   "outputs": [],
   "source": [
    "def majorityElement(self, nums: List[int]) -> int:\n",
    "        # input nums\n",
    "        # output : majority element (most occurring) ? n / 2 times\n",
    "        # Condition: always exists\n",
    "    \n",
    "        # Data structure -> hashmap\n",
    "        seen = {}\n",
    "\n",
    "        n= len(nums)\n",
    "\n",
    "        # iterate through the nums\n",
    "        for num in nums:\n",
    "        \n",
    "            ## add this num to the list / increment the count\n",
    "            if num in seen:\n",
    "                seen[num] += 1\n",
    "\n",
    "            else:\n",
    "                seen[num] = 1\n",
    "\n",
    "            # check if the this element has been seen more than n/2 times\n",
    "            if num in seen and seen[num] > n/2:\n",
    "                # if so return the elem\n",
    "                return num"
   ]
  },
  {
   "cell_type": "code",
   "execution_count": 8,
   "metadata": {},
   "outputs": [],
   "source": [
    "def getMajority(nums):\n",
    "    nums.sort()\n",
    "    return nums[len(nums)//2]"
   ]
  },
  {
   "cell_type": "code",
   "execution_count": 12,
   "metadata": {},
   "outputs": [],
   "source": [
    "def getMajority(nums):\n",
    "    ## store count and majority number\n",
    "    count = 0\n",
    "    maj_elem = nums[0]\n",
    "    \n",
    "    #iterate over nums\n",
    "    for num in nums:\n",
    "        if count != 0:\n",
    "            if num == maj_elem:\n",
    "                count += 1\n",
    "            else:\n",
    "                count -= 1\n",
    "                \n",
    "        # if count is 0\n",
    "        if count == 0:\n",
    "            maj_elem = num\n",
    "            count = 1\n",
    "    # return majority elem, which is guarenteed to exist in this case        \n",
    "    return maj_elem"
   ]
  },
  {
   "cell_type": "code",
   "execution_count": 13,
   "metadata": {},
   "outputs": [
    {
     "data": {
      "text/plain": [
       "3"
      ]
     },
     "execution_count": 13,
     "metadata": {},
     "output_type": "execute_result"
    }
   ],
   "source": [
    "getMajority([3,2,3])"
   ]
  },
  {
   "cell_type": "code",
   "execution_count": 14,
   "metadata": {},
   "outputs": [
    {
     "data": {
      "text/plain": [
       "2"
      ]
     },
     "execution_count": 14,
     "metadata": {},
     "output_type": "execute_result"
    }
   ],
   "source": [
    "getMajority([2,2,1,1,1,2,2])"
   ]
  },
  {
   "cell_type": "markdown",
   "metadata": {},
   "source": [
    "### 268. Missing Number"
   ]
  },
  {
   "cell_type": "code",
   "execution_count": 19,
   "metadata": {},
   "outputs": [
    {
     "data": {
      "text/plain": [
       "4"
      ]
     },
     "execution_count": 19,
     "metadata": {},
     "output_type": "execute_result"
    }
   ],
   "source": [
    "sum([0,1,3]) "
   ]
  },
  {
   "cell_type": "code",
   "execution_count": 18,
   "metadata": {},
   "outputs": [
    {
     "data": {
      "text/plain": [
       "6"
      ]
     },
     "execution_count": 18,
     "metadata": {},
     "output_type": "execute_result"
    }
   ],
   "source": [
    "sum([num for num in range(0, 3+1)])"
   ]
  },
  {
   "cell_type": "code",
   "execution_count": 20,
   "metadata": {},
   "outputs": [
    {
     "data": {
      "text/plain": [
       "2"
      ]
     },
     "execution_count": 20,
     "metadata": {},
     "output_type": "execute_result"
    }
   ],
   "source": [
    "6-4"
   ]
  },
  {
   "cell_type": "code",
   "execution_count": null,
   "metadata": {},
   "outputs": [],
   "source": []
  },
  {
   "cell_type": "code",
   "execution_count": null,
   "metadata": {},
   "outputs": [],
   "source": [
    "def missingNumber(self, nums: List[int]) -> int:\n",
    "        \n",
    "        # Input : nums array -> [0, n], with 1 num missing\n",
    "        # Output: missing num\n",
    "\n",
    "        # Data structure \n",
    "        sum_of_indices, sum_of_nums = 0, 0\n",
    "\n",
    "        # Iterate through nums list\n",
    "        for i, num in enumerate(nums):\n",
    "\n",
    "            sum_of_indices += i+1\n",
    "            sum_of_nums += num\n",
    "\n",
    "            print(sum_of_indices)\n",
    "\n",
    "        # return the missing number, which will be the difference between sum of indices, and sum of nums \n",
    "        return abs(sum_of_nums - sum_of_indices)"
   ]
  },
  {
   "cell_type": "markdown",
   "metadata": {
    "jp-MarkdownHeadingCollapsed": true
   },
   "source": [
    "### LC 242: Valid Anagram"
   ]
  },
  {
   "cell_type": "markdown",
   "metadata": {},
   "source": [
    "<img src = \"img/lc242.png\" style=\"width:580px;height:600px\"/>"
   ]
  },
  {
   "cell_type": "code",
   "execution_count": 172,
   "metadata": {},
   "outputs": [],
   "source": [
    "### Approach 1: Sort the strings and check if they are the same\n",
    "def isAnagram(s, t):\n",
    "    s = sorted(s)\n",
    "    t = sorted(t)\n",
    "    return s == t\n",
    "    \n",
    "### Approach 2: Keep frequency count of all unique characters for one string and compare with the other string\n",
    "def isAnagram(s, t): \n",
    "    char_frequency = {}\n",
    "    length = len(s)\n",
    "    \n",
    "    # base case\n",
    "    if len(s) != len(t):\n",
    "        return False\n",
    "    \n",
    "    for i in range(length):\n",
    "        char_s = s[i]\n",
    "        char_t = t[i]\n",
    "        \n",
    "        # increment the count of the char at this index in s\n",
    "        char_frequency[char_s] = char_frequency[char_s] + 1 if char_s in char_frequency else 1\n",
    "        \n",
    "        # decrement the count of the char at this index in t\n",
    "        char_frequency[char_t] = char_frequency[char_t] - 1 if char_t in char_frequency else -1\n",
    "        \n",
    "    for k, v in char_frequency.items():\n",
    "        if v != 0:\n",
    "            return False   \n",
    "        \n",
    "    return True"
   ]
  },
  {
   "cell_type": "code",
   "execution_count": 7,
   "metadata": {
    "ExecuteTime": {
     "end_time": "2023-06-11T23:41:21.725458100Z",
     "start_time": "2023-06-11T23:41:21.708949400Z"
    },
    "collapsed": false,
    "jupyter": {
     "outputs_hidden": false
    }
   },
   "outputs": [],
   "source": [
    "def isAnagram(s, t):\n",
    "\n",
    "    # base case\n",
    "    if len(s) != len(t):\n",
    "        return False\n",
    "\n",
    "    # create a hashmap to store the frequency of each char in s\n",
    "    countS, countT = {}, {}\n",
    "\n",
    "    for i in range(len(s)):\n",
    "        countS[s[i]] = 1 + countS.get(s[i],0) # using .get avoids key error\n",
    "\n",
    "        countT[t[i]] = 1 + countT.get(t[i],0)\n",
    "\n",
    "    # iterate over the characters\n",
    "    for ch in countS:\n",
    "        if countS[ch] != countT.get(ch,0):\n",
    "            return False\n",
    "\n",
    "    return True\n"
   ]
  },
  {
   "cell_type": "code",
   "execution_count": 8,
   "metadata": {
    "ExecuteTime": {
     "end_time": "2023-06-11T23:41:22.322724500Z",
     "start_time": "2023-06-11T23:41:22.278720500Z"
    }
   },
   "outputs": [
    {
     "data": {
      "text/plain": [
       "True"
      ]
     },
     "execution_count": 8,
     "metadata": {},
     "output_type": "execute_result"
    }
   ],
   "source": [
    "isAnagram(\"abc\", \"acb\")"
   ]
  },
  {
   "cell_type": "markdown",
   "metadata": {
    "collapsed": false,
    "jupyter": {
     "outputs_hidden": false
    }
   },
   "source": [
    "**Time Complexity: O(n), Space Complexity: O(n)**"
   ]
  },
  {
   "cell_type": "markdown",
   "metadata": {
    "collapsed": false,
    "jupyter": {
     "outputs_hidden": false
    }
   },
   "source": []
  },
  {
   "cell_type": "markdown",
   "metadata": {
    "collapsed": false,
    "jupyter": {
     "outputs_hidden": false
    }
   },
   "source": [
    "### LC 271. Encode and Decode Strings\n"
   ]
  },
  {
   "cell_type": "code",
   "execution_count": 7,
   "metadata": {
    "ExecuteTime": {
     "end_time": "2023-06-15T09:42:43.099229100Z",
     "start_time": "2023-06-15T09:42:43.067871200Z"
    },
    "collapsed": false,
    "jupyter": {
     "outputs_hidden": false
    }
   },
   "outputs": [],
   "source": [
    "def encode(strs):\n",
    "    \"\"\"Encodes a list of strings to a single string.\n",
    "    \"\"\"\n",
    "\n",
    "    result = \"\"\n",
    "\n",
    "    for s in strs:\n",
    "\n",
    "        # get the length of the string\n",
    "        n = len(s)\n",
    "\n",
    "        result += f\"{n}*{s}\"\n",
    "\n",
    "    return result\n",
    "\n",
    "\n",
    "def decode(s):\n",
    "        \"\"\"Decodes a single string to a list of strings.\n",
    "        \"\"\"\n",
    "\n",
    "        result = []\n",
    "\n",
    "        # initialize i\n",
    "        i = 0\n",
    "\n",
    "        # first get the length of the string to decode\n",
    "\n",
    "        # iterate through all the characters:\n",
    "        while i < len(s):\n",
    "\n",
    "            # keep count of start index of num\n",
    "            j = i\n",
    "            length = \"\"\n",
    "\n",
    "            # iterate until ch != \"*\"\n",
    "            while s[j] != \"*\":\n",
    "                length += f\"{s[j]}\"\n",
    "\n",
    "                # print(\"len \", length)\n",
    "\n",
    "                j += 1\n",
    "\n",
    "            # once ch = \"*\", get the corresponding string and append to result\n",
    "            result.append(\n",
    "                # slice\n",
    "                s[\n",
    "                    # start of string = index of * + 1\n",
    "                    j + 1\n",
    "                    :\n",
    "                    j + 1 + int(length)\n",
    "                    # end of string\n",
    "                ]\n",
    "            )\n",
    "\n",
    "             # increment to the end of this word\n",
    "            i = j + 1 + int(length)\n",
    "\n",
    "        return result"
   ]
  },
  {
   "cell_type": "code",
   "execution_count": 8,
   "metadata": {
    "ExecuteTime": {
     "end_time": "2023-06-15T09:42:44.066420600Z",
     "start_time": "2023-06-15T09:42:44.030737200Z"
    },
    "collapsed": false,
    "jupyter": {
     "outputs_hidden": false
    }
   },
   "outputs": [
    {
     "data": {
      "text/plain": [
       "'5*Hello5*World'"
      ]
     },
     "execution_count": 8,
     "metadata": {},
     "output_type": "execute_result"
    }
   ],
   "source": [
    "encode([\"Hello\",\"World\"])"
   ]
  },
  {
   "cell_type": "code",
   "execution_count": 9,
   "metadata": {
    "ExecuteTime": {
     "end_time": "2023-06-15T09:42:44.367323600Z",
     "start_time": "2023-06-15T09:42:44.351338200Z"
    },
    "collapsed": false,
    "jupyter": {
     "outputs_hidden": false
    }
   },
   "outputs": [
    {
     "data": {
      "text/plain": [
       "['Hello', 'World']"
      ]
     },
     "execution_count": 9,
     "metadata": {},
     "output_type": "execute_result"
    }
   ],
   "source": [
    "decode(\"5*Hello5*World\")"
   ]
  },
  {
   "cell_type": "markdown",
   "metadata": {},
   "source": [
    "### LC 1299: Replace Elements With Greatest Element On Right Side"
   ]
  },
  {
   "cell_type": "markdown",
   "metadata": {},
   "source": [
    "<img src = \"img/lc1299.png\" style=\"width:500px;height:550px\"/>"
   ]
  },
  {
   "cell_type": "code",
   "execution_count": 17,
   "metadata": {},
   "outputs": [],
   "source": [
    "def replaceElements(arr):\n",
    "    # initialize values\n",
    "    length   = len(arr) # length\n",
    "    max_num  = arr[-1] # max elem\n",
    "    \n",
    "    # base case\n",
    "    if length == 0:\n",
    "        return []\n",
    "    \n",
    "    # base case\n",
    "    if length == 1:\n",
    "        return [-1]\n",
    "    \n",
    "    # replace first elem with -1\n",
    "    arr[-1] = -1\n",
    "    \n",
    "    # iterate array in reverse order\n",
    "    for i in range(1, length): \n",
    "        index = length-i-1 # reverse index Note: -1 added to account for index number calc\n",
    "        current_num = arr[index]\n",
    "        \n",
    "        # replace current num with the max num\n",
    "        arr[index] = max_num\n",
    "        \n",
    "        # compare current num and max num and update \n",
    "        max_num = max(max_num, current_num)\n",
    "    \n",
    "    return arr\n",
    "        "
   ]
  },
  {
   "cell_type": "code",
   "execution_count": 18,
   "metadata": {},
   "outputs": [
    {
     "data": {
      "text/plain": [
       "[18, 6, 6, 6, 1, -1]"
      ]
     },
     "execution_count": 18,
     "metadata": {},
     "output_type": "execute_result"
    }
   ],
   "source": [
    "replaceElements([17, 18, 5, 4, 6, 1])\n"
   ]
  },
  {
   "cell_type": "code",
   "execution_count": 19,
   "metadata": {},
   "outputs": [
    {
     "data": {
      "text/plain": [
       "[-1]"
      ]
     },
     "execution_count": 19,
     "metadata": {},
     "output_type": "execute_result"
    }
   ],
   "source": [
    "replaceElements([400])"
   ]
  },
  {
   "cell_type": "markdown",
   "metadata": {},
   "source": [
    "### LC 49: Group Anagrams"
   ]
  },
  {
   "cell_type": "markdown",
   "metadata": {},
   "source": [
    "<img src = \"img/lc49.png\" style=\"width:600px;height:700px\"/>"
   ]
  },
  {
   "cell_type": "code",
   "execution_count": 19,
   "metadata": {},
   "outputs": [],
   "source": [
    "from collections import defaultdict\n",
    "\n",
    "def groupAnagrams(strs):\n",
    "    \n",
    "    # initialize hashmap of with char counts as keys and list of anagrams as values (use a default dict to avoid key error)\n",
    "    hashmap = defaultdict(list)\n",
    "    \n",
    "    # iterate through the list of strings\n",
    "    for s in strs:\n",
    "        \n",
    "        # initialize letter counts for 26 chars with 0s (to use as keys in the hashmap). \n",
    "        # Note: The contraint states that only lower case english letters are present in the string\n",
    "        key = [0] * 26\n",
    "        \n",
    "        # get the count of each letter in the string, and update the key\n",
    "        for letter in s:\n",
    "            key[ord(letter)-ord(\"a\")] += 1 \n",
    "            #note: ord() gives the asci value and subtracting by ord('a') gives the index\n",
    "        \n",
    "        # lookup hashmap by this count key and add the string to the key\n",
    "        hashmap[tuple(key)].append(s)\n",
    "        \n",
    "    # return the hashmap values\n",
    "    return hashmap.values()\n",
    "        "
   ]
  },
  {
   "cell_type": "code",
   "execution_count": 20,
   "metadata": {},
   "outputs": [
    {
     "data": {
      "text/plain": [
       "dict_values([['eat', 'tea', 'ate'], ['tan', 'nat'], ['bat']])"
      ]
     },
     "execution_count": 20,
     "metadata": {},
     "output_type": "execute_result"
    }
   ],
   "source": [
    "strs = [\"eat\",\"tea\",\"tan\",\"ate\",\"nat\",\"bat\"]\n",
    "groupAnagrams(strs)"
   ]
  },
  {
   "cell_type": "code",
   "execution_count": null,
   "metadata": {},
   "outputs": [],
   "source": []
  },
  {
   "cell_type": "markdown",
   "metadata": {},
   "source": [
    "### LC 347: Top K Frequent Elements"
   ]
  },
  {
   "cell_type": "markdown",
   "metadata": {},
   "source": [
    "<img src = \"img/lc347.png\" style=\"width:580px;height:570px\"/>"
   ]
  },
  {
   "cell_type": "markdown",
   "metadata": {},
   "source": [
    "<img src = \"img/lc347_h1.png\" style=\"width:400px;height:200px\"/>\n",
    "<img src = \"img/lc347_bs.png\" style=\"width:400px;height:200px\"/>\n",
    "<img src = \"img/lc347_ra.png\" style=\"width:400px;height:200px\"/>"
   ]
  },
  {
   "cell_type": "code",
   "execution_count": 73,
   "metadata": {},
   "outputs": [],
   "source": [
    "from collections import defaultdict\n",
    "\n",
    "def topkfrequent(nums, k):\n",
    "    length = len(nums)\n",
    "\n",
    "    # initialize hashmap of frequency counts for each unique num\n",
    "    hashmap = defaultdict(int)\n",
    "\n",
    "    # initialize a list of lists to store numbers based on counts\n",
    "    count_bucket  = [[] for i in range(length)] \n",
    "\n",
    "    # initialize the results list to store k items \n",
    "    results = []\n",
    "\n",
    "    # iterate through the list of nums and get frequency counts\n",
    "    for num in nums:\n",
    "        # update hashmap count\n",
    "        hashmap[num] += 1\n",
    "    \n",
    "    # iterate through the frequency counts to add the numbers to buckets by counts\n",
    "    #note: the possibility of counts range from 1-N \n",
    "    for num, count in hashmap.items():\n",
    "        count_bucket[count-1].append(num)\n",
    "\n",
    "    c = 0\n",
    "    for bucket in count_bucket[::-1]:\n",
    "        for num in bucket: #since each bucket can have more than one item, we iterate over the items in each bucket.\n",
    "            if c<k:\n",
    "                results.append(num)\n",
    "                c += 1\n",
    "            if c==k:\n",
    "                return results #note: the constraint states that k will be less than n so not including default return\n",
    "\n",
    "        #Note: the time complexity here is O(k) since the loop terminates after the count == k and returns the result             "
   ]
  },
  {
   "cell_type": "code",
   "execution_count": 74,
   "metadata": {},
   "outputs": [
    {
     "data": {
      "text/plain": [
       "[1, 2]"
      ]
     },
     "execution_count": 74,
     "metadata": {},
     "output_type": "execute_result"
    }
   ],
   "source": [
    "topkfrequent([2,2,3,1,1,1], 2)"
   ]
  },
  {
   "cell_type": "code",
   "execution_count": 75,
   "metadata": {},
   "outputs": [
    {
     "data": {
      "text/plain": [
       "[0]"
      ]
     },
     "execution_count": 75,
     "metadata": {},
     "output_type": "execute_result"
    }
   ],
   "source": [
    "topkfrequent([3,0,1,0], 1)"
   ]
  },
  {
   "cell_type": "markdown",
   "metadata": {},
   "source": [
    "### LC 238: Product of Array Except Self"
   ]
  },
  {
   "cell_type": "markdown",
   "metadata": {},
   "source": [
    "<img src = \"img/lc238.png\" style=\"width:580px;height:570px\"/>"
   ]
  },
  {
   "cell_type": "markdown",
   "metadata": {},
   "source": [
    "<img src = \"img/lc238_h1.png\" style=\"width:400px;height:200px\"/>\n",
    "<img src = \"img/lc238_h2.png\" style=\"width:400px;height:200px\"/>\n",
    "<img src = \"img/lc238_h3.png\" style=\"width:400px;height:200px\"/>"
   ]
  },
  {
   "cell_type": "code",
   "execution_count": 52,
   "metadata": {},
   "outputs": [],
   "source": [
    "def productExceptSelf(nums):\n",
    "    # length\n",
    "    length = len(nums)\n",
    "    \n",
    "    # initialize result array\n",
    "    result = []\n",
    "    \n",
    "    # multiplier term to keep track of multiples\n",
    "    mult = 1\n",
    "    \n",
    "    \n",
    "    # iterate from left to right to compute multiples prior to current term\n",
    "    for num in nums:\n",
    "        \n",
    "        # append the left multiples until the previous term\n",
    "        result.append(mult)\n",
    "        \n",
    "        # compute next mult\n",
    "        mult *= num\n",
    "\n",
    "        \n",
    "    # reset multiplier to one\n",
    "    mult = 1\n",
    "    \n",
    "    # iterate from right to left to compute multiples post the current term\n",
    "    for i in range(length-1, -1, -1): # alternate: for i in reversed(range(length))\n",
    "        result[i] *= mult\n",
    "        \n",
    "        # compute next mult by multiplying the current term to previous multiplier\n",
    "        mult *= nums[i]\n",
    "        \n",
    "    return result\n",
    "    "
   ]
  },
  {
   "cell_type": "code",
   "execution_count": 53,
   "metadata": {},
   "outputs": [
    {
     "data": {
      "text/plain": [
       "[24, 12, 8, 6]"
      ]
     },
     "execution_count": 53,
     "metadata": {},
     "output_type": "execute_result"
    }
   ],
   "source": [
    "productExceptSelf([1,2,3,4])"
   ]
  },
  {
   "cell_type": "code",
   "execution_count": 54,
   "metadata": {},
   "outputs": [
    {
     "data": {
      "text/plain": [
       "[0, 0, 9, 0, 0]"
      ]
     },
     "execution_count": 54,
     "metadata": {},
     "output_type": "execute_result"
    }
   ],
   "source": [
    "productExceptSelf([-1,1,0,-3,3])"
   ]
  },
  {
   "cell_type": "markdown",
   "metadata": {},
   "source": [
    "Complexity analysis\n",
    "\n",
    "Time complexity : O(N) where N represents the number of elements in the input array. We use one iteration to construct the array LLL, one to update the array answeransweranswer.\n",
    "Space complexity : O(1) since don't use any additional array for our computations. The problem statement mentions that using the answeransweranswer array doesn't add to the space complexity."
   ]
  },
  {
   "cell_type": "markdown",
   "metadata": {},
   "source": [
    "### LC 271: Encode & Decode Strings"
   ]
  },
  {
   "cell_type": "markdown",
   "metadata": {},
   "source": [
    "<img src=\"img/lc271.png\" />"
   ]
  },
  {
   "cell_type": "code",
   "execution_count": 61,
   "metadata": {},
   "outputs": [
    {
     "data": {
      "text/plain": [
       "'abs'"
      ]
     },
     "execution_count": 61,
     "metadata": {},
     "output_type": "execute_result"
    }
   ],
   "source": [
    "ss = \"\"\n",
    "\n",
    "ss += \"abs\"\n",
    "\n",
    "ss"
   ]
  },
  {
   "cell_type": "code",
   "execution_count": 128,
   "metadata": {},
   "outputs": [],
   "source": [
    "def encode(strs):\n",
    "    # initialize encoded result\n",
    "    result = \"\"\n",
    "    \n",
    "    # iterate over each string\n",
    "    for s in strs:\n",
    "        \n",
    "        # append the length and a symbol in front of the string\n",
    "        result += f\"{len(s)}-{s}\" \n",
    "        \n",
    "    return result\n",
    "    \n",
    "    \n",
    "def decode(s):\n",
    "    \n",
    "    #length\n",
    "    length = len(s)\n",
    "    \n",
    "    # initialize decoded result\n",
    "    result = []\n",
    "    \n",
    "    # initialize index\n",
    "    i = 0\n",
    "    \n",
    "    # iterate all characters\n",
    "    while i < length:\n",
    "        \n",
    "        # initialize second index from i\n",
    "        j = 0\n",
    "        \n",
    "        # iterate starting from i until next \"-\" ch and convert to int\n",
    "        while s[i+j] != \"-\":\n",
    "            j += 1\n",
    "            \n",
    "        #convert the length to int\n",
    "        size = int(s[i:i+j])\n",
    "   \n",
    "        # append the next chunk after j of string of this length to the result\n",
    "        result.append(s[i+j+1: i+j+1+size])\n",
    "        \n",
    "        # update i to next start\n",
    "        i += j+1+size \n",
    "\n",
    "    return result"
   ]
  },
  {
   "cell_type": "code",
   "execution_count": 129,
   "metadata": {},
   "outputs": [
    {
     "data": {
      "text/plain": [
       "'1-a2-bc3-def'"
      ]
     },
     "execution_count": 129,
     "metadata": {},
     "output_type": "execute_result"
    }
   ],
   "source": [
    "encode(['a', 'bc', 'def'])"
   ]
  },
  {
   "cell_type": "code",
   "execution_count": 130,
   "metadata": {},
   "outputs": [
    {
     "data": {
      "text/plain": [
       "['a', 'bc', 'def']"
      ]
     },
     "execution_count": 130,
     "metadata": {},
     "output_type": "execute_result"
    }
   ],
   "source": [
    "decode('1-a2-bc3-def')"
   ]
  },
  {
   "cell_type": "markdown",
   "metadata": {},
   "source": [
    "### LC 128: Longest Consecutive Sequence"
   ]
  },
  {
   "cell_type": "markdown",
   "metadata": {},
   "source": [
    "<img src=\"img/lc128.png\" style=\"width:500px;height:500px\"/>"
   ]
  },
  {
   "cell_type": "code",
   "execution_count": 168,
   "metadata": {},
   "outputs": [],
   "source": [
    "def longestConsecutive(nums):\n",
    "    # length \n",
    "    length = len(nums)\n",
    "    \n",
    "    # initialize a hashmap\n",
    "    hashmap = set(nums)\n",
    "    \n",
    "    # initialize max sequence\n",
    "    max_sequence = 0\n",
    "    \n",
    "    # iterate over the list of nums\n",
    "    for num in nums:\n",
    "    \n",
    "        # finding the start of the sequence\n",
    "        # if no previous num exists, this is the start of seq\n",
    "        \n",
    "        if num-1 not in hashmap:\n",
    "            # initialize current num for sequence start\n",
    "            current_num = num\n",
    "            # initialize local var for sequence length\n",
    "            sequence = 1\n",
    "            \n",
    "            # iterate until we find the end of consecutive sequence, until next num exists\n",
    "            while current_num+1 in hashmap:\n",
    "                current_num +=1\n",
    "                sequence += 1\n",
    "                \n",
    "            # update max sequence \n",
    "            max_sequence = max(sequence, max_sequence)\n",
    "        \n",
    "    return max_sequence"
   ]
  },
  {
   "cell_type": "code",
   "execution_count": 169,
   "metadata": {},
   "outputs": [
    {
     "data": {
      "text/plain": [
       "4"
      ]
     },
     "execution_count": 169,
     "metadata": {},
     "output_type": "execute_result"
    }
   ],
   "source": [
    "longestConsecutive([100,4, 200, 1,3,2])"
   ]
  },
  {
   "cell_type": "code",
   "execution_count": null,
   "metadata": {},
   "outputs": [],
   "source": []
  },
  {
   "cell_type": "markdown",
   "metadata": {},
   "source": [
    "## Type: Stack"
   ]
  },
  {
   "cell_type": "markdown",
   "metadata": {},
   "source": [
    "### LC 20: Valid Parentheses"
   ]
  },
  {
   "cell_type": "markdown",
   "metadata": {},
   "source": [
    "<img src=\"img/lc_20.png\" style=\"width:500px;height:500px\" />"
   ]
  },
  {
   "cell_type": "code",
   "execution_count": 21,
   "metadata": {},
   "outputs": [],
   "source": [
    "def isValidParentheses(string:str) -> bool:\n",
    "    # intialise a hashmap of open and closed bracket pairs\n",
    "    brackets = {\"}\" : \"{\", \"]\" : \"[\", \")\" : \"(\"}\n",
    "    \n",
    "    # initialize a stack (list)\n",
    "    stack = []\n",
    "    \n",
    "    ### iterate over the string\n",
    "    \n",
    "    for ch in string:\n",
    "        \n",
    "        ## 1. if ch is closed bracket\n",
    "        if ch in brackets:\n",
    "        \n",
    "            # 2. if stack is not empty before closed bracket\n",
    "            if stack:\n",
    "                ## pop the last open bracket from stack & \n",
    "                last_open = stack.pop() \n",
    "                \n",
    "                \n",
    "           # 2. if stack is empty means closed bracket precedes open bracket which is invalid\n",
    "            else:\n",
    "                return False\n",
    "            \n",
    "            ## 3. check if the closed bracket corresponds to the open brack (dict of pairs of open close brackets)\n",
    "            if last_open != brackets[ch]:\n",
    "                print(last_open, brackets[ch])\n",
    "                return False ## if incorrect return false\n",
    "            \n",
    "        ## 1. else if ch is open bracket, store it to a stack \n",
    "        else:\n",
    "            stack.append(ch)\n",
    "\n",
    "    ## At the end of loop, return True if stack is empty (i.e all open brack matched with closed brack)\n",
    "    return not stack"
   ]
  },
  {
   "cell_type": "code",
   "execution_count": 22,
   "metadata": {},
   "outputs": [
    {
     "data": {
      "text/plain": [
       "True"
      ]
     },
     "execution_count": 22,
     "metadata": {},
     "output_type": "execute_result"
    }
   ],
   "source": [
    "isValidParentheses(\"()\")"
   ]
  },
  {
   "cell_type": "code",
   "execution_count": 23,
   "metadata": {},
   "outputs": [
    {
     "data": {
      "text/plain": [
       "True"
      ]
     },
     "execution_count": 23,
     "metadata": {},
     "output_type": "execute_result"
    }
   ],
   "source": [
    "isValidParentheses(\"()[]{}\")"
   ]
  },
  {
   "cell_type": "code",
   "execution_count": 24,
   "metadata": {},
   "outputs": [
    {
     "data": {
      "text/plain": [
       "False"
      ]
     },
     "execution_count": 24,
     "metadata": {},
     "output_type": "execute_result"
    }
   ],
   "source": [
    "isValidParentheses(\"[]](\")"
   ]
  },
  {
   "cell_type": "markdown",
   "metadata": {},
   "source": [
    "#### Complexity analysis\n",
    "\n",
    "#### Time complexity :\n",
    "O(n) because we simply traverse the given string one character at a time and push and pop operations on a stack take O(1) time.\n",
    "#### Space complexity : \n",
    "O(n) as we push all opening brackets onto the stack and in the worst case, we will end up pushing all the brackets onto the stack."
   ]
  },
  {
   "cell_type": "code",
   "execution_count": 1,
   "metadata": {},
   "outputs": [],
   "source": [
    "def hasValidParentheses(s:str) -> bool:\n",
    "    # initialize a map with closed to open bracket pairs\n",
    "    pairs = {\"}\":\"{\", \"]\":\"[\", \")\":\"(\"}\n",
    "    stack = []\n",
    "\n",
    "    # iterate through string\n",
    "    for ch in s:\n",
    "\n",
    "        # if open bracket, add to stack\n",
    "        if ch not in pairs:\n",
    "            stack.append(ch)\n",
    "\n",
    "        # if close bracket, pop the stack to check the last open bracket was the corresponding open bracket for the closed bracket\n",
    "        else:\n",
    "            open_bracket = stack.pop()\n",
    "            # if last open bracket is not the first closed bracket, return False\n",
    "            if pairs[ch] != open_bracket:\n",
    "                return False\n",
    "\n",
    "    # if correct and stack is empty at the end with all pairings popped, its valid\n",
    "    return False if stack else True\n"
   ]
  },
  {
   "cell_type": "code",
   "execution_count": 2,
   "metadata": {},
   "outputs": [
    {
     "data": {
      "text/plain": [
       "True"
      ]
     },
     "execution_count": 2,
     "metadata": {},
     "output_type": "execute_result"
    }
   ],
   "source": [
    "hasValidParentheses(\"()\")"
   ]
  },
  {
   "cell_type": "code",
   "execution_count": 3,
   "metadata": {},
   "outputs": [
    {
     "data": {
      "text/plain": [
       "True"
      ]
     },
     "execution_count": 3,
     "metadata": {},
     "output_type": "execute_result"
    }
   ],
   "source": [
    "hasValidParentheses(\"()[]{}\")"
   ]
  },
  {
   "cell_type": "code",
   "execution_count": 4,
   "metadata": {},
   "outputs": [
    {
     "data": {
      "text/plain": [
       "False"
      ]
     },
     "execution_count": 4,
     "metadata": {},
     "output_type": "execute_result"
    }
   ],
   "source": [
    "hasValidParentheses(\"(]\")"
   ]
  },
  {
   "cell_type": "code",
   "execution_count": null,
   "metadata": {},
   "outputs": [],
   "source": []
  },
  {
   "cell_type": "markdown",
   "metadata": {},
   "source": [
    "## Type: Intervals"
   ]
  },
  {
   "cell_type": "markdown",
   "metadata": {},
   "source": [
    "<img src = \"img/lc252.png\" style=\"width:550px;height:580px\"/>"
   ]
  },
  {
   "cell_type": "code",
   "execution_count": 3,
   "metadata": {},
   "outputs": [
    {
     "data": {
      "text/plain": [
       "[[1, 2], [2, 3], [3, 1]]"
      ]
     },
     "execution_count": 3,
     "metadata": {},
     "output_type": "execute_result"
    }
   ],
   "source": [
    "a = [[1,2], [3,1], [2, 3]]\n",
    "\n",
    "a.sort()\n",
    "a\n",
    "#Note: sort() on list of lists sorts by the first index of sublist"
   ]
  },
  {
   "cell_type": "code",
   "execution_count": 11,
   "metadata": {},
   "outputs": [],
   "source": [
    "class Solution:\n",
    "    def canAttendMeeting(self, intervals) -> bool:\n",
    "        \n",
    "        # sort intervals by start time\n",
    "        intervals.sort()\n",
    "        \n",
    "        # iterate over sorted intervals\n",
    "        for i in range(len(intervals) - 1): # -1 since we are comparing a pair of intervals per iteration\n",
    "            # check if end time of current is more than start time of next \n",
    "            if intervals[i][1] > intervals[i+1][0]:\n",
    "                return False\n",
    "            \n",
    "            # else continue\n",
    "            \n",
    "        # if loop completes return True\n",
    "        return True\n",
    "        "
   ]
  },
  {
   "cell_type": "code",
   "execution_count": 12,
   "metadata": {},
   "outputs": [
    {
     "data": {
      "text/plain": [
       "False"
      ]
     },
     "execution_count": 12,
     "metadata": {},
     "output_type": "execute_result"
    }
   ],
   "source": [
    "soln = Solution()\n",
    "soln.canAttendMeeting(intervals = [[0,30],[5,10],[15,20]])"
   ]
  },
  {
   "cell_type": "code",
   "execution_count": 13,
   "metadata": {},
   "outputs": [
    {
     "data": {
      "text/plain": [
       "True"
      ]
     },
     "execution_count": 13,
     "metadata": {},
     "output_type": "execute_result"
    }
   ],
   "source": [
    "soln = Solution()\n",
    "soln.canAttendMeeting(intervals = [[7,10],[2,4]])"
   ]
  },
  {
   "cell_type": "markdown",
   "metadata": {},
   "source": [
    "Time complexity : O(nlog⁡n). The time complexity is dominated by sorting. Once the array has been sorted, only O(n) time is taken to go through the array and determine if there is any overlap.\n",
    "\n",
    "Space complexity : O(1). Since no additional space is allocated."
   ]
  },
  {
   "cell_type": "code",
   "execution_count": 27,
   "metadata": {},
   "outputs": [],
   "source": [
    "\n",
    "\"\"\"\n",
    "Definition of Interval:\n",
    "\"\"\"\n",
    "class Interval(object):\n",
    "    def __init__(self, start, end):\n",
    "        self.start = start\n",
    "        self.end = end\n",
    "        \n",
    "class Solution:\n",
    "    \"\"\"\n",
    "    @param intervals: an array of meeting time intervals\n",
    "    @return: if a person could attend all meetings\n",
    "    \"\"\"\n",
    "    def can_attend_meetings(self, intervals):\n",
    "        # sort the intervals by start time\n",
    "        intervals.sort(key = lambda interval: interval.start)\n",
    "        \n",
    "        #iterate over intervals\n",
    "        for i in range(len(intervals)-1): # -1 since # intervals is less than nums\n",
    "            \n",
    "            # compare consecutive pairs and return False\n",
    "            \n",
    "            # if the intervals overlap (end time of this is later than start time of other)\n",
    "            if intervals[i].end > intervals[i+1].start:\n",
    "                return False\n",
    "        \n",
    "        return True"
   ]
  },
  {
   "cell_type": "code",
   "execution_count": 28,
   "metadata": {},
   "outputs": [
    {
     "data": {
      "text/plain": [
       "False"
      ]
     },
     "execution_count": 28,
     "metadata": {},
     "output_type": "execute_result"
    }
   ],
   "source": [
    "nums = [(5,10),(0,30),(15,20)]\n",
    "intervals = [Interval(i[0],i[-1]) for i in nums]   \n",
    "\n",
    "soln = Solution()\n",
    "soln.can_attend_meetings(intervals)"
   ]
  },
  {
   "cell_type": "code",
   "execution_count": 29,
   "metadata": {},
   "outputs": [
    {
     "data": {
      "text/plain": [
       "True"
      ]
     },
     "execution_count": 29,
     "metadata": {},
     "output_type": "execute_result"
    }
   ],
   "source": [
    "nums = [(5,8),(9,15)]\n",
    "intervals = [Interval(i[0],i[-1]) for i in nums]   \n",
    "\n",
    "soln = Solution()\n",
    "soln.can_attend_meetings(intervals)"
   ]
  },
  {
   "cell_type": "markdown",
   "metadata": {},
   "source": [
    "<img src = \"img/lc253.png\" style=\"width:550px;height:550px\"/>"
   ]
  },
  {
   "cell_type": "markdown",
   "metadata": {},
   "source": [
    "<img src = \"img/lc252f1.png\" style=\"width:500px;height:450px\"/>"
   ]
  },
  {
   "cell_type": "markdown",
   "metadata": {},
   "source": [
    "<img src = \"img/lc252f2.png\" style=\"width:500px;height:400px\"/>"
   ]
  },
  {
   "cell_type": "code",
   "execution_count": 29,
   "metadata": {},
   "outputs": [],
   "source": [
    "def minMeetingRooms(intervals):\n",
    "    # separate start and end times and sort them\n",
    "    start = sorted([i[0] for i in intervals]) # sorted for returning the list after sorting\n",
    "    end   = sorted([i[1] for i in intervals]) \n",
    "    \n",
    "    # initialize two pointers for start and end\n",
    "    start_ptr, end_ptr = 0, 0\n",
    "    \n",
    "    result = 0\n",
    "    num_rooms = 0\n",
    "    \n",
    "    length = len(intervals)\n",
    "    \n",
    "    #iterate until all meetings have been processed\n",
    "    while start_ptr < length:\n",
    "#         print(num_rooms)\n",
    "        \n",
    "        # if this meeting starts before the other ends, increment count and start ptr\n",
    "        if start[start_ptr] < end[end_ptr]:\n",
    "            start_ptr += 1\n",
    "            num_rooms += 1\n",
    "          \n",
    "        # if this meeting ends before the other starts, decrement count (room is freed up) and increment end ptr\n",
    "        else:\n",
    "            num_rooms -= 1\n",
    "            end_ptr += 1\n",
    "            \n",
    "        result = max(num_rooms, result)\n",
    "            \n",
    "    return result\n",
    "            \n",
    "        \n",
    "    \n",
    "    \n",
    "    "
   ]
  },
  {
   "cell_type": "code",
   "execution_count": 28,
   "metadata": {},
   "outputs": [
    {
     "name": "stdout",
     "output_type": "stream",
     "text": [
      "0\n",
      "1\n",
      "2\n",
      "1\n",
      "0\n"
     ]
    },
    {
     "data": {
      "text/plain": [
       "2"
      ]
     },
     "execution_count": 28,
     "metadata": {},
     "output_type": "execute_result"
    }
   ],
   "source": [
    "intervals =[[13,15],[1,13],[6,9]]\n",
    "minMeetingRooms(intervals)"
   ]
  },
  {
   "cell_type": "code",
   "execution_count": null,
   "metadata": {},
   "outputs": [],
   "source": []
  },
  {
   "cell_type": "markdown",
   "metadata": {},
   "source": [
    "<img src = \"img/q3.png\" style=\"width:600px;height:600px\"/>"
   ]
  },
  {
   "cell_type": "code",
   "execution_count": 24,
   "metadata": {},
   "outputs": [],
   "source": [
    "def insertInterval(intervals, newInterval):\n",
    "    \"\"\"\n",
    "    :param intervals: Non-overlapping intervals sorted by start time\n",
    "    :param newInterval: Start and end time of new interval that is to be inserted with or without merge\n",
    "    :return: new list of intervals\n",
    "    \"\"\"\n",
    "    output = []\n",
    "    # iterate over the intervals\n",
    "    for i in range(len(intervals)):\n",
    "\n",
    "        # Non-overlapping case: end time of new interval is less than start time of current interval\n",
    "        if (newInterval[1] < intervals[i][0]):\n",
    "            # 1. insert the interval here without any merge\n",
    "            output.append(newInterval)\n",
    "\n",
    "            # 2. return this interval with the rest of the intervals as no merge possible in this case\n",
    "            # output.extend(intervals[i:])\n",
    "            return output + intervals[i:]\n",
    "            # return output\n",
    "\n",
    "        # Non-overlapping case: start time of current interval is more than the end time of current interval\n",
    "        if (newInterval[0] > intervals[i][1]):\n",
    "            # 1. insert the current interval to output\n",
    "            output.append(intervals[i])\n",
    "\n",
    "            # check the rest of the intervals before adding new interval\n",
    "\n",
    "        # Overlapping case:\n",
    "        else:\n",
    "            # update the new Interval start time to be the min of start times of two intervals\n",
    "            # update the new Interval end time to be the max of the two intervals\n",
    "            newInterval[0] = min(intervals[i][0], newInterval[0])\n",
    "            newInterval[1] = max(intervals[i][1], newInterval[1])\n",
    "\n",
    "    # add the new Interval after iterating through all the intervals\n",
    "    output.append(newInterval)\n",
    "\n",
    "    return output"
   ]
  },
  {
   "cell_type": "code",
   "execution_count": 25,
   "metadata": {},
   "outputs": [
    {
     "data": {
      "text/plain": [
       "[[1, 3], [4, 5], [6, 9], [8, 10]]"
      ]
     },
     "execution_count": 25,
     "metadata": {},
     "output_type": "execute_result"
    }
   ],
   "source": [
    "insertInterval([[4,5],[6,9],[8,10]],[1,3])"
   ]
  },
  {
   "cell_type": "code",
   "execution_count": 26,
   "metadata": {},
   "outputs": [
    {
     "data": {
      "text/plain": [
       "[[1, 5], [6, 9]]"
      ]
     },
     "execution_count": 26,
     "metadata": {},
     "output_type": "execute_result"
    }
   ],
   "source": [
    "insertInterval([[1,3],[6,9]],[2,5])"
   ]
  },
  {
   "cell_type": "code",
   "execution_count": 27,
   "metadata": {},
   "outputs": [
    {
     "data": {
      "text/plain": [
       "[[1, 2], [3, 10], [12, 16]]"
      ]
     },
     "execution_count": 27,
     "metadata": {},
     "output_type": "execute_result"
    }
   ],
   "source": [
    "insertInterval([[1,2],[3,5],[6,7],[8,10],[12,16]],[4,8])"
   ]
  },
  {
   "cell_type": "code",
   "execution_count": null,
   "metadata": {},
   "outputs": [],
   "source": []
  },
  {
   "cell_type": "code",
   "execution_count": null,
   "metadata": {},
   "outputs": [],
   "source": [
    "def mergeIntervals(intervals):\n",
    "    output = []\n",
    "    # sort intervals by start time\n",
    "    intervals.sort(key=lambda interval: interval[0])\n",
    "\n",
    "    for i in range(len(intervals)-1):\n",
    "        # non overlapping case\n",
    "        if intervals[i][1] <intervals[i+1][0]:\n",
    "            output.append(intervals[i])\n",
    "\n",
    "        #overlapping case\n",
    "\n",
    "\n",
    "\n",
    "\n"
   ]
  },
  {
   "cell_type": "code",
   "execution_count": null,
   "metadata": {},
   "outputs": [],
   "source": []
  },
  {
   "cell_type": "markdown",
   "metadata": {},
   "source": [
    "<img src = \"img/lc238.png\" style=\"width:400px;height:500px\"/>"
   ]
  },
  {
   "cell_type": "code",
   "execution_count": 13,
   "metadata": {},
   "outputs": [],
   "source": [
    "def productExceptSelf(nums):\n",
    "    length = len(nums)\n",
    "    output = [1] * length\n",
    "    multiplier = 1\n",
    "\n",
    "    # get product of left side elems\n",
    "    for i in range(length):\n",
    "        output[i] *= multiplier\n",
    "        multiplier *= nums[i]\n",
    "\n",
    "    print(\"output left\")\n",
    "    print(output)\n",
    "\n",
    "    # get product of right side elems\n",
    "    multiplier = 1\n",
    "    for i in range(length):\n",
    "        # iterate in reverse order for right multiples\n",
    "        output[length-1-i] *= multiplier\n",
    "        multiplier *= nums[length-1-i]\n",
    "\n",
    "    print(\"output total\")\n",
    "    print(output)"
   ]
  },
  {
   "cell_type": "code",
   "execution_count": 14,
   "metadata": {},
   "outputs": [
    {
     "name": "stdout",
     "output_type": "stream",
     "text": [
      "output left\n",
      "[1, 1, 2, 6]\n",
      "output total\n",
      "[24, 12, 8, 6]\n"
     ]
    }
   ],
   "source": [
    "productExceptSelf([1,2,3,4])"
   ]
  },
  {
   "cell_type": "code",
   "execution_count": null,
   "metadata": {},
   "outputs": [],
   "source": []
  }
 ],
 "metadata": {
  "kernelspec": {
   "display_name": "Python 3 (ipykernel)",
   "language": "python",
   "name": "python3"
  },
  "language_info": {
   "codemirror_mode": {
    "name": "ipython",
    "version": 3
   },
   "file_extension": ".py",
   "mimetype": "text/x-python",
   "name": "python",
   "nbconvert_exporter": "python",
   "pygments_lexer": "ipython3",
   "version": "3.12.2"
  }
 },
 "nbformat": 4,
 "nbformat_minor": 4
}
